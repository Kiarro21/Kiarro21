{
  "cells": [
    {
      "cell_type": "markdown",
      "metadata": {
        "id": "view-in-github",
        "colab_type": "text"
      },
      "source": [
        "<a href=\"https://colab.research.google.com/github/Kiarro21/Kiarro21/blob/main/sqlite3.ipynb\" target=\"_parent\"><img src=\"https://colab.research.google.com/assets/colab-badge.svg\" alt=\"Open In Colab\"/></a>"
      ]
    },
    {
      "cell_type": "code",
      "source": [
        "import sqlite3\n",
        "\n",
        "conn = sqlite3.connect(\"mydatabase.db\")\n",
        "cursor = conn.cursor()\n",
        "\n",
        "createTB1 = \"\"\"CREATE TABLE Students\n",
        "            (number int NOT NULL,\n",
        "             fio text NOT NULL,\n",
        "             phone_number text,\n",
        "             PRIMARY KEY (number))\"\"\"\n",
        "\n",
        "createTB2 = \"\"\"CREATE TABLE Teachers\n",
        "            (number int NOT NULL,\n",
        "             fio text NOT NULL,\n",
        "             phone_number text,\n",
        "             sub_num int,\n",
        "             PRIMARY KEY (number),\n",
        "             FOREIGN KEY (sub_num) REFERENCES Subjects(sub_num))\"\"\"\n",
        "\n",
        "createTB3 = \"\"\"CREATE TABLE Subjects\n",
        "            (sub_num int,\n",
        "             name text,\n",
        "             PRIMARY KEY (sub_num))\"\"\"\n",
        " \n",
        "addData1 = \"\"\"INSERT INTO Students\n",
        "          VALUES \n",
        "          ('1', 'Аракелян', '+79182269363'),\n",
        "          ('2', 'Тлюстангелов', '+791820489120'),\n",
        "          ('3', 'Архипов', '+58673872321')\"\"\"\n",
        "\n",
        "addData2 = \"\"\"INSERT INTO Teachers\n",
        "          VALUES \n",
        "          ('1', 'Джаудат', '+67843673973', 1),\n",
        "          ('2', 'Сечина', '+63420386039', 3),\n",
        "          ('3', 'Костин', '+75485754459', 2)\"\"\"\n",
        "\n",
        "addData3 = \"\"\"INSERT INTO Subjects\n",
        "          VALUES \n",
        "          ('1', 'Алгебра'),\n",
        "          ('2', 'Философия'),\n",
        "          ('3', 'Физика')\"\"\"\n",
        "          \n",
        "cursor.execute(addData1)\n",
        "cursor.execute(addData2)\n",
        "cursor.execute(addData3)\n",
        "\n",
        "conn.commit()"
      ],
      "metadata": {
        "id": "Zn5kolOXJWp3"
      },
      "execution_count": 11,
      "outputs": []
    },
    {
      "cell_type": "code",
      "source": [
        "selectTB1 = \"\"\"SELECT *\n",
        "            FROM Students\n",
        "            \"\"\"\n",
        "\n",
        "selectTB2 = \"\"\"SELECT *\n",
        "            FROM Teachers\n",
        "            \"\"\"\n",
        "selectTB3 = \"\"\"SELECT *\n",
        "            FROM Subjects\n",
        "            \"\"\"\n",
        "\n",
        "cursor.execute(selectTB1)\n",
        "rows = cursor.fetchall()\n",
        " \n",
        "for row in rows:\n",
        "    print (row)\n",
        "print ('\\n')\n",
        "\n",
        "cursor.execute(selectTB2)\n",
        "rows = cursor.fetchall()\n",
        " \n",
        "for row in rows:\n",
        "    print (row)\n",
        "print ('\\n')\n",
        "\n",
        "\n",
        "cursor.execute(selectTB3)\n",
        "rows = cursor.fetchall()\n",
        " \n",
        "for row in rows:\n",
        "    print (row)\n",
        "print ('\\n')"
      ],
      "metadata": {
        "colab": {
          "base_uri": "https://localhost:8080/"
        },
        "id": "GXwS7D1PdQ5i",
        "outputId": "eab640ac-2be3-4051-e639-fab40f5da6aa"
      },
      "execution_count": 26,
      "outputs": [
        {
          "output_type": "stream",
          "name": "stdout",
          "text": [
            "(1, 'Аракелян', '+79182269363')\n",
            "(2, 'Тлюстангелов', '+791820489120')\n",
            "(3, 'Архипов', '+58673872321')\n",
            "\n",
            "\n",
            "(1, 'Джаудат', '+67843673973', 1)\n",
            "(2, 'Сечина', '+63420386039', 3)\n",
            "(3, 'Костин', '+75485754459', 2)\n",
            "\n",
            "\n",
            "(1, 'Алгебра')\n",
            "(2, 'Философия')\n",
            "(3, 'Физика')\n",
            "\n",
            "\n"
          ]
        }
      ]
    }
  ],
  "metadata": {
    "colab": {
      "collapsed_sections": [],
      "name": "Добро пожаловать в Colaboratory!",
      "provenance": [],
      "include_colab_link": true
    },
    "kernelspec": {
      "display_name": "Python 3",
      "name": "python3"
    }
  },
  "nbformat": 4,
  "nbformat_minor": 0
}
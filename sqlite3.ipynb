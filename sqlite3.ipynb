{
  "cells": [
    {
      "cell_type": "markdown",
      "metadata": {
        "id": "view-in-github",
        "colab_type": "text"
      },
      "source": [
        "<a href=\"https://colab.research.google.com/github/Kiarro21/Kiarro21/blob/main/sqlite3.ipynb\" target=\"_parent\"><img src=\"https://colab.research.google.com/assets/colab-badge.svg\" alt=\"Open In Colab\"/></a>"
      ]
    },
    {
      "cell_type": "code",
      "source": [
        "import sqlite3\n",
        "\n",
        "conn = sqlite3.connect(\"mydatabase.db\")\n",
        "cursor = conn.cursor()\n",
        "\n",
        "createTB1 = \"\"\"CREATE TABLE S\n",
        "            (s text NOT NULL,\n",
        "             sname text NOT NULL,\n",
        "             status text,\n",
        "             city text,\n",
        "             PRIMARY KEY (s))\"\"\"\n",
        "\n",
        "createTB2 = \"\"\"CREATE TABLE P\n",
        "            (p text NOT NULL,\n",
        "             pname text NOT NULL,\n",
        "             weight int,\n",
        "             color text,\n",
        "             city text,\n",
        "             PRIMARY KEY (p))\"\"\"\n",
        "\n",
        "createTB3 = \"\"\"CREATE TABLE SP\n",
        "            (n int NOT NULL,\n",
        "             s text NOT NULL,\n",
        "             p text NOT NULL,\n",
        "             qty int,\n",
        "             PRIMARY KEY (n),\n",
        "             FOREIGN KEY (s) REFERENCES S(s),\n",
        "             FOREIGN KEY (p) REFERENCES P(p))\"\"\"\n",
        "\n",
        "#cursor.execute(createTB1)\n",
        "#cursor.execute(createTB2)\n",
        "#cursor.execute(createTB3)\n",
        "\n",
        "addData1 = \"\"\"INSERT INTO S VALUES \n",
        "          ('S1', 'Аракелян', 'Активен', 'Майкоп'),\n",
        "          ('S2', 'Тлюстангелов', 'Не активен', 'Краснодар'),\n",
        "          ('S3', 'Архипов', 'Активен', 'Нальчик')\"\"\"\n",
        "\n",
        "addData2 = \"\"\"INSERT INTO P VALUES \n",
        "          ('P1', 'Деталь 1', 150, 'Красный', 'Сочи'),\n",
        "          ('P2', 'Деталь 2', 250, 'Синий', 'Армавир'),\n",
        "          ('P3', 'Деталь 3', 175, 'Жёлтый', 'Курганинск')\"\"\"\n",
        "\n",
        "addData3 = \"\"\"INSERT INTO SP VALUES \n",
        "          (1, 'S2', 'P3', 10),\n",
        "          (2, 'S1', 'P2', 12),\n",
        "          (3, 'S3', 'P1', 8)\"\"\"\n",
        "          \n",
        "#cursor.execute(addData1)\n",
        "#cursor.execute(addData2)\n",
        "#cursor.execute(addData3)\n",
        "\n",
        "conn.commit()"
      ],
      "metadata": {
        "id": "Zn5kolOXJWp3"
      },
      "execution_count": 68,
      "outputs": []
    },
    {
      "cell_type": "code",
      "source": [
        "selectTB1 = \"\"\"SELECT *\n",
        "            FROM S\n",
        "            \"\"\"\n",
        "\n",
        "selectTB2 = \"\"\"SELECT *\n",
        "            FROM P\n",
        "            \"\"\"\n",
        "selectTB3 = \"\"\"SELECT *\n",
        "            FROM SP\n",
        "            \"\"\"\n",
        "\n",
        "#cursor.execute(selectTB1)\n",
        "rows = cursor.fetchall()\n",
        " \n",
        "for row in rows:\n",
        "    print (row)\n",
        "print ('\\n')\n",
        "\n",
        "#cursor.execute(selectTB2)\n",
        "rows = cursor.fetchall()\n",
        " \n",
        "for row in rows:\n",
        "    print (row)\n",
        "print ('\\n')\n",
        "\n",
        "\n",
        "#cursor.execute(selectTB3)\n",
        "rows = cursor.fetchall()\n",
        " \n",
        "for row in rows:\n",
        "    print (row)\n",
        "print ('\\n')"
      ],
      "metadata": {
        "colab": {
          "base_uri": "https://localhost:8080/"
        },
        "id": "GXwS7D1PdQ5i",
        "outputId": "b01f5055-a0fd-483d-a167-4090c44c6df3"
      },
      "execution_count": 72,
      "outputs": [
        {
          "output_type": "stream",
          "name": "stdout",
          "text": [
            "\n",
            "\n",
            "\n",
            "\n",
            "\n",
            "\n"
          ]
        }
      ]
    },
    {
      "cell_type": "code",
      "source": [
        "import ipywidgets as widgets\n",
        "\n",
        "def showTables():\n",
        "  cursor.execute(\"SELECT * FROM S\")\n",
        "  for i in cursor.fetchall():\n",
        "    print(i)\n",
        "\n",
        "def tbSelect(event):\n",
        "  cursor.execute(\"SELECT * FROM '\"+tbSel.value+\"'\"\"\")\n",
        "  for i in cursor.fetchall():\n",
        "    print(i)\n",
        "\n",
        "\n",
        "\n",
        "\n",
        "tbSel = widgets.Select(\n",
        "        options=['S', 'P', 'SP'],\n",
        "        value='S',\n",
        "        rows=3,\n",
        "        description='',\n",
        "        disabled=False\n",
        ")\n",
        "display(tbSel)\n",
        "tdBtnSel = widgets.Button(description='Choose the table')\n",
        "display(tdBtnSel)\n",
        "tdBtnSel.on_click(tbSelect)\n",
        "\n"
      ],
      "metadata": {
        "colab": {
          "base_uri": "https://localhost:8080/",
          "height": 110,
          "referenced_widgets": [
            "f5d6bf4aaa8e422a91343daa77da0f64",
            "319c22ec108a47c98da0fd95e7fa49a1",
            "9b4dcc62b66f4c97ae5c121455bc8cc3",
            "e23d8473ba7b43ddbf698856b40c6ac8",
            "1c9ca71945b448a28c366dbbc3298339",
            "7d3d2cb18cd542379af0fb1908756f54"
          ]
        },
        "id": "xhZapbhXtaXF",
        "outputId": "b6bebc4a-895d-4a4b-fc91-a4d73d1812a2"
      },
      "execution_count": 91,
      "outputs": [
        {
          "output_type": "display_data",
          "data": {
            "text/plain": [
              "Select(options=('S', 'P', 'SP'), rows=3, value='S')"
            ],
            "application/vnd.jupyter.widget-view+json": {
              "version_major": 2,
              "version_minor": 0,
              "model_id": "f5d6bf4aaa8e422a91343daa77da0f64"
            }
          },
          "metadata": {}
        },
        {
          "output_type": "display_data",
          "data": {
            "text/plain": [
              "Button(description='Choose the table', style=ButtonStyle())"
            ],
            "application/vnd.jupyter.widget-view+json": {
              "version_major": 2,
              "version_minor": 0,
              "model_id": "e23d8473ba7b43ddbf698856b40c6ac8"
            }
          },
          "metadata": {}
        }
      ]
    },
    {
      "cell_type": "markdown",
      "source": [
        "1. Добавление поставщика"
      ],
      "metadata": {
        "id": "j6Kg5sSbXFfx"
      }
    },
    {
      "cell_type": "code",
      "source": [
        "def addDataS(event):\n",
        "  cursor.execute(\"INSERT INTO S VALUES (?, ?, ?, ?)\",(t1.value,t2.value,t3.value,t4.value))\n",
        "  conn.commit()\n",
        "\n",
        "\n",
        "t1 = widgets.Text(\n",
        "    value='',\n",
        "    placeholder='Type s',\n",
        "    description='Enter s:',\n",
        "    disabled=False\n",
        ")\n",
        "display(t1)\n",
        "t2 = widgets.Text(\n",
        "    value='',\n",
        "    placeholder='Type sname',\n",
        "    description='Enter sname:',\n",
        "    disabled=False\n",
        ")\n",
        "display(t2)\n",
        "t3 = widgets.Dropdown(\n",
        "    options=['Активный', 'Не активный'],\n",
        "    value='Активный',\n",
        "    description='Choose status:',\n",
        ")\n",
        "display(t3)\n",
        "t4 = widgets.Text(\n",
        "    value='',\n",
        "    placeholder='Type city',\n",
        "    description='Enter city:',\n",
        "    disabled=False\n",
        ")\n",
        "display(t4)\n",
        "\n",
        "btnAddDataS = widgets.Button(description='Add new S')\n",
        "btnAddDataS.on_click(addDataS)\n",
        "display(btnAddDataS)\n",
        "\n",
        "showTables()"
      ],
      "metadata": {
        "id": "RonlTTnPJV33",
        "outputId": "bd85d3e3-7d91-4f5e-faf1-ad4cebab8371",
        "colab": {
          "base_uri": "https://localhost:8080/",
          "height": 476,
          "referenced_widgets": [
            "e61f014c25a04918a6bdbdac56838489",
            "e8b0f586799a4f5bbbe7cb9710afb61a",
            "699b67710f8341b7bbdda18199a79215",
            "47ce90da3d8a4024aa16a09d943b8ba8",
            "54f5c294219d422ab62e01a388c2228d",
            "68f20087fe0f45c7ba0df02964b64813",
            "c88a0854ded048099a7db2e5cb8b4ce7",
            "373b5bd163fd451b8417b4bed0310d76",
            "1e78a02a48f2446f9c9014583a2f60b1",
            "82c945c968ce43e1849d0e5a8eae8f4c",
            "4f2a89639c5a4eef807195c7c2a69969",
            "c7b3e8a98c4d4c6eb140c889e77bc9ad",
            "3fa3d75d448b47feab823c4af9bcd483",
            "92eb751773e545d591fb68fe16618841",
            "23158455a14f4d93ac0004b45e2075d1"
          ]
        }
      },
      "execution_count": 92,
      "outputs": [
        {
          "output_type": "display_data",
          "data": {
            "text/plain": [
              "Text(value='', description='Enter s:', placeholder='Type s')"
            ],
            "application/vnd.jupyter.widget-view+json": {
              "version_major": 2,
              "version_minor": 0,
              "model_id": "e61f014c25a04918a6bdbdac56838489"
            }
          },
          "metadata": {}
        },
        {
          "output_type": "display_data",
          "data": {
            "text/plain": [
              "Text(value='', description='Enter sname:', placeholder='Type sname')"
            ],
            "application/vnd.jupyter.widget-view+json": {
              "version_major": 2,
              "version_minor": 0,
              "model_id": "47ce90da3d8a4024aa16a09d943b8ba8"
            }
          },
          "metadata": {}
        },
        {
          "output_type": "display_data",
          "data": {
            "text/plain": [
              "Dropdown(description='Choose status:', options=('Активный', 'Не активный'), value='Активный')"
            ],
            "application/vnd.jupyter.widget-view+json": {
              "version_major": 2,
              "version_minor": 0,
              "model_id": "c88a0854ded048099a7db2e5cb8b4ce7"
            }
          },
          "metadata": {}
        },
        {
          "output_type": "display_data",
          "data": {
            "text/plain": [
              "Text(value='', description='Enter city:', placeholder='Type city')"
            ],
            "application/vnd.jupyter.widget-view+json": {
              "version_major": 2,
              "version_minor": 0,
              "model_id": "82c945c968ce43e1849d0e5a8eae8f4c"
            }
          },
          "metadata": {}
        },
        {
          "output_type": "display_data",
          "data": {
            "text/plain": [
              "Button(description='Add new S', style=ButtonStyle())"
            ],
            "application/vnd.jupyter.widget-view+json": {
              "version_major": 2,
              "version_minor": 0,
              "model_id": "3fa3d75d448b47feab823c4af9bcd483"
            }
          },
          "metadata": {}
        },
        {
          "output_type": "error",
          "ename": "DatabaseError",
          "evalue": "ignored",
          "traceback": [
            "\u001b[0;31m---------------------------------------------------------------------------\u001b[0m",
            "\u001b[0;31mDatabaseError\u001b[0m                             Traceback (most recent call last)",
            "\u001b[0;32m<ipython-input-92-521cb8c0f0bf>\u001b[0m in \u001b[0;36m<module>\u001b[0;34m()\u001b[0m\n\u001b[1;32m     36\u001b[0m \u001b[0mdisplay\u001b[0m\u001b[0;34m(\u001b[0m\u001b[0mbtnAddDataS\u001b[0m\u001b[0;34m)\u001b[0m\u001b[0;34m\u001b[0m\u001b[0;34m\u001b[0m\u001b[0m\n\u001b[1;32m     37\u001b[0m \u001b[0;34m\u001b[0m\u001b[0m\n\u001b[0;32m---> 38\u001b[0;31m \u001b[0mshowTables\u001b[0m\u001b[0;34m(\u001b[0m\u001b[0;34m)\u001b[0m\u001b[0;34m\u001b[0m\u001b[0;34m\u001b[0m\u001b[0m\n\u001b[0m",
            "\u001b[0;32m<ipython-input-91-33e7bcf8b2de>\u001b[0m in \u001b[0;36mshowTables\u001b[0;34m()\u001b[0m\n\u001b[1;32m      2\u001b[0m \u001b[0;34m\u001b[0m\u001b[0m\n\u001b[1;32m      3\u001b[0m \u001b[0;32mdef\u001b[0m \u001b[0mshowTables\u001b[0m\u001b[0;34m(\u001b[0m\u001b[0;34m)\u001b[0m\u001b[0;34m:\u001b[0m\u001b[0;34m\u001b[0m\u001b[0;34m\u001b[0m\u001b[0m\n\u001b[0;32m----> 4\u001b[0;31m   \u001b[0mcursor\u001b[0m\u001b[0;34m.\u001b[0m\u001b[0mexecute\u001b[0m\u001b[0;34m(\u001b[0m\u001b[0;34m\"SELECT * FROM S\"\u001b[0m\u001b[0;34m)\u001b[0m\u001b[0;34m\u001b[0m\u001b[0;34m\u001b[0m\u001b[0m\n\u001b[0m\u001b[1;32m      5\u001b[0m   \u001b[0;32mfor\u001b[0m \u001b[0mi\u001b[0m \u001b[0;32min\u001b[0m \u001b[0mcursor\u001b[0m\u001b[0;34m.\u001b[0m\u001b[0mfetchall\u001b[0m\u001b[0;34m(\u001b[0m\u001b[0;34m)\u001b[0m\u001b[0;34m:\u001b[0m\u001b[0;34m\u001b[0m\u001b[0;34m\u001b[0m\u001b[0m\n\u001b[1;32m      6\u001b[0m     \u001b[0mprint\u001b[0m\u001b[0;34m(\u001b[0m\u001b[0mi\u001b[0m\u001b[0;34m)\u001b[0m\u001b[0;34m\u001b[0m\u001b[0;34m\u001b[0m\u001b[0m\n",
            "\u001b[0;31mDatabaseError\u001b[0m: database disk image is malformed"
          ]
        }
      ]
    }
  ],
  "metadata": {
    "colab": {
      "collapsed_sections": [],
      "name": "Добро пожаловать в Colaboratory!",
      "provenance": [],
      "include_colab_link": true
    },
    "kernelspec": {
      "display_name": "Python 3",
      "name": "python3"
    },
    "widgets": {
      "application/vnd.jupyter.widget-state+json": {
        "f5d6bf4aaa8e422a91343daa77da0f64": {
          "model_module": "@jupyter-widgets/controls",
          "model_name": "SelectModel",
          "model_module_version": "1.5.0",
          "state": {
            "_dom_classes": [],
            "_model_module": "@jupyter-widgets/controls",
            "_model_module_version": "1.5.0",
            "_model_name": "SelectModel",
            "_options_labels": [
              "S",
              "P",
              "SP"
            ],
            "_view_count": null,
            "_view_module": "@jupyter-widgets/controls",
            "_view_module_version": "1.5.0",
            "_view_name": "SelectView",
            "description": "",
            "description_tooltip": null,
            "disabled": false,
            "index": 0,
            "layout": "IPY_MODEL_319c22ec108a47c98da0fd95e7fa49a1",
            "rows": 3,
            "style": "IPY_MODEL_9b4dcc62b66f4c97ae5c121455bc8cc3"
          }
        },
        "319c22ec108a47c98da0fd95e7fa49a1": {
          "model_module": "@jupyter-widgets/base",
          "model_name": "LayoutModel",
          "model_module_version": "1.2.0",
          "state": {
            "_model_module": "@jupyter-widgets/base",
            "_model_module_version": "1.2.0",
            "_model_name": "LayoutModel",
            "_view_count": null,
            "_view_module": "@jupyter-widgets/base",
            "_view_module_version": "1.2.0",
            "_view_name": "LayoutView",
            "align_content": null,
            "align_items": null,
            "align_self": null,
            "border": null,
            "bottom": null,
            "display": null,
            "flex": null,
            "flex_flow": null,
            "grid_area": null,
            "grid_auto_columns": null,
            "grid_auto_flow": null,
            "grid_auto_rows": null,
            "grid_column": null,
            "grid_gap": null,
            "grid_row": null,
            "grid_template_areas": null,
            "grid_template_columns": null,
            "grid_template_rows": null,
            "height": null,
            "justify_content": null,
            "justify_items": null,
            "left": null,
            "margin": null,
            "max_height": null,
            "max_width": null,
            "min_height": null,
            "min_width": null,
            "object_fit": null,
            "object_position": null,
            "order": null,
            "overflow": null,
            "overflow_x": null,
            "overflow_y": null,
            "padding": null,
            "right": null,
            "top": null,
            "visibility": null,
            "width": null
          }
        },
        "9b4dcc62b66f4c97ae5c121455bc8cc3": {
          "model_module": "@jupyter-widgets/controls",
          "model_name": "DescriptionStyleModel",
          "model_module_version": "1.5.0",
          "state": {
            "_model_module": "@jupyter-widgets/controls",
            "_model_module_version": "1.5.0",
            "_model_name": "DescriptionStyleModel",
            "_view_count": null,
            "_view_module": "@jupyter-widgets/base",
            "_view_module_version": "1.2.0",
            "_view_name": "StyleView",
            "description_width": ""
          }
        },
        "e23d8473ba7b43ddbf698856b40c6ac8": {
          "model_module": "@jupyter-widgets/controls",
          "model_name": "ButtonModel",
          "model_module_version": "1.5.0",
          "state": {
            "_dom_classes": [],
            "_model_module": "@jupyter-widgets/controls",
            "_model_module_version": "1.5.0",
            "_model_name": "ButtonModel",
            "_view_count": null,
            "_view_module": "@jupyter-widgets/controls",
            "_view_module_version": "1.5.0",
            "_view_name": "ButtonView",
            "button_style": "",
            "description": "Choose the table",
            "disabled": false,
            "icon": "",
            "layout": "IPY_MODEL_1c9ca71945b448a28c366dbbc3298339",
            "style": "IPY_MODEL_7d3d2cb18cd542379af0fb1908756f54",
            "tooltip": ""
          }
        },
        "1c9ca71945b448a28c366dbbc3298339": {
          "model_module": "@jupyter-widgets/base",
          "model_name": "LayoutModel",
          "model_module_version": "1.2.0",
          "state": {
            "_model_module": "@jupyter-widgets/base",
            "_model_module_version": "1.2.0",
            "_model_name": "LayoutModel",
            "_view_count": null,
            "_view_module": "@jupyter-widgets/base",
            "_view_module_version": "1.2.0",
            "_view_name": "LayoutView",
            "align_content": null,
            "align_items": null,
            "align_self": null,
            "border": null,
            "bottom": null,
            "display": null,
            "flex": null,
            "flex_flow": null,
            "grid_area": null,
            "grid_auto_columns": null,
            "grid_auto_flow": null,
            "grid_auto_rows": null,
            "grid_column": null,
            "grid_gap": null,
            "grid_row": null,
            "grid_template_areas": null,
            "grid_template_columns": null,
            "grid_template_rows": null,
            "height": null,
            "justify_content": null,
            "justify_items": null,
            "left": null,
            "margin": null,
            "max_height": null,
            "max_width": null,
            "min_height": null,
            "min_width": null,
            "object_fit": null,
            "object_position": null,
            "order": null,
            "overflow": null,
            "overflow_x": null,
            "overflow_y": null,
            "padding": null,
            "right": null,
            "top": null,
            "visibility": null,
            "width": null
          }
        },
        "7d3d2cb18cd542379af0fb1908756f54": {
          "model_module": "@jupyter-widgets/controls",
          "model_name": "ButtonStyleModel",
          "model_module_version": "1.5.0",
          "state": {
            "_model_module": "@jupyter-widgets/controls",
            "_model_module_version": "1.5.0",
            "_model_name": "ButtonStyleModel",
            "_view_count": null,
            "_view_module": "@jupyter-widgets/base",
            "_view_module_version": "1.2.0",
            "_view_name": "StyleView",
            "button_color": null,
            "font_weight": ""
          }
        },
        "e61f014c25a04918a6bdbdac56838489": {
          "model_module": "@jupyter-widgets/controls",
          "model_name": "TextModel",
          "model_module_version": "1.5.0",
          "state": {
            "_dom_classes": [],
            "_model_module": "@jupyter-widgets/controls",
            "_model_module_version": "1.5.0",
            "_model_name": "TextModel",
            "_view_count": null,
            "_view_module": "@jupyter-widgets/controls",
            "_view_module_version": "1.5.0",
            "_view_name": "TextView",
            "continuous_update": true,
            "description": "Enter s:",
            "description_tooltip": null,
            "disabled": false,
            "layout": "IPY_MODEL_e8b0f586799a4f5bbbe7cb9710afb61a",
            "placeholder": "Type s",
            "style": "IPY_MODEL_699b67710f8341b7bbdda18199a79215",
            "value": ""
          }
        },
        "e8b0f586799a4f5bbbe7cb9710afb61a": {
          "model_module": "@jupyter-widgets/base",
          "model_name": "LayoutModel",
          "model_module_version": "1.2.0",
          "state": {
            "_model_module": "@jupyter-widgets/base",
            "_model_module_version": "1.2.0",
            "_model_name": "LayoutModel",
            "_view_count": null,
            "_view_module": "@jupyter-widgets/base",
            "_view_module_version": "1.2.0",
            "_view_name": "LayoutView",
            "align_content": null,
            "align_items": null,
            "align_self": null,
            "border": null,
            "bottom": null,
            "display": null,
            "flex": null,
            "flex_flow": null,
            "grid_area": null,
            "grid_auto_columns": null,
            "grid_auto_flow": null,
            "grid_auto_rows": null,
            "grid_column": null,
            "grid_gap": null,
            "grid_row": null,
            "grid_template_areas": null,
            "grid_template_columns": null,
            "grid_template_rows": null,
            "height": null,
            "justify_content": null,
            "justify_items": null,
            "left": null,
            "margin": null,
            "max_height": null,
            "max_width": null,
            "min_height": null,
            "min_width": null,
            "object_fit": null,
            "object_position": null,
            "order": null,
            "overflow": null,
            "overflow_x": null,
            "overflow_y": null,
            "padding": null,
            "right": null,
            "top": null,
            "visibility": null,
            "width": null
          }
        },
        "699b67710f8341b7bbdda18199a79215": {
          "model_module": "@jupyter-widgets/controls",
          "model_name": "DescriptionStyleModel",
          "model_module_version": "1.5.0",
          "state": {
            "_model_module": "@jupyter-widgets/controls",
            "_model_module_version": "1.5.0",
            "_model_name": "DescriptionStyleModel",
            "_view_count": null,
            "_view_module": "@jupyter-widgets/base",
            "_view_module_version": "1.2.0",
            "_view_name": "StyleView",
            "description_width": ""
          }
        },
        "47ce90da3d8a4024aa16a09d943b8ba8": {
          "model_module": "@jupyter-widgets/controls",
          "model_name": "TextModel",
          "model_module_version": "1.5.0",
          "state": {
            "_dom_classes": [],
            "_model_module": "@jupyter-widgets/controls",
            "_model_module_version": "1.5.0",
            "_model_name": "TextModel",
            "_view_count": null,
            "_view_module": "@jupyter-widgets/controls",
            "_view_module_version": "1.5.0",
            "_view_name": "TextView",
            "continuous_update": true,
            "description": "Enter sname:",
            "description_tooltip": null,
            "disabled": false,
            "layout": "IPY_MODEL_54f5c294219d422ab62e01a388c2228d",
            "placeholder": "Type sname",
            "style": "IPY_MODEL_68f20087fe0f45c7ba0df02964b64813",
            "value": ""
          }
        },
        "54f5c294219d422ab62e01a388c2228d": {
          "model_module": "@jupyter-widgets/base",
          "model_name": "LayoutModel",
          "model_module_version": "1.2.0",
          "state": {
            "_model_module": "@jupyter-widgets/base",
            "_model_module_version": "1.2.0",
            "_model_name": "LayoutModel",
            "_view_count": null,
            "_view_module": "@jupyter-widgets/base",
            "_view_module_version": "1.2.0",
            "_view_name": "LayoutView",
            "align_content": null,
            "align_items": null,
            "align_self": null,
            "border": null,
            "bottom": null,
            "display": null,
            "flex": null,
            "flex_flow": null,
            "grid_area": null,
            "grid_auto_columns": null,
            "grid_auto_flow": null,
            "grid_auto_rows": null,
            "grid_column": null,
            "grid_gap": null,
            "grid_row": null,
            "grid_template_areas": null,
            "grid_template_columns": null,
            "grid_template_rows": null,
            "height": null,
            "justify_content": null,
            "justify_items": null,
            "left": null,
            "margin": null,
            "max_height": null,
            "max_width": null,
            "min_height": null,
            "min_width": null,
            "object_fit": null,
            "object_position": null,
            "order": null,
            "overflow": null,
            "overflow_x": null,
            "overflow_y": null,
            "padding": null,
            "right": null,
            "top": null,
            "visibility": null,
            "width": null
          }
        },
        "68f20087fe0f45c7ba0df02964b64813": {
          "model_module": "@jupyter-widgets/controls",
          "model_name": "DescriptionStyleModel",
          "model_module_version": "1.5.0",
          "state": {
            "_model_module": "@jupyter-widgets/controls",
            "_model_module_version": "1.5.0",
            "_model_name": "DescriptionStyleModel",
            "_view_count": null,
            "_view_module": "@jupyter-widgets/base",
            "_view_module_version": "1.2.0",
            "_view_name": "StyleView",
            "description_width": ""
          }
        },
        "c88a0854ded048099a7db2e5cb8b4ce7": {
          "model_module": "@jupyter-widgets/controls",
          "model_name": "DropdownModel",
          "model_module_version": "1.5.0",
          "state": {
            "_dom_classes": [],
            "_model_module": "@jupyter-widgets/controls",
            "_model_module_version": "1.5.0",
            "_model_name": "DropdownModel",
            "_options_labels": [
              "Активный",
              "Не активный"
            ],
            "_view_count": null,
            "_view_module": "@jupyter-widgets/controls",
            "_view_module_version": "1.5.0",
            "_view_name": "DropdownView",
            "description": "Choose status:",
            "description_tooltip": null,
            "disabled": false,
            "index": 0,
            "layout": "IPY_MODEL_373b5bd163fd451b8417b4bed0310d76",
            "style": "IPY_MODEL_1e78a02a48f2446f9c9014583a2f60b1"
          }
        },
        "373b5bd163fd451b8417b4bed0310d76": {
          "model_module": "@jupyter-widgets/base",
          "model_name": "LayoutModel",
          "model_module_version": "1.2.0",
          "state": {
            "_model_module": "@jupyter-widgets/base",
            "_model_module_version": "1.2.0",
            "_model_name": "LayoutModel",
            "_view_count": null,
            "_view_module": "@jupyter-widgets/base",
            "_view_module_version": "1.2.0",
            "_view_name": "LayoutView",
            "align_content": null,
            "align_items": null,
            "align_self": null,
            "border": null,
            "bottom": null,
            "display": null,
            "flex": null,
            "flex_flow": null,
            "grid_area": null,
            "grid_auto_columns": null,
            "grid_auto_flow": null,
            "grid_auto_rows": null,
            "grid_column": null,
            "grid_gap": null,
            "grid_row": null,
            "grid_template_areas": null,
            "grid_template_columns": null,
            "grid_template_rows": null,
            "height": null,
            "justify_content": null,
            "justify_items": null,
            "left": null,
            "margin": null,
            "max_height": null,
            "max_width": null,
            "min_height": null,
            "min_width": null,
            "object_fit": null,
            "object_position": null,
            "order": null,
            "overflow": null,
            "overflow_x": null,
            "overflow_y": null,
            "padding": null,
            "right": null,
            "top": null,
            "visibility": null,
            "width": null
          }
        },
        "1e78a02a48f2446f9c9014583a2f60b1": {
          "model_module": "@jupyter-widgets/controls",
          "model_name": "DescriptionStyleModel",
          "model_module_version": "1.5.0",
          "state": {
            "_model_module": "@jupyter-widgets/controls",
            "_model_module_version": "1.5.0",
            "_model_name": "DescriptionStyleModel",
            "_view_count": null,
            "_view_module": "@jupyter-widgets/base",
            "_view_module_version": "1.2.0",
            "_view_name": "StyleView",
            "description_width": ""
          }
        },
        "82c945c968ce43e1849d0e5a8eae8f4c": {
          "model_module": "@jupyter-widgets/controls",
          "model_name": "TextModel",
          "model_module_version": "1.5.0",
          "state": {
            "_dom_classes": [],
            "_model_module": "@jupyter-widgets/controls",
            "_model_module_version": "1.5.0",
            "_model_name": "TextModel",
            "_view_count": null,
            "_view_module": "@jupyter-widgets/controls",
            "_view_module_version": "1.5.0",
            "_view_name": "TextView",
            "continuous_update": true,
            "description": "Enter city:",
            "description_tooltip": null,
            "disabled": false,
            "layout": "IPY_MODEL_4f2a89639c5a4eef807195c7c2a69969",
            "placeholder": "Type city",
            "style": "IPY_MODEL_c7b3e8a98c4d4c6eb140c889e77bc9ad",
            "value": ""
          }
        },
        "4f2a89639c5a4eef807195c7c2a69969": {
          "model_module": "@jupyter-widgets/base",
          "model_name": "LayoutModel",
          "model_module_version": "1.2.0",
          "state": {
            "_model_module": "@jupyter-widgets/base",
            "_model_module_version": "1.2.0",
            "_model_name": "LayoutModel",
            "_view_count": null,
            "_view_module": "@jupyter-widgets/base",
            "_view_module_version": "1.2.0",
            "_view_name": "LayoutView",
            "align_content": null,
            "align_items": null,
            "align_self": null,
            "border": null,
            "bottom": null,
            "display": null,
            "flex": null,
            "flex_flow": null,
            "grid_area": null,
            "grid_auto_columns": null,
            "grid_auto_flow": null,
            "grid_auto_rows": null,
            "grid_column": null,
            "grid_gap": null,
            "grid_row": null,
            "grid_template_areas": null,
            "grid_template_columns": null,
            "grid_template_rows": null,
            "height": null,
            "justify_content": null,
            "justify_items": null,
            "left": null,
            "margin": null,
            "max_height": null,
            "max_width": null,
            "min_height": null,
            "min_width": null,
            "object_fit": null,
            "object_position": null,
            "order": null,
            "overflow": null,
            "overflow_x": null,
            "overflow_y": null,
            "padding": null,
            "right": null,
            "top": null,
            "visibility": null,
            "width": null
          }
        },
        "c7b3e8a98c4d4c6eb140c889e77bc9ad": {
          "model_module": "@jupyter-widgets/controls",
          "model_name": "DescriptionStyleModel",
          "model_module_version": "1.5.0",
          "state": {
            "_model_module": "@jupyter-widgets/controls",
            "_model_module_version": "1.5.0",
            "_model_name": "DescriptionStyleModel",
            "_view_count": null,
            "_view_module": "@jupyter-widgets/base",
            "_view_module_version": "1.2.0",
            "_view_name": "StyleView",
            "description_width": ""
          }
        },
        "3fa3d75d448b47feab823c4af9bcd483": {
          "model_module": "@jupyter-widgets/controls",
          "model_name": "ButtonModel",
          "model_module_version": "1.5.0",
          "state": {
            "_dom_classes": [],
            "_model_module": "@jupyter-widgets/controls",
            "_model_module_version": "1.5.0",
            "_model_name": "ButtonModel",
            "_view_count": null,
            "_view_module": "@jupyter-widgets/controls",
            "_view_module_version": "1.5.0",
            "_view_name": "ButtonView",
            "button_style": "",
            "description": "Add new S",
            "disabled": false,
            "icon": "",
            "layout": "IPY_MODEL_92eb751773e545d591fb68fe16618841",
            "style": "IPY_MODEL_23158455a14f4d93ac0004b45e2075d1",
            "tooltip": ""
          }
        },
        "92eb751773e545d591fb68fe16618841": {
          "model_module": "@jupyter-widgets/base",
          "model_name": "LayoutModel",
          "model_module_version": "1.2.0",
          "state": {
            "_model_module": "@jupyter-widgets/base",
            "_model_module_version": "1.2.0",
            "_model_name": "LayoutModel",
            "_view_count": null,
            "_view_module": "@jupyter-widgets/base",
            "_view_module_version": "1.2.0",
            "_view_name": "LayoutView",
            "align_content": null,
            "align_items": null,
            "align_self": null,
            "border": null,
            "bottom": null,
            "display": null,
            "flex": null,
            "flex_flow": null,
            "grid_area": null,
            "grid_auto_columns": null,
            "grid_auto_flow": null,
            "grid_auto_rows": null,
            "grid_column": null,
            "grid_gap": null,
            "grid_row": null,
            "grid_template_areas": null,
            "grid_template_columns": null,
            "grid_template_rows": null,
            "height": null,
            "justify_content": null,
            "justify_items": null,
            "left": null,
            "margin": null,
            "max_height": null,
            "max_width": null,
            "min_height": null,
            "min_width": null,
            "object_fit": null,
            "object_position": null,
            "order": null,
            "overflow": null,
            "overflow_x": null,
            "overflow_y": null,
            "padding": null,
            "right": null,
            "top": null,
            "visibility": null,
            "width": null
          }
        },
        "23158455a14f4d93ac0004b45e2075d1": {
          "model_module": "@jupyter-widgets/controls",
          "model_name": "ButtonStyleModel",
          "model_module_version": "1.5.0",
          "state": {
            "_model_module": "@jupyter-widgets/controls",
            "_model_module_version": "1.5.0",
            "_model_name": "ButtonStyleModel",
            "_view_count": null,
            "_view_module": "@jupyter-widgets/base",
            "_view_module_version": "1.2.0",
            "_view_name": "StyleView",
            "button_color": null,
            "font_weight": ""
          }
        }
      }
    }
  },
  "nbformat": 4,
  "nbformat_minor": 0
}
{
  "cells": [
    {
      "cell_type": "markdown",
      "metadata": {
        "id": "view-in-github",
        "colab_type": "text"
      },
      "source": [
        "<a href=\"https://colab.research.google.com/github/Kiarro21/Kiarro21/blob/main/sqlite3.ipynb\" target=\"_parent\"><img src=\"https://colab.research.google.com/assets/colab-badge.svg\" alt=\"Open In Colab\"/></a>"
      ]
    },
    {
      "cell_type": "code",
      "source": [
        "import sqlite3\n",
        "\n",
        "conn = sqlite3.connect(\"mydatabase.db\")\n",
        "cursor = conn.cursor()\n",
        "\n",
        "createTB1 = \"\"\"CREATE TABLE IF NOT EXISTS S\n",
        "            (s text NOT NULL,\n",
        "             sname text NOT NULL,\n",
        "             status int,\n",
        "             city text,\n",
        "             PRIMARY KEY (s))\"\"\"\n",
        "\n",
        "createTB2 = \"\"\"CREATE TABLE IF NOT EXISTS P\n",
        "            (p text NOT NULL,\n",
        "             pname text NOT NULL,\n",
        "             weight int,\n",
        "             color text,\n",
        "             city text,\n",
        "             PRIMARY KEY (p))\"\"\"\n",
        "\n",
        "createTB3 = \"\"\"CREATE TABLE IF NOT EXISTS SP\n",
        "            (n int NOT NULL,\n",
        "             s text NOT NULL,\n",
        "             p text NOT NULL,\n",
        "             qty int,\n",
        "             PRIMARY KEY (n),\n",
        "             FOREIGN KEY (s) REFERENCES S(s),\n",
        "             FOREIGN KEY (p) REFERENCES P(p))\"\"\"\n",
        "\n",
        "cursor.execute(createTB1)\n",
        "cursor.execute(createTB2)\n",
        "cursor.execute(createTB3)\n",
        "\n",
        "addData1 = \"\"\"INSERT INTO S VALUES \n",
        "          ('S1', 'Аракелян', 20, 'Майкоп'),\n",
        "          ('S2', 'Тлюстангелов', 15, 'Краснодар'),\n",
        "          ('S3', 'Архипов', 30, 'Нальчик')\"\"\"\n",
        "\n",
        "addData2 = \"\"\"INSERT INTO P VALUES \n",
        "          ('P1', 'Деталь 1', 150, 'Красный', 'Сочи'),\n",
        "          ('P2', 'Деталь 2', 250, 'Синий', 'Армавир'),\n",
        "          ('P3', 'Деталь 3', 175, 'Жёлтый', 'Курганинск')\"\"\"\n",
        "\n",
        "addData3 = \"\"\"INSERT INTO SP VALUES \n",
        "          (1, 'S2', 'P3', 10),\n",
        "          (2, 'S1', 'P2', 12),\n",
        "          (3, 'S3', 'P1', 8)\"\"\"\n",
        "          \n",
        "cursor.execute(addData1)\n",
        "cursor.execute(addData2)\n",
        "cursor.execute(addData3)\n",
        "\n",
        "conn.commit()"
      ],
      "metadata": {
        "id": "Zn5kolOXJWp3"
      },
      "execution_count": 1,
      "outputs": []
    },
    {
      "cell_type": "code",
      "source": [
        "selectTB1 = \"\"\"SELECT *\n",
        "            FROM S\n",
        "            \"\"\"\n",
        "\n",
        "selectTB2 = \"\"\"SELECT *\n",
        "            FROM P\n",
        "            \"\"\"\n",
        "selectTB3 = \"\"\"SELECT *\n",
        "            FROM SP\n",
        "            \"\"\"\n",
        "\n",
        "cursor.execute(selectTB1)\n",
        "rows = cursor.fetchall()\n",
        " \n",
        "for row in rows:\n",
        "    print (row)\n",
        "print ('\\n')\n",
        "\n",
        "cursor.execute(selectTB2)\n",
        "rows = cursor.fetchall()\n",
        " \n",
        "for row in rows:\n",
        "    print (row)\n",
        "print ('\\n')\n",
        "\n",
        "\n",
        "cursor.execute(selectTB3)\n",
        "rows = cursor.fetchall()\n",
        " \n",
        "for row in rows:\n",
        "    print (row)\n",
        "print ('\\n')"
      ],
      "metadata": {
        "colab": {
          "base_uri": "https://localhost:8080/"
        },
        "id": "GXwS7D1PdQ5i",
        "outputId": "612d8f4b-b505-4e71-9f50-714fbb3da447"
      },
      "execution_count": 27,
      "outputs": [
        {
          "output_type": "stream",
          "name": "stdout",
          "text": [
            "('S1', 'Аракелян', 20, 'Майкоп')\n",
            "('S2', 'Тлюстангелов', 15, 'Краснодар')\n",
            "('S3', 'Архипов', 30, 'Нальчик')\n",
            "('S4', 'Жоумаа', 15, 'Домаск')\n",
            "\n",
            "\n",
            "('P1', 'Деталь 1', 150, 'Красный', 'Сочи')\n",
            "('P2', 'Деталь 2', 250, 'Синий', 'Армавир')\n",
            "('P3', 'Деталь 3', 175, 'Жёлтый', 'Курганинск')\n",
            "\n",
            "\n",
            "(1, 'S2', 'P3', 10)\n",
            "(2, 'S1', 'P2', 12)\n",
            "(3, 'S3', 'P1', 8)\n",
            "\n",
            "\n"
          ]
        }
      ]
    },
    {
      "cell_type": "code",
      "source": [
        "import ipywidgets as widgets\n",
        "\n",
        "cursor.execute(\"SELECT s FROM S\")\n",
        "sList = cursor.fetchall()\n",
        "sCount = len(sList)\n",
        "\n",
        "\n",
        "def tbSelect(event):\n",
        "  cursor.execute(\"SELECT * FROM '\"+tbSel.value+\"'\")\n",
        "  for i in cursor.fetchall():\n",
        "    print(i)\n",
        "  print ('\\n')\n",
        "\n",
        "def showTables():\n",
        "  display(tbSel)\n",
        "  tdBtnSel = widgets.Button(description='Choose the table')\n",
        "  display(tdBtnSel)\n",
        "  tdBtnSel.on_click(tbSelect) \n",
        "\n",
        "tbSel = widgets.Select(\n",
        "        options=['S', 'P', 'SP'],\n",
        "        value='S',\n",
        "        rows=3,\n",
        "        description='',\n",
        "        disabled=False)\n"
      ],
      "metadata": {
        "id": "cIiVX4D3rxBm"
      },
      "execution_count": 19,
      "outputs": []
    },
    {
      "cell_type": "markdown",
      "source": [
        "**1. Добавление поставщика**"
      ],
      "metadata": {
        "id": "j6Kg5sSbXFfx"
      }
    },
    {
      "cell_type": "code",
      "source": [
        "def cleanP():\n",
        "  t1.value = 'S'+str(sCount+1)\n",
        "  t2.value = ''\n",
        "  t3.value = ''\n",
        "  t4.value = ''\n",
        "  \n",
        "def sListUpdate():\n",
        "  cursor.execute(\"SELECT s FROM S\")\n",
        "  sList = cursor.fetchall()\n",
        "  sCount = len(sList)\n",
        "\n",
        "sListUpdate()\n",
        "\n",
        "def addDataS(event):\n",
        "  if t1.value in (i[0] for i in sList):\n",
        "    print('Поставщик с таким номером есть, попробуйте снова!')\n",
        "  else:  \n",
        "    cursor.executemany(\"INSERT INTO S VALUES (?, ?, ?, ?)\",[(t1.value,t2.value,int(t3.value),t4.value,)])\n",
        "    conn.commit()\n",
        "    sListUpdate()\n",
        "    cleanP()\n",
        "    showTables()\n",
        "\n",
        "cursor.execute(\"SELECT s FROM S\")\n",
        "sList = cursor.fetchall()\n",
        "sCount = len(sList)\n",
        "\n",
        "t1 = widgets.Text(\n",
        "    value='S'+str(sCount+1),\n",
        "    placeholder='Type s',\n",
        "    description='Enter s:',\n",
        "    disabled=False\n",
        ")\n",
        "display(t1)\n",
        "t2 = widgets.Text(\n",
        "    value='',\n",
        "    placeholder='Type sname',\n",
        "    description='Enter sname:',\n",
        "    disabled=False\n",
        ")\n",
        "display(t2)\n",
        "t3 = widgets.Text(\n",
        "    value='0',\n",
        "    placeholder='Enter status',\n",
        "    description='Enter status:',\n",
        "    disabled=False\n",
        ")\n",
        "display(t3)\n",
        "t4 = widgets.Text(\n",
        "    value='',\n",
        "    placeholder='Type city',\n",
        "    description='Enter city:',\n",
        "    disabled=False\n",
        ")\n",
        "display(t4)\n",
        "\n",
        "\n",
        "btnAddDataS = widgets.Button(description='Add new S')\n",
        "btnAddDataS.on_click(addDataS)\n",
        "display(btnAddDataS)\n",
        "\n",
        "\n"
      ],
      "metadata": {
        "id": "RonlTTnPJV33",
        "outputId": "3f281425-91a4-450f-dbac-0eaf5d0a2b8b",
        "colab": {
          "base_uri": "https://localhost:8080/",
          "height": 393,
          "referenced_widgets": [
            "f1a1032d54904773a9d0207e4d201b37",
            "83fe58c8b4f84aeb96e2c7b909ccf833",
            "f9e781dcdbea4f5398dddba1b29643ba",
            "597f4b6c124c43e182a6ec9c93e4e1a7",
            "1cf1d9095c9e4b25b0886a03297a0da9",
            "9a46cff347334b0dafcc788c9e14dc65",
            "9cda81213de8473ca3d95d2c5100531f",
            "cab00f2b9c09412db3b4662027465f44",
            "cae8825dab84432588f897806929b9cf",
            "34cdc26c8cbf47d48626d765e6748727",
            "395481879d4e4a6fa8619e6242d7dbf1",
            "765e391166024eb6921f671296619745",
            "25f28088700745bf8e3c0ed1552c8cfe",
            "ce414ba394c5429e93b2bd1646503f45",
            "b9ce6913b8b3484f81008fd647256c16",
            "a244616fd81341619a4b66da6c94c29c",
            "afeb52915d9f49fb9ad57ba4280393a9",
            "c8c9141ad7084deb9bb787a2c6bf79c9",
            "e22c02dec53b4202b4a60214bb57891a",
            "fab1f0bb848a4cc0ba42c431778fde5e",
            "7ae08b67ea684c90a6e32499d20113f9"
          ]
        }
      },
      "execution_count": 26,
      "outputs": [
        {
          "output_type": "display_data",
          "data": {
            "text/plain": [
              "Text(value='S5', description='Enter s:', placeholder='Type s')"
            ],
            "application/vnd.jupyter.widget-view+json": {
              "version_major": 2,
              "version_minor": 0,
              "model_id": "f1a1032d54904773a9d0207e4d201b37"
            }
          },
          "metadata": {}
        },
        {
          "output_type": "display_data",
          "data": {
            "text/plain": [
              "Text(value='', description='Enter sname:', placeholder='Type sname')"
            ],
            "application/vnd.jupyter.widget-view+json": {
              "version_major": 2,
              "version_minor": 0,
              "model_id": "597f4b6c124c43e182a6ec9c93e4e1a7"
            }
          },
          "metadata": {}
        },
        {
          "output_type": "display_data",
          "data": {
            "text/plain": [
              "Text(value='0', description='Enter status:', placeholder='Enter status')"
            ],
            "application/vnd.jupyter.widget-view+json": {
              "version_major": 2,
              "version_minor": 0,
              "model_id": "9cda81213de8473ca3d95d2c5100531f"
            }
          },
          "metadata": {}
        },
        {
          "output_type": "display_data",
          "data": {
            "text/plain": [
              "Text(value='', description='Enter city:', placeholder='Type city')"
            ],
            "application/vnd.jupyter.widget-view+json": {
              "version_major": 2,
              "version_minor": 0,
              "model_id": "34cdc26c8cbf47d48626d765e6748727"
            }
          },
          "metadata": {}
        },
        {
          "output_type": "display_data",
          "data": {
            "text/plain": [
              "Button(description='Add new S', style=ButtonStyle())"
            ],
            "application/vnd.jupyter.widget-view+json": {
              "version_major": 2,
              "version_minor": 0,
              "model_id": "25f28088700745bf8e3c0ed1552c8cfe"
            }
          },
          "metadata": {}
        },
        {
          "output_type": "display_data",
          "data": {
            "text/plain": [
              "Select(options=('S', 'P', 'SP'), rows=3, value='S')"
            ],
            "application/vnd.jupyter.widget-view+json": {
              "version_major": 2,
              "version_minor": 0,
              "model_id": "a244616fd81341619a4b66da6c94c29c"
            }
          },
          "metadata": {}
        },
        {
          "output_type": "display_data",
          "data": {
            "text/plain": [
              "Button(description='Choose the table', style=ButtonStyle())"
            ],
            "application/vnd.jupyter.widget-view+json": {
              "version_major": 2,
              "version_minor": 0,
              "model_id": "e22c02dec53b4202b4a60214bb57891a"
            }
          },
          "metadata": {}
        },
        {
          "output_type": "stream",
          "name": "stdout",
          "text": [
            "('S1', 'Аракелян', 20, 'Майкоп')\n",
            "('S2', 'Тлюстангелов', 15, 'Краснодар')\n",
            "('S3', 'Архипов', 30, 'Нальчик')\n",
            "('S4', 'Жоумаа', 15, 'Домаск')\n",
            "('S5', 'Джаудат', 25, 'Майкоп')\n",
            "\n",
            "\n"
          ]
        }
      ]
    },
    {
      "cell_type": "markdown",
      "source": [
        "**2. Удаление поставщика**"
      ],
      "metadata": {
        "id": "rs0Fso_STfKB"
      }
    },
    {
      "cell_type": "code",
      "source": [
        "def updateChoose():\n",
        "  sListUpdate()\n",
        "  sListWid.value = [i[0] for i in sList]\n",
        "  sCount -= 1\n",
        "\n",
        "sListUpdate()\n",
        "\n",
        "def deleteS(event):\n",
        "  cursor.executemany('DELETE FROM S WHERE s=(?)', [(sListWid.value,)])\n",
        "  conn.commit()\n",
        "  updateChoose()\n",
        "  showTables()\n",
        "\n",
        "sListWid = widgets.Dropdown(\n",
        "    options=[i[0] for i in sList],\n",
        "    description='Choose S:',\n",
        ")\n",
        "display(sListWid)\n",
        "\n",
        "btnDeleteS = widgets.Button(description='Delete S')\n",
        "btnDeleteS.on_click(deleteS)\n",
        "display(btnDeleteS)"
      ],
      "metadata": {
        "colab": {
          "base_uri": "https://localhost:8080/",
          "height": 81,
          "referenced_widgets": [
            "4bd626c78e194c3eb86598a3b5c13324",
            "5be699698d3d4ecca263b1b61acb8941",
            "9d6f41847e244c94b97f186a9f01c7fd",
            "b064df2eb9474fbeba4d5e408fe0dbe8",
            "d3cf0d0e30904d7c91f50212c5739ccd",
            "edc0ae8e4dd74031b0fc9a20c8dbe8bf"
          ]
        },
        "id": "oidQ_HN5TmjY",
        "outputId": "d99ee486-8fde-4b2c-ebad-71a7055c06ec"
      },
      "execution_count": 29,
      "outputs": [
        {
          "output_type": "display_data",
          "data": {
            "text/plain": [
              "Dropdown(description='Choose S:', options=('S1', 'S2', 'S3', 'S4'), value='S1')"
            ],
            "application/vnd.jupyter.widget-view+json": {
              "version_major": 2,
              "version_minor": 0,
              "model_id": "4bd626c78e194c3eb86598a3b5c13324"
            }
          },
          "metadata": {}
        },
        {
          "output_type": "display_data",
          "data": {
            "text/plain": [
              "Button(description='Delete S', style=ButtonStyle())"
            ],
            "application/vnd.jupyter.widget-view+json": {
              "version_major": 2,
              "version_minor": 0,
              "model_id": "b064df2eb9474fbeba4d5e408fe0dbe8"
            }
          },
          "metadata": {}
        }
      ]
    },
    {
      "cell_type": "markdown",
      "source": [
        "**3. Обновление данных о поставщике**"
      ],
      "metadata": {
        "id": "JfnojcTmWlhx"
      }
    },
    {
      "cell_type": "code",
      "source": [
        "sListUpdate()\n",
        "\n",
        "def ChooseS(event):\n",
        "  display(c1)\n",
        "  display(c2)\n",
        "  display(c3)\n",
        "  btnU = widgets.Button(description='Choose S')\n",
        "  btnU.on_click(updateS)\n",
        "  display(btnU) \n",
        "\n",
        "def updateS(event):\n",
        "  cursor.execute(\"UPDATE S SET sname='\"+c1.value+\"', status='\"+c2.value+\"', city='\"+c3.value+\"' WHERE s = '\"+sListWid.value+\"'\")\n",
        "  conn.commit()\n",
        "  showTables()\n",
        "\n",
        "cursor.execute(\"SELECT s FROM S\")\n",
        "sList = cursor.fetchall()\n",
        "sListWid = widgets.Dropdown(\n",
        "    options=[i[0] for i in sList],\n",
        "    description='Choose S:',\n",
        ")\n",
        "display(sListWid)\n",
        "\n",
        "\n",
        "c1 = widgets.Text(\n",
        "    value='',\n",
        "    placeholder='Enter sname',\n",
        "    description='Change sname:',\n",
        "    disabled=False\n",
        ")\n",
        "c2 = widgets.Text(\n",
        "    value='',\n",
        "    placeholder='Enter status',\n",
        "    description='Change status:',\n",
        "    disabled=False\n",
        ")\n",
        "c3 = widgets.Text(\n",
        "    value='',\n",
        "    placeholder='Enter city',\n",
        "    description='Change city:',\n",
        "    disabled=False\n",
        ") \n",
        "\n",
        "btnS = widgets.Button(description='Choose S')\n",
        "btnS.on_click(ChooseS)\n",
        "display(btnS)"
      ],
      "metadata": {
        "colab": {
          "base_uri": "https://localhost:8080/",
          "height": 81,
          "referenced_widgets": [
            "98392863fe994db6828e86bdf7800042",
            "493d68d3ca2e47ca8731a3ea4072115d",
            "05cf01fac904405f9db751e86774faac",
            "241e8560ccae49d48acd9f419735892f",
            "6990a4998ebc4cc6b748210be76e48f5",
            "9f197c6b54564a85a5bc67e33b0ff80d"
          ]
        },
        "id": "R22KdlrAWmzd",
        "outputId": "91c50956-9a7a-4704-d456-ee03c182ed96"
      },
      "execution_count": 30,
      "outputs": [
        {
          "output_type": "display_data",
          "data": {
            "text/plain": [
              "Dropdown(description='Choose S:', options=('S1', 'S2', 'S3', 'S4', 'S5'), value='S1')"
            ],
            "application/vnd.jupyter.widget-view+json": {
              "version_major": 2,
              "version_minor": 0,
              "model_id": "98392863fe994db6828e86bdf7800042"
            }
          },
          "metadata": {}
        },
        {
          "output_type": "display_data",
          "data": {
            "text/plain": [
              "Button(description='Choose S', style=ButtonStyle())"
            ],
            "application/vnd.jupyter.widget-view+json": {
              "version_major": 2,
              "version_minor": 0,
              "model_id": "241e8560ccae49d48acd9f419735892f"
            }
          },
          "metadata": {}
        }
      ]
    },
    {
      "cell_type": "markdown",
      "source": [
        "**4. Добавление поставки**"
      ],
      "metadata": {
        "id": "M2nNY2VTdtFJ"
      }
    },
    {
      "cell_type": "code",
      "source": [
        "sListUpdate()\n",
        "\n",
        "def addDataP(event):\n",
        "  cursor.executemany(\"INSERT INTO P VALUES (?, ?, ?, ?, ?)\",[(p1.value,p2.value,p3.value,p4.value,p5.value)])\n",
        "  conn.commit()\n",
        "  showTables()\n",
        "\n",
        "\n",
        "p1 = widgets.Text(\n",
        "    value='',\n",
        "    placeholder='Type p',\n",
        "    description='Enter p:',\n",
        "    disabled=False\n",
        ")\n",
        "display(p1)\n",
        "p2 = widgets.Text(\n",
        "    value='',\n",
        "    placeholder='Type pname',\n",
        "    description='Enter pname:',\n",
        "    disabled=False\n",
        ")\n",
        "display(p2)\n",
        "p3 = widgets.IntText(\n",
        "    value=0,\n",
        "    description='Weight:',\n",
        "    disabled=False\n",
        ")\n",
        "display(p3)\n",
        "p4 = widgets.Text(\n",
        "    value='',\n",
        "    placeholder='Type color',\n",
        "    description='Enter color:',\n",
        "    disabled=False\n",
        ")\n",
        "display(p4)\n",
        "p5 = widgets.Text(\n",
        "    value='',\n",
        "    placeholder='Type city',\n",
        "    description='Enter city:',\n",
        "    disabled=False\n",
        ")\n",
        "display(p5)\n",
        "\n",
        "btnAddDataP = widgets.Button(description='Add new P')\n",
        "btnAddDataP.on_click(addDataP)\n",
        "display(btnAddDataP)"
      ],
      "metadata": {
        "colab": {
          "base_uri": "https://localhost:8080/",
          "height": 203,
          "referenced_widgets": [
            "b286f18c6e0f4f399bcfee493d6d49dd",
            "285026a49bae467bbc77e10725603968",
            "9b1100d60bbb4d03bb8503fe8d342072",
            "2c4640bb72064c21a4df63b7a40e08ac",
            "56811d70389f48a89be775b0d220cf82",
            "d0111819b1bf46a1849374dd7d7733f0",
            "5a4136308ec848b4b2ecefc5f3f9b12f",
            "a8c1c626e53442c98286766e83392772",
            "83df8a94a90b4ad7bb3b812b1854293d",
            "4ad4aa34de2c43a7a7a9229274868b9e",
            "ffc2add1a1a74a2bb92f9ecaed973f6c",
            "fa496e05f9e34eb98f763349a5258a76",
            "cf75e749d05f4f1c977f99f145d14496",
            "c76ef2fc63ab4f238747dbe4f63c3aac",
            "962b74b1a57249939fbe303370a97d5e",
            "b68cc2143868494baf1b3a19fcbf6910",
            "38249278556543f19d49744587fd7c25",
            "4f39edbdd2af4007998c622076227d7f"
          ]
        },
        "id": "p5g8iy_fduZB",
        "outputId": "231bfbad-2555-448c-9040-a81fa2bbeaeb"
      },
      "execution_count": 31,
      "outputs": [
        {
          "output_type": "display_data",
          "data": {
            "text/plain": [
              "Text(value='', description='Enter p:', placeholder='Type p')"
            ],
            "application/vnd.jupyter.widget-view+json": {
              "version_major": 2,
              "version_minor": 0,
              "model_id": "b286f18c6e0f4f399bcfee493d6d49dd"
            }
          },
          "metadata": {}
        },
        {
          "output_type": "display_data",
          "data": {
            "text/plain": [
              "Text(value='', description='Enter pname:', placeholder='Type pname')"
            ],
            "application/vnd.jupyter.widget-view+json": {
              "version_major": 2,
              "version_minor": 0,
              "model_id": "2c4640bb72064c21a4df63b7a40e08ac"
            }
          },
          "metadata": {}
        },
        {
          "output_type": "display_data",
          "data": {
            "text/plain": [
              "IntText(value=0, description='Weight:')"
            ],
            "application/vnd.jupyter.widget-view+json": {
              "version_major": 2,
              "version_minor": 0,
              "model_id": "5a4136308ec848b4b2ecefc5f3f9b12f"
            }
          },
          "metadata": {}
        },
        {
          "output_type": "display_data",
          "data": {
            "text/plain": [
              "Text(value='', description='Enter color:', placeholder='Type color')"
            ],
            "application/vnd.jupyter.widget-view+json": {
              "version_major": 2,
              "version_minor": 0,
              "model_id": "4ad4aa34de2c43a7a7a9229274868b9e"
            }
          },
          "metadata": {}
        },
        {
          "output_type": "display_data",
          "data": {
            "text/plain": [
              "Text(value='', description='Enter city:', placeholder='Type city')"
            ],
            "application/vnd.jupyter.widget-view+json": {
              "version_major": 2,
              "version_minor": 0,
              "model_id": "cf75e749d05f4f1c977f99f145d14496"
            }
          },
          "metadata": {}
        },
        {
          "output_type": "display_data",
          "data": {
            "text/plain": [
              "Button(description='Add new P', style=ButtonStyle())"
            ],
            "application/vnd.jupyter.widget-view+json": {
              "version_major": 2,
              "version_minor": 0,
              "model_id": "b68cc2143868494baf1b3a19fcbf6910"
            }
          },
          "metadata": {}
        }
      ]
    },
    {
      "cell_type": "markdown",
      "source": [
        "**5. Для поставщика выдать список деталей, которые он поставляет**"
      ],
      "metadata": {
        "id": "m_pkXzpwfPEZ"
      }
    },
    {
      "cell_type": "code",
      "source": [
        "sListUpdate()\n",
        "\n",
        "def viewP(event):\n",
        "  cursor.execute(\"SELECT * FROM SP WHERE s = (?)\", [str(sListWid.value)])\n",
        "  for row in cursor.fetchall():\n",
        "    print (row)\n",
        "  print ('\\n')\n",
        "\n",
        "cursor.execute(\"SELECT s FROM S\")\n",
        "sList = cursor.fetchall()\n",
        "sListWid = widgets.Dropdown(\n",
        "    options=[i[0] for i in sList],\n",
        "    description='Choose S:',\n",
        ")\n",
        "display(sListWid)\n",
        "\n",
        "btnS = widgets.Button(description='View P')\n",
        "btnS.on_click(viewP)\n",
        "display(btnS)"
      ],
      "metadata": {
        "colab": {
          "base_uri": "https://localhost:8080/",
          "height": 135,
          "referenced_widgets": [
            "f28d2401f1e04147aa95d992bc18747b",
            "31d024062b3a40e2bff124c67818a47d",
            "e824f2fb949648aab38e86c02cbccd94",
            "019a12a4c8e44295910ebf66d1bcb706",
            "26bee8c109b146858468685cb400a5e2",
            "432815673275492295816ceed50efb53"
          ]
        },
        "id": "LzFzUsSofPWf",
        "outputId": "a430daea-52ae-43e8-9708-9aa433498051"
      },
      "execution_count": 32,
      "outputs": [
        {
          "output_type": "display_data",
          "data": {
            "text/plain": [
              "Dropdown(description='Choose S:', options=('S1', 'S2', 'S3', 'S4', 'S5'), value='S1')"
            ],
            "application/vnd.jupyter.widget-view+json": {
              "version_major": 2,
              "version_minor": 0,
              "model_id": "f28d2401f1e04147aa95d992bc18747b"
            }
          },
          "metadata": {}
        },
        {
          "output_type": "display_data",
          "data": {
            "text/plain": [
              "Button(description='View P', style=ButtonStyle())"
            ],
            "application/vnd.jupyter.widget-view+json": {
              "version_major": 2,
              "version_minor": 0,
              "model_id": "019a12a4c8e44295910ebf66d1bcb706"
            }
          },
          "metadata": {}
        },
        {
          "output_type": "stream",
          "name": "stdout",
          "text": [
            "(3, 'S3', 'P1', 8)\n",
            "\n",
            "\n"
          ]
        }
      ]
    },
    {
      "cell_type": "markdown",
      "source": [
        "**6. Поиск поставщиков по городу**"
      ],
      "metadata": {
        "id": "HxJUZJPLJO-a"
      }
    },
    {
      "cell_type": "code",
      "source": [
        "sListUpdate()\n",
        "\n",
        "def sSearch(event):\n",
        "  cursor.execute(\"SELECT * FROM S WHERE city = (?)\", [str(cList.value)])\n",
        "  for row in cursor.fetchall():\n",
        "    print (row)\n",
        "  print ('\\n')\n",
        "\n",
        "cursor.execute(\"SELECT DISTINCT city FROM S\")\n",
        "cList = widgets.Dropdown(\n",
        "    options=[i[0] for i in cursor.fetchall()],\n",
        "    description='Choose city:',\n",
        ")\n",
        "display(cList)\n",
        "btnC = widgets.Button(description='Search S')\n",
        "btnC.on_click(sSearch)\n",
        "display(btnC)"
      ],
      "metadata": {
        "id": "Lt552uiZJPwU",
        "outputId": "4ecd7028-c566-41cb-9a76-74fc809150f8",
        "colab": {
          "base_uri": "https://localhost:8080/",
          "height": 318,
          "referenced_widgets": [
            "756f224c02474782b36fd06953a8734f",
            "fe742aa60403463c8dd142097391ed86",
            "468c4546ca0c49a0b649962500d2daec",
            "0641a1c7b17e41469a6832c71518c49c",
            "0f9baccd95734e1d8b9898fe25e5d099",
            "9bcefef2e98944808007b2b51c242dd9"
          ]
        }
      },
      "execution_count": 33,
      "outputs": [
        {
          "output_type": "display_data",
          "data": {
            "text/plain": [
              "Dropdown(description='Choose city:', options=('Майкоп', 'Краснодар', 'Нальчик', 'Домаск'), value='Майкоп')"
            ],
            "application/vnd.jupyter.widget-view+json": {
              "version_major": 2,
              "version_minor": 0,
              "model_id": "756f224c02474782b36fd06953a8734f"
            }
          },
          "metadata": {}
        },
        {
          "output_type": "display_data",
          "data": {
            "text/plain": [
              "Button(description='Search S', style=ButtonStyle())"
            ],
            "application/vnd.jupyter.widget-view+json": {
              "version_major": 2,
              "version_minor": 0,
              "model_id": "0641a1c7b17e41469a6832c71518c49c"
            }
          },
          "metadata": {}
        },
        {
          "output_type": "stream",
          "name": "stdout",
          "text": [
            "('S2', 'Тлюстангелов', 15, 'Краснодар')\n",
            "\n",
            "\n",
            "('S3', 'Архипов', 30, 'Нальчик')\n",
            "\n",
            "\n",
            "('S4', 'Жоумаа', 15, 'Домаск')\n",
            "\n",
            "\n",
            "('S1', 'Аракелян', 20, 'Майкоп')\n",
            "('S5', 'Джаудат', 25, 'Майкоп')\n",
            "\n",
            "\n"
          ]
        }
      ]
    }
  ],
  "metadata": {
    "colab": {
      "collapsed_sections": [],
      "name": "Добро пожаловать в Colaboratory!",
      "provenance": [],
      "include_colab_link": true
    },
    "kernelspec": {
      "display_name": "Python 3",
      "name": "python3"
    },
    "widgets": {
      "application/vnd.jupyter.widget-state+json": {
        "f1a1032d54904773a9d0207e4d201b37": {
          "model_module": "@jupyter-widgets/controls",
          "model_name": "TextModel",
          "model_module_version": "1.5.0",
          "state": {
            "_dom_classes": [],
            "_model_module": "@jupyter-widgets/controls",
            "_model_module_version": "1.5.0",
            "_model_name": "TextModel",
            "_view_count": null,
            "_view_module": "@jupyter-widgets/controls",
            "_view_module_version": "1.5.0",
            "_view_name": "TextView",
            "continuous_update": true,
            "description": "Enter s:",
            "description_tooltip": null,
            "disabled": false,
            "layout": "IPY_MODEL_83fe58c8b4f84aeb96e2c7b909ccf833",
            "placeholder": "Type s",
            "style": "IPY_MODEL_f9e781dcdbea4f5398dddba1b29643ba",
            "value": "S5"
          }
        },
        "83fe58c8b4f84aeb96e2c7b909ccf833": {
          "model_module": "@jupyter-widgets/base",
          "model_name": "LayoutModel",
          "model_module_version": "1.2.0",
          "state": {
            "_model_module": "@jupyter-widgets/base",
            "_model_module_version": "1.2.0",
            "_model_name": "LayoutModel",
            "_view_count": null,
            "_view_module": "@jupyter-widgets/base",
            "_view_module_version": "1.2.0",
            "_view_name": "LayoutView",
            "align_content": null,
            "align_items": null,
            "align_self": null,
            "border": null,
            "bottom": null,
            "display": null,
            "flex": null,
            "flex_flow": null,
            "grid_area": null,
            "grid_auto_columns": null,
            "grid_auto_flow": null,
            "grid_auto_rows": null,
            "grid_column": null,
            "grid_gap": null,
            "grid_row": null,
            "grid_template_areas": null,
            "grid_template_columns": null,
            "grid_template_rows": null,
            "height": null,
            "justify_content": null,
            "justify_items": null,
            "left": null,
            "margin": null,
            "max_height": null,
            "max_width": null,
            "min_height": null,
            "min_width": null,
            "object_fit": null,
            "object_position": null,
            "order": null,
            "overflow": null,
            "overflow_x": null,
            "overflow_y": null,
            "padding": null,
            "right": null,
            "top": null,
            "visibility": null,
            "width": null
          }
        },
        "f9e781dcdbea4f5398dddba1b29643ba": {
          "model_module": "@jupyter-widgets/controls",
          "model_name": "DescriptionStyleModel",
          "model_module_version": "1.5.0",
          "state": {
            "_model_module": "@jupyter-widgets/controls",
            "_model_module_version": "1.5.0",
            "_model_name": "DescriptionStyleModel",
            "_view_count": null,
            "_view_module": "@jupyter-widgets/base",
            "_view_module_version": "1.2.0",
            "_view_name": "StyleView",
            "description_width": ""
          }
        },
        "597f4b6c124c43e182a6ec9c93e4e1a7": {
          "model_module": "@jupyter-widgets/controls",
          "model_name": "TextModel",
          "model_module_version": "1.5.0",
          "state": {
            "_dom_classes": [],
            "_model_module": "@jupyter-widgets/controls",
            "_model_module_version": "1.5.0",
            "_model_name": "TextModel",
            "_view_count": null,
            "_view_module": "@jupyter-widgets/controls",
            "_view_module_version": "1.5.0",
            "_view_name": "TextView",
            "continuous_update": true,
            "description": "Enter sname:",
            "description_tooltip": null,
            "disabled": false,
            "layout": "IPY_MODEL_1cf1d9095c9e4b25b0886a03297a0da9",
            "placeholder": "Type sname",
            "style": "IPY_MODEL_9a46cff347334b0dafcc788c9e14dc65",
            "value": ""
          }
        },
        "1cf1d9095c9e4b25b0886a03297a0da9": {
          "model_module": "@jupyter-widgets/base",
          "model_name": "LayoutModel",
          "model_module_version": "1.2.0",
          "state": {
            "_model_module": "@jupyter-widgets/base",
            "_model_module_version": "1.2.0",
            "_model_name": "LayoutModel",
            "_view_count": null,
            "_view_module": "@jupyter-widgets/base",
            "_view_module_version": "1.2.0",
            "_view_name": "LayoutView",
            "align_content": null,
            "align_items": null,
            "align_self": null,
            "border": null,
            "bottom": null,
            "display": null,
            "flex": null,
            "flex_flow": null,
            "grid_area": null,
            "grid_auto_columns": null,
            "grid_auto_flow": null,
            "grid_auto_rows": null,
            "grid_column": null,
            "grid_gap": null,
            "grid_row": null,
            "grid_template_areas": null,
            "grid_template_columns": null,
            "grid_template_rows": null,
            "height": null,
            "justify_content": null,
            "justify_items": null,
            "left": null,
            "margin": null,
            "max_height": null,
            "max_width": null,
            "min_height": null,
            "min_width": null,
            "object_fit": null,
            "object_position": null,
            "order": null,
            "overflow": null,
            "overflow_x": null,
            "overflow_y": null,
            "padding": null,
            "right": null,
            "top": null,
            "visibility": null,
            "width": null
          }
        },
        "9a46cff347334b0dafcc788c9e14dc65": {
          "model_module": "@jupyter-widgets/controls",
          "model_name": "DescriptionStyleModel",
          "model_module_version": "1.5.0",
          "state": {
            "_model_module": "@jupyter-widgets/controls",
            "_model_module_version": "1.5.0",
            "_model_name": "DescriptionStyleModel",
            "_view_count": null,
            "_view_module": "@jupyter-widgets/base",
            "_view_module_version": "1.2.0",
            "_view_name": "StyleView",
            "description_width": ""
          }
        },
        "9cda81213de8473ca3d95d2c5100531f": {
          "model_module": "@jupyter-widgets/controls",
          "model_name": "TextModel",
          "model_module_version": "1.5.0",
          "state": {
            "_dom_classes": [],
            "_model_module": "@jupyter-widgets/controls",
            "_model_module_version": "1.5.0",
            "_model_name": "TextModel",
            "_view_count": null,
            "_view_module": "@jupyter-widgets/controls",
            "_view_module_version": "1.5.0",
            "_view_name": "TextView",
            "continuous_update": true,
            "description": "Enter status:",
            "description_tooltip": null,
            "disabled": false,
            "layout": "IPY_MODEL_cab00f2b9c09412db3b4662027465f44",
            "placeholder": "Enter status",
            "style": "IPY_MODEL_cae8825dab84432588f897806929b9cf",
            "value": ""
          }
        },
        "cab00f2b9c09412db3b4662027465f44": {
          "model_module": "@jupyter-widgets/base",
          "model_name": "LayoutModel",
          "model_module_version": "1.2.0",
          "state": {
            "_model_module": "@jupyter-widgets/base",
            "_model_module_version": "1.2.0",
            "_model_name": "LayoutModel",
            "_view_count": null,
            "_view_module": "@jupyter-widgets/base",
            "_view_module_version": "1.2.0",
            "_view_name": "LayoutView",
            "align_content": null,
            "align_items": null,
            "align_self": null,
            "border": null,
            "bottom": null,
            "display": null,
            "flex": null,
            "flex_flow": null,
            "grid_area": null,
            "grid_auto_columns": null,
            "grid_auto_flow": null,
            "grid_auto_rows": null,
            "grid_column": null,
            "grid_gap": null,
            "grid_row": null,
            "grid_template_areas": null,
            "grid_template_columns": null,
            "grid_template_rows": null,
            "height": null,
            "justify_content": null,
            "justify_items": null,
            "left": null,
            "margin": null,
            "max_height": null,
            "max_width": null,
            "min_height": null,
            "min_width": null,
            "object_fit": null,
            "object_position": null,
            "order": null,
            "overflow": null,
            "overflow_x": null,
            "overflow_y": null,
            "padding": null,
            "right": null,
            "top": null,
            "visibility": null,
            "width": null
          }
        },
        "cae8825dab84432588f897806929b9cf": {
          "model_module": "@jupyter-widgets/controls",
          "model_name": "DescriptionStyleModel",
          "model_module_version": "1.5.0",
          "state": {
            "_model_module": "@jupyter-widgets/controls",
            "_model_module_version": "1.5.0",
            "_model_name": "DescriptionStyleModel",
            "_view_count": null,
            "_view_module": "@jupyter-widgets/base",
            "_view_module_version": "1.2.0",
            "_view_name": "StyleView",
            "description_width": ""
          }
        },
        "34cdc26c8cbf47d48626d765e6748727": {
          "model_module": "@jupyter-widgets/controls",
          "model_name": "TextModel",
          "model_module_version": "1.5.0",
          "state": {
            "_dom_classes": [],
            "_model_module": "@jupyter-widgets/controls",
            "_model_module_version": "1.5.0",
            "_model_name": "TextModel",
            "_view_count": null,
            "_view_module": "@jupyter-widgets/controls",
            "_view_module_version": "1.5.0",
            "_view_name": "TextView",
            "continuous_update": true,
            "description": "Enter city:",
            "description_tooltip": null,
            "disabled": false,
            "layout": "IPY_MODEL_395481879d4e4a6fa8619e6242d7dbf1",
            "placeholder": "Type city",
            "style": "IPY_MODEL_765e391166024eb6921f671296619745",
            "value": ""
          }
        },
        "395481879d4e4a6fa8619e6242d7dbf1": {
          "model_module": "@jupyter-widgets/base",
          "model_name": "LayoutModel",
          "model_module_version": "1.2.0",
          "state": {
            "_model_module": "@jupyter-widgets/base",
            "_model_module_version": "1.2.0",
            "_model_name": "LayoutModel",
            "_view_count": null,
            "_view_module": "@jupyter-widgets/base",
            "_view_module_version": "1.2.0",
            "_view_name": "LayoutView",
            "align_content": null,
            "align_items": null,
            "align_self": null,
            "border": null,
            "bottom": null,
            "display": null,
            "flex": null,
            "flex_flow": null,
            "grid_area": null,
            "grid_auto_columns": null,
            "grid_auto_flow": null,
            "grid_auto_rows": null,
            "grid_column": null,
            "grid_gap": null,
            "grid_row": null,
            "grid_template_areas": null,
            "grid_template_columns": null,
            "grid_template_rows": null,
            "height": null,
            "justify_content": null,
            "justify_items": null,
            "left": null,
            "margin": null,
            "max_height": null,
            "max_width": null,
            "min_height": null,
            "min_width": null,
            "object_fit": null,
            "object_position": null,
            "order": null,
            "overflow": null,
            "overflow_x": null,
            "overflow_y": null,
            "padding": null,
            "right": null,
            "top": null,
            "visibility": null,
            "width": null
          }
        },
        "765e391166024eb6921f671296619745": {
          "model_module": "@jupyter-widgets/controls",
          "model_name": "DescriptionStyleModel",
          "model_module_version": "1.5.0",
          "state": {
            "_model_module": "@jupyter-widgets/controls",
            "_model_module_version": "1.5.0",
            "_model_name": "DescriptionStyleModel",
            "_view_count": null,
            "_view_module": "@jupyter-widgets/base",
            "_view_module_version": "1.2.0",
            "_view_name": "StyleView",
            "description_width": ""
          }
        },
        "25f28088700745bf8e3c0ed1552c8cfe": {
          "model_module": "@jupyter-widgets/controls",
          "model_name": "ButtonModel",
          "model_module_version": "1.5.0",
          "state": {
            "_dom_classes": [],
            "_model_module": "@jupyter-widgets/controls",
            "_model_module_version": "1.5.0",
            "_model_name": "ButtonModel",
            "_view_count": null,
            "_view_module": "@jupyter-widgets/controls",
            "_view_module_version": "1.5.0",
            "_view_name": "ButtonView",
            "button_style": "",
            "description": "Add new S",
            "disabled": false,
            "icon": "",
            "layout": "IPY_MODEL_ce414ba394c5429e93b2bd1646503f45",
            "style": "IPY_MODEL_b9ce6913b8b3484f81008fd647256c16",
            "tooltip": ""
          }
        },
        "ce414ba394c5429e93b2bd1646503f45": {
          "model_module": "@jupyter-widgets/base",
          "model_name": "LayoutModel",
          "model_module_version": "1.2.0",
          "state": {
            "_model_module": "@jupyter-widgets/base",
            "_model_module_version": "1.2.0",
            "_model_name": "LayoutModel",
            "_view_count": null,
            "_view_module": "@jupyter-widgets/base",
            "_view_module_version": "1.2.0",
            "_view_name": "LayoutView",
            "align_content": null,
            "align_items": null,
            "align_self": null,
            "border": null,
            "bottom": null,
            "display": null,
            "flex": null,
            "flex_flow": null,
            "grid_area": null,
            "grid_auto_columns": null,
            "grid_auto_flow": null,
            "grid_auto_rows": null,
            "grid_column": null,
            "grid_gap": null,
            "grid_row": null,
            "grid_template_areas": null,
            "grid_template_columns": null,
            "grid_template_rows": null,
            "height": null,
            "justify_content": null,
            "justify_items": null,
            "left": null,
            "margin": null,
            "max_height": null,
            "max_width": null,
            "min_height": null,
            "min_width": null,
            "object_fit": null,
            "object_position": null,
            "order": null,
            "overflow": null,
            "overflow_x": null,
            "overflow_y": null,
            "padding": null,
            "right": null,
            "top": null,
            "visibility": null,
            "width": null
          }
        },
        "b9ce6913b8b3484f81008fd647256c16": {
          "model_module": "@jupyter-widgets/controls",
          "model_name": "ButtonStyleModel",
          "model_module_version": "1.5.0",
          "state": {
            "_model_module": "@jupyter-widgets/controls",
            "_model_module_version": "1.5.0",
            "_model_name": "ButtonStyleModel",
            "_view_count": null,
            "_view_module": "@jupyter-widgets/base",
            "_view_module_version": "1.2.0",
            "_view_name": "StyleView",
            "button_color": null,
            "font_weight": ""
          }
        },
        "a244616fd81341619a4b66da6c94c29c": {
          "model_module": "@jupyter-widgets/controls",
          "model_name": "SelectModel",
          "model_module_version": "1.5.0",
          "state": {
            "_dom_classes": [],
            "_model_module": "@jupyter-widgets/controls",
            "_model_module_version": "1.5.0",
            "_model_name": "SelectModel",
            "_options_labels": [
              "S",
              "P",
              "SP"
            ],
            "_view_count": null,
            "_view_module": "@jupyter-widgets/controls",
            "_view_module_version": "1.5.0",
            "_view_name": "SelectView",
            "description": "",
            "description_tooltip": null,
            "disabled": false,
            "index": 0,
            "layout": "IPY_MODEL_afeb52915d9f49fb9ad57ba4280393a9",
            "rows": 3,
            "style": "IPY_MODEL_c8c9141ad7084deb9bb787a2c6bf79c9"
          }
        },
        "afeb52915d9f49fb9ad57ba4280393a9": {
          "model_module": "@jupyter-widgets/base",
          "model_name": "LayoutModel",
          "model_module_version": "1.2.0",
          "state": {
            "_model_module": "@jupyter-widgets/base",
            "_model_module_version": "1.2.0",
            "_model_name": "LayoutModel",
            "_view_count": null,
            "_view_module": "@jupyter-widgets/base",
            "_view_module_version": "1.2.0",
            "_view_name": "LayoutView",
            "align_content": null,
            "align_items": null,
            "align_self": null,
            "border": null,
            "bottom": null,
            "display": null,
            "flex": null,
            "flex_flow": null,
            "grid_area": null,
            "grid_auto_columns": null,
            "grid_auto_flow": null,
            "grid_auto_rows": null,
            "grid_column": null,
            "grid_gap": null,
            "grid_row": null,
            "grid_template_areas": null,
            "grid_template_columns": null,
            "grid_template_rows": null,
            "height": null,
            "justify_content": null,
            "justify_items": null,
            "left": null,
            "margin": null,
            "max_height": null,
            "max_width": null,
            "min_height": null,
            "min_width": null,
            "object_fit": null,
            "object_position": null,
            "order": null,
            "overflow": null,
            "overflow_x": null,
            "overflow_y": null,
            "padding": null,
            "right": null,
            "top": null,
            "visibility": null,
            "width": null
          }
        },
        "c8c9141ad7084deb9bb787a2c6bf79c9": {
          "model_module": "@jupyter-widgets/controls",
          "model_name": "DescriptionStyleModel",
          "model_module_version": "1.5.0",
          "state": {
            "_model_module": "@jupyter-widgets/controls",
            "_model_module_version": "1.5.0",
            "_model_name": "DescriptionStyleModel",
            "_view_count": null,
            "_view_module": "@jupyter-widgets/base",
            "_view_module_version": "1.2.0",
            "_view_name": "StyleView",
            "description_width": ""
          }
        },
        "e22c02dec53b4202b4a60214bb57891a": {
          "model_module": "@jupyter-widgets/controls",
          "model_name": "ButtonModel",
          "model_module_version": "1.5.0",
          "state": {
            "_dom_classes": [],
            "_model_module": "@jupyter-widgets/controls",
            "_model_module_version": "1.5.0",
            "_model_name": "ButtonModel",
            "_view_count": null,
            "_view_module": "@jupyter-widgets/controls",
            "_view_module_version": "1.5.0",
            "_view_name": "ButtonView",
            "button_style": "",
            "description": "Choose the table",
            "disabled": false,
            "icon": "",
            "layout": "IPY_MODEL_fab1f0bb848a4cc0ba42c431778fde5e",
            "style": "IPY_MODEL_7ae08b67ea684c90a6e32499d20113f9",
            "tooltip": ""
          }
        },
        "fab1f0bb848a4cc0ba42c431778fde5e": {
          "model_module": "@jupyter-widgets/base",
          "model_name": "LayoutModel",
          "model_module_version": "1.2.0",
          "state": {
            "_model_module": "@jupyter-widgets/base",
            "_model_module_version": "1.2.0",
            "_model_name": "LayoutModel",
            "_view_count": null,
            "_view_module": "@jupyter-widgets/base",
            "_view_module_version": "1.2.0",
            "_view_name": "LayoutView",
            "align_content": null,
            "align_items": null,
            "align_self": null,
            "border": null,
            "bottom": null,
            "display": null,
            "flex": null,
            "flex_flow": null,
            "grid_area": null,
            "grid_auto_columns": null,
            "grid_auto_flow": null,
            "grid_auto_rows": null,
            "grid_column": null,
            "grid_gap": null,
            "grid_row": null,
            "grid_template_areas": null,
            "grid_template_columns": null,
            "grid_template_rows": null,
            "height": null,
            "justify_content": null,
            "justify_items": null,
            "left": null,
            "margin": null,
            "max_height": null,
            "max_width": null,
            "min_height": null,
            "min_width": null,
            "object_fit": null,
            "object_position": null,
            "order": null,
            "overflow": null,
            "overflow_x": null,
            "overflow_y": null,
            "padding": null,
            "right": null,
            "top": null,
            "visibility": null,
            "width": null
          }
        },
        "7ae08b67ea684c90a6e32499d20113f9": {
          "model_module": "@jupyter-widgets/controls",
          "model_name": "ButtonStyleModel",
          "model_module_version": "1.5.0",
          "state": {
            "_model_module": "@jupyter-widgets/controls",
            "_model_module_version": "1.5.0",
            "_model_name": "ButtonStyleModel",
            "_view_count": null,
            "_view_module": "@jupyter-widgets/base",
            "_view_module_version": "1.2.0",
            "_view_name": "StyleView",
            "button_color": null,
            "font_weight": ""
          }
        },
        "4bd626c78e194c3eb86598a3b5c13324": {
          "model_module": "@jupyter-widgets/controls",
          "model_name": "DropdownModel",
          "model_module_version": "1.5.0",
          "state": {
            "_dom_classes": [],
            "_model_module": "@jupyter-widgets/controls",
            "_model_module_version": "1.5.0",
            "_model_name": "DropdownModel",
            "_options_labels": [
              "S1",
              "S2",
              "S3",
              "S4"
            ],
            "_view_count": null,
            "_view_module": "@jupyter-widgets/controls",
            "_view_module_version": "1.5.0",
            "_view_name": "DropdownView",
            "description": "Choose S:",
            "description_tooltip": null,
            "disabled": false,
            "index": 0,
            "layout": "IPY_MODEL_5be699698d3d4ecca263b1b61acb8941",
            "style": "IPY_MODEL_9d6f41847e244c94b97f186a9f01c7fd"
          }
        },
        "5be699698d3d4ecca263b1b61acb8941": {
          "model_module": "@jupyter-widgets/base",
          "model_name": "LayoutModel",
          "model_module_version": "1.2.0",
          "state": {
            "_model_module": "@jupyter-widgets/base",
            "_model_module_version": "1.2.0",
            "_model_name": "LayoutModel",
            "_view_count": null,
            "_view_module": "@jupyter-widgets/base",
            "_view_module_version": "1.2.0",
            "_view_name": "LayoutView",
            "align_content": null,
            "align_items": null,
            "align_self": null,
            "border": null,
            "bottom": null,
            "display": null,
            "flex": null,
            "flex_flow": null,
            "grid_area": null,
            "grid_auto_columns": null,
            "grid_auto_flow": null,
            "grid_auto_rows": null,
            "grid_column": null,
            "grid_gap": null,
            "grid_row": null,
            "grid_template_areas": null,
            "grid_template_columns": null,
            "grid_template_rows": null,
            "height": null,
            "justify_content": null,
            "justify_items": null,
            "left": null,
            "margin": null,
            "max_height": null,
            "max_width": null,
            "min_height": null,
            "min_width": null,
            "object_fit": null,
            "object_position": null,
            "order": null,
            "overflow": null,
            "overflow_x": null,
            "overflow_y": null,
            "padding": null,
            "right": null,
            "top": null,
            "visibility": null,
            "width": null
          }
        },
        "9d6f41847e244c94b97f186a9f01c7fd": {
          "model_module": "@jupyter-widgets/controls",
          "model_name": "DescriptionStyleModel",
          "model_module_version": "1.5.0",
          "state": {
            "_model_module": "@jupyter-widgets/controls",
            "_model_module_version": "1.5.0",
            "_model_name": "DescriptionStyleModel",
            "_view_count": null,
            "_view_module": "@jupyter-widgets/base",
            "_view_module_version": "1.2.0",
            "_view_name": "StyleView",
            "description_width": ""
          }
        },
        "b064df2eb9474fbeba4d5e408fe0dbe8": {
          "model_module": "@jupyter-widgets/controls",
          "model_name": "ButtonModel",
          "model_module_version": "1.5.0",
          "state": {
            "_dom_classes": [],
            "_model_module": "@jupyter-widgets/controls",
            "_model_module_version": "1.5.0",
            "_model_name": "ButtonModel",
            "_view_count": null,
            "_view_module": "@jupyter-widgets/controls",
            "_view_module_version": "1.5.0",
            "_view_name": "ButtonView",
            "button_style": "",
            "description": "Delete S",
            "disabled": false,
            "icon": "",
            "layout": "IPY_MODEL_d3cf0d0e30904d7c91f50212c5739ccd",
            "style": "IPY_MODEL_edc0ae8e4dd74031b0fc9a20c8dbe8bf",
            "tooltip": ""
          }
        },
        "d3cf0d0e30904d7c91f50212c5739ccd": {
          "model_module": "@jupyter-widgets/base",
          "model_name": "LayoutModel",
          "model_module_version": "1.2.0",
          "state": {
            "_model_module": "@jupyter-widgets/base",
            "_model_module_version": "1.2.0",
            "_model_name": "LayoutModel",
            "_view_count": null,
            "_view_module": "@jupyter-widgets/base",
            "_view_module_version": "1.2.0",
            "_view_name": "LayoutView",
            "align_content": null,
            "align_items": null,
            "align_self": null,
            "border": null,
            "bottom": null,
            "display": null,
            "flex": null,
            "flex_flow": null,
            "grid_area": null,
            "grid_auto_columns": null,
            "grid_auto_flow": null,
            "grid_auto_rows": null,
            "grid_column": null,
            "grid_gap": null,
            "grid_row": null,
            "grid_template_areas": null,
            "grid_template_columns": null,
            "grid_template_rows": null,
            "height": null,
            "justify_content": null,
            "justify_items": null,
            "left": null,
            "margin": null,
            "max_height": null,
            "max_width": null,
            "min_height": null,
            "min_width": null,
            "object_fit": null,
            "object_position": null,
            "order": null,
            "overflow": null,
            "overflow_x": null,
            "overflow_y": null,
            "padding": null,
            "right": null,
            "top": null,
            "visibility": null,
            "width": null
          }
        },
        "edc0ae8e4dd74031b0fc9a20c8dbe8bf": {
          "model_module": "@jupyter-widgets/controls",
          "model_name": "ButtonStyleModel",
          "model_module_version": "1.5.0",
          "state": {
            "_model_module": "@jupyter-widgets/controls",
            "_model_module_version": "1.5.0",
            "_model_name": "ButtonStyleModel",
            "_view_count": null,
            "_view_module": "@jupyter-widgets/base",
            "_view_module_version": "1.2.0",
            "_view_name": "StyleView",
            "button_color": null,
            "font_weight": ""
          }
        },
        "98392863fe994db6828e86bdf7800042": {
          "model_module": "@jupyter-widgets/controls",
          "model_name": "DropdownModel",
          "model_module_version": "1.5.0",
          "state": {
            "_dom_classes": [],
            "_model_module": "@jupyter-widgets/controls",
            "_model_module_version": "1.5.0",
            "_model_name": "DropdownModel",
            "_options_labels": [
              "S1",
              "S2",
              "S3",
              "S4",
              "S5"
            ],
            "_view_count": null,
            "_view_module": "@jupyter-widgets/controls",
            "_view_module_version": "1.5.0",
            "_view_name": "DropdownView",
            "description": "Choose S:",
            "description_tooltip": null,
            "disabled": false,
            "index": 0,
            "layout": "IPY_MODEL_493d68d3ca2e47ca8731a3ea4072115d",
            "style": "IPY_MODEL_05cf01fac904405f9db751e86774faac"
          }
        },
        "493d68d3ca2e47ca8731a3ea4072115d": {
          "model_module": "@jupyter-widgets/base",
          "model_name": "LayoutModel",
          "model_module_version": "1.2.0",
          "state": {
            "_model_module": "@jupyter-widgets/base",
            "_model_module_version": "1.2.0",
            "_model_name": "LayoutModel",
            "_view_count": null,
            "_view_module": "@jupyter-widgets/base",
            "_view_module_version": "1.2.0",
            "_view_name": "LayoutView",
            "align_content": null,
            "align_items": null,
            "align_self": null,
            "border": null,
            "bottom": null,
            "display": null,
            "flex": null,
            "flex_flow": null,
            "grid_area": null,
            "grid_auto_columns": null,
            "grid_auto_flow": null,
            "grid_auto_rows": null,
            "grid_column": null,
            "grid_gap": null,
            "grid_row": null,
            "grid_template_areas": null,
            "grid_template_columns": null,
            "grid_template_rows": null,
            "height": null,
            "justify_content": null,
            "justify_items": null,
            "left": null,
            "margin": null,
            "max_height": null,
            "max_width": null,
            "min_height": null,
            "min_width": null,
            "object_fit": null,
            "object_position": null,
            "order": null,
            "overflow": null,
            "overflow_x": null,
            "overflow_y": null,
            "padding": null,
            "right": null,
            "top": null,
            "visibility": null,
            "width": null
          }
        },
        "05cf01fac904405f9db751e86774faac": {
          "model_module": "@jupyter-widgets/controls",
          "model_name": "DescriptionStyleModel",
          "model_module_version": "1.5.0",
          "state": {
            "_model_module": "@jupyter-widgets/controls",
            "_model_module_version": "1.5.0",
            "_model_name": "DescriptionStyleModel",
            "_view_count": null,
            "_view_module": "@jupyter-widgets/base",
            "_view_module_version": "1.2.0",
            "_view_name": "StyleView",
            "description_width": ""
          }
        },
        "241e8560ccae49d48acd9f419735892f": {
          "model_module": "@jupyter-widgets/controls",
          "model_name": "ButtonModel",
          "model_module_version": "1.5.0",
          "state": {
            "_dom_classes": [],
            "_model_module": "@jupyter-widgets/controls",
            "_model_module_version": "1.5.0",
            "_model_name": "ButtonModel",
            "_view_count": null,
            "_view_module": "@jupyter-widgets/controls",
            "_view_module_version": "1.5.0",
            "_view_name": "ButtonView",
            "button_style": "",
            "description": "Choose S",
            "disabled": false,
            "icon": "",
            "layout": "IPY_MODEL_6990a4998ebc4cc6b748210be76e48f5",
            "style": "IPY_MODEL_9f197c6b54564a85a5bc67e33b0ff80d",
            "tooltip": ""
          }
        },
        "6990a4998ebc4cc6b748210be76e48f5": {
          "model_module": "@jupyter-widgets/base",
          "model_name": "LayoutModel",
          "model_module_version": "1.2.0",
          "state": {
            "_model_module": "@jupyter-widgets/base",
            "_model_module_version": "1.2.0",
            "_model_name": "LayoutModel",
            "_view_count": null,
            "_view_module": "@jupyter-widgets/base",
            "_view_module_version": "1.2.0",
            "_view_name": "LayoutView",
            "align_content": null,
            "align_items": null,
            "align_self": null,
            "border": null,
            "bottom": null,
            "display": null,
            "flex": null,
            "flex_flow": null,
            "grid_area": null,
            "grid_auto_columns": null,
            "grid_auto_flow": null,
            "grid_auto_rows": null,
            "grid_column": null,
            "grid_gap": null,
            "grid_row": null,
            "grid_template_areas": null,
            "grid_template_columns": null,
            "grid_template_rows": null,
            "height": null,
            "justify_content": null,
            "justify_items": null,
            "left": null,
            "margin": null,
            "max_height": null,
            "max_width": null,
            "min_height": null,
            "min_width": null,
            "object_fit": null,
            "object_position": null,
            "order": null,
            "overflow": null,
            "overflow_x": null,
            "overflow_y": null,
            "padding": null,
            "right": null,
            "top": null,
            "visibility": null,
            "width": null
          }
        },
        "9f197c6b54564a85a5bc67e33b0ff80d": {
          "model_module": "@jupyter-widgets/controls",
          "model_name": "ButtonStyleModel",
          "model_module_version": "1.5.0",
          "state": {
            "_model_module": "@jupyter-widgets/controls",
            "_model_module_version": "1.5.0",
            "_model_name": "ButtonStyleModel",
            "_view_count": null,
            "_view_module": "@jupyter-widgets/base",
            "_view_module_version": "1.2.0",
            "_view_name": "StyleView",
            "button_color": null,
            "font_weight": ""
          }
        },
        "b286f18c6e0f4f399bcfee493d6d49dd": {
          "model_module": "@jupyter-widgets/controls",
          "model_name": "TextModel",
          "model_module_version": "1.5.0",
          "state": {
            "_dom_classes": [],
            "_model_module": "@jupyter-widgets/controls",
            "_model_module_version": "1.5.0",
            "_model_name": "TextModel",
            "_view_count": null,
            "_view_module": "@jupyter-widgets/controls",
            "_view_module_version": "1.5.0",
            "_view_name": "TextView",
            "continuous_update": true,
            "description": "Enter p:",
            "description_tooltip": null,
            "disabled": false,
            "layout": "IPY_MODEL_285026a49bae467bbc77e10725603968",
            "placeholder": "Type p",
            "style": "IPY_MODEL_9b1100d60bbb4d03bb8503fe8d342072",
            "value": ""
          }
        },
        "285026a49bae467bbc77e10725603968": {
          "model_module": "@jupyter-widgets/base",
          "model_name": "LayoutModel",
          "model_module_version": "1.2.0",
          "state": {
            "_model_module": "@jupyter-widgets/base",
            "_model_module_version": "1.2.0",
            "_model_name": "LayoutModel",
            "_view_count": null,
            "_view_module": "@jupyter-widgets/base",
            "_view_module_version": "1.2.0",
            "_view_name": "LayoutView",
            "align_content": null,
            "align_items": null,
            "align_self": null,
            "border": null,
            "bottom": null,
            "display": null,
            "flex": null,
            "flex_flow": null,
            "grid_area": null,
            "grid_auto_columns": null,
            "grid_auto_flow": null,
            "grid_auto_rows": null,
            "grid_column": null,
            "grid_gap": null,
            "grid_row": null,
            "grid_template_areas": null,
            "grid_template_columns": null,
            "grid_template_rows": null,
            "height": null,
            "justify_content": null,
            "justify_items": null,
            "left": null,
            "margin": null,
            "max_height": null,
            "max_width": null,
            "min_height": null,
            "min_width": null,
            "object_fit": null,
            "object_position": null,
            "order": null,
            "overflow": null,
            "overflow_x": null,
            "overflow_y": null,
            "padding": null,
            "right": null,
            "top": null,
            "visibility": null,
            "width": null
          }
        },
        "9b1100d60bbb4d03bb8503fe8d342072": {
          "model_module": "@jupyter-widgets/controls",
          "model_name": "DescriptionStyleModel",
          "model_module_version": "1.5.0",
          "state": {
            "_model_module": "@jupyter-widgets/controls",
            "_model_module_version": "1.5.0",
            "_model_name": "DescriptionStyleModel",
            "_view_count": null,
            "_view_module": "@jupyter-widgets/base",
            "_view_module_version": "1.2.0",
            "_view_name": "StyleView",
            "description_width": ""
          }
        },
        "2c4640bb72064c21a4df63b7a40e08ac": {
          "model_module": "@jupyter-widgets/controls",
          "model_name": "TextModel",
          "model_module_version": "1.5.0",
          "state": {
            "_dom_classes": [],
            "_model_module": "@jupyter-widgets/controls",
            "_model_module_version": "1.5.0",
            "_model_name": "TextModel",
            "_view_count": null,
            "_view_module": "@jupyter-widgets/controls",
            "_view_module_version": "1.5.0",
            "_view_name": "TextView",
            "continuous_update": true,
            "description": "Enter pname:",
            "description_tooltip": null,
            "disabled": false,
            "layout": "IPY_MODEL_56811d70389f48a89be775b0d220cf82",
            "placeholder": "Type pname",
            "style": "IPY_MODEL_d0111819b1bf46a1849374dd7d7733f0",
            "value": ""
          }
        },
        "56811d70389f48a89be775b0d220cf82": {
          "model_module": "@jupyter-widgets/base",
          "model_name": "LayoutModel",
          "model_module_version": "1.2.0",
          "state": {
            "_model_module": "@jupyter-widgets/base",
            "_model_module_version": "1.2.0",
            "_model_name": "LayoutModel",
            "_view_count": null,
            "_view_module": "@jupyter-widgets/base",
            "_view_module_version": "1.2.0",
            "_view_name": "LayoutView",
            "align_content": null,
            "align_items": null,
            "align_self": null,
            "border": null,
            "bottom": null,
            "display": null,
            "flex": null,
            "flex_flow": null,
            "grid_area": null,
            "grid_auto_columns": null,
            "grid_auto_flow": null,
            "grid_auto_rows": null,
            "grid_column": null,
            "grid_gap": null,
            "grid_row": null,
            "grid_template_areas": null,
            "grid_template_columns": null,
            "grid_template_rows": null,
            "height": null,
            "justify_content": null,
            "justify_items": null,
            "left": null,
            "margin": null,
            "max_height": null,
            "max_width": null,
            "min_height": null,
            "min_width": null,
            "object_fit": null,
            "object_position": null,
            "order": null,
            "overflow": null,
            "overflow_x": null,
            "overflow_y": null,
            "padding": null,
            "right": null,
            "top": null,
            "visibility": null,
            "width": null
          }
        },
        "d0111819b1bf46a1849374dd7d7733f0": {
          "model_module": "@jupyter-widgets/controls",
          "model_name": "DescriptionStyleModel",
          "model_module_version": "1.5.0",
          "state": {
            "_model_module": "@jupyter-widgets/controls",
            "_model_module_version": "1.5.0",
            "_model_name": "DescriptionStyleModel",
            "_view_count": null,
            "_view_module": "@jupyter-widgets/base",
            "_view_module_version": "1.2.0",
            "_view_name": "StyleView",
            "description_width": ""
          }
        },
        "5a4136308ec848b4b2ecefc5f3f9b12f": {
          "model_module": "@jupyter-widgets/controls",
          "model_name": "IntTextModel",
          "model_module_version": "1.5.0",
          "state": {
            "_dom_classes": [],
            "_model_module": "@jupyter-widgets/controls",
            "_model_module_version": "1.5.0",
            "_model_name": "IntTextModel",
            "_view_count": null,
            "_view_module": "@jupyter-widgets/controls",
            "_view_module_version": "1.5.0",
            "_view_name": "IntTextView",
            "continuous_update": false,
            "description": "Weight:",
            "description_tooltip": null,
            "disabled": false,
            "layout": "IPY_MODEL_a8c1c626e53442c98286766e83392772",
            "step": 1,
            "style": "IPY_MODEL_83df8a94a90b4ad7bb3b812b1854293d",
            "value": 0
          }
        },
        "a8c1c626e53442c98286766e83392772": {
          "model_module": "@jupyter-widgets/base",
          "model_name": "LayoutModel",
          "model_module_version": "1.2.0",
          "state": {
            "_model_module": "@jupyter-widgets/base",
            "_model_module_version": "1.2.0",
            "_model_name": "LayoutModel",
            "_view_count": null,
            "_view_module": "@jupyter-widgets/base",
            "_view_module_version": "1.2.0",
            "_view_name": "LayoutView",
            "align_content": null,
            "align_items": null,
            "align_self": null,
            "border": null,
            "bottom": null,
            "display": null,
            "flex": null,
            "flex_flow": null,
            "grid_area": null,
            "grid_auto_columns": null,
            "grid_auto_flow": null,
            "grid_auto_rows": null,
            "grid_column": null,
            "grid_gap": null,
            "grid_row": null,
            "grid_template_areas": null,
            "grid_template_columns": null,
            "grid_template_rows": null,
            "height": null,
            "justify_content": null,
            "justify_items": null,
            "left": null,
            "margin": null,
            "max_height": null,
            "max_width": null,
            "min_height": null,
            "min_width": null,
            "object_fit": null,
            "object_position": null,
            "order": null,
            "overflow": null,
            "overflow_x": null,
            "overflow_y": null,
            "padding": null,
            "right": null,
            "top": null,
            "visibility": null,
            "width": null
          }
        },
        "83df8a94a90b4ad7bb3b812b1854293d": {
          "model_module": "@jupyter-widgets/controls",
          "model_name": "DescriptionStyleModel",
          "model_module_version": "1.5.0",
          "state": {
            "_model_module": "@jupyter-widgets/controls",
            "_model_module_version": "1.5.0",
            "_model_name": "DescriptionStyleModel",
            "_view_count": null,
            "_view_module": "@jupyter-widgets/base",
            "_view_module_version": "1.2.0",
            "_view_name": "StyleView",
            "description_width": ""
          }
        },
        "4ad4aa34de2c43a7a7a9229274868b9e": {
          "model_module": "@jupyter-widgets/controls",
          "model_name": "TextModel",
          "model_module_version": "1.5.0",
          "state": {
            "_dom_classes": [],
            "_model_module": "@jupyter-widgets/controls",
            "_model_module_version": "1.5.0",
            "_model_name": "TextModel",
            "_view_count": null,
            "_view_module": "@jupyter-widgets/controls",
            "_view_module_version": "1.5.0",
            "_view_name": "TextView",
            "continuous_update": true,
            "description": "Enter color:",
            "description_tooltip": null,
            "disabled": false,
            "layout": "IPY_MODEL_ffc2add1a1a74a2bb92f9ecaed973f6c",
            "placeholder": "Type color",
            "style": "IPY_MODEL_fa496e05f9e34eb98f763349a5258a76",
            "value": ""
          }
        },
        "ffc2add1a1a74a2bb92f9ecaed973f6c": {
          "model_module": "@jupyter-widgets/base",
          "model_name": "LayoutModel",
          "model_module_version": "1.2.0",
          "state": {
            "_model_module": "@jupyter-widgets/base",
            "_model_module_version": "1.2.0",
            "_model_name": "LayoutModel",
            "_view_count": null,
            "_view_module": "@jupyter-widgets/base",
            "_view_module_version": "1.2.0",
            "_view_name": "LayoutView",
            "align_content": null,
            "align_items": null,
            "align_self": null,
            "border": null,
            "bottom": null,
            "display": null,
            "flex": null,
            "flex_flow": null,
            "grid_area": null,
            "grid_auto_columns": null,
            "grid_auto_flow": null,
            "grid_auto_rows": null,
            "grid_column": null,
            "grid_gap": null,
            "grid_row": null,
            "grid_template_areas": null,
            "grid_template_columns": null,
            "grid_template_rows": null,
            "height": null,
            "justify_content": null,
            "justify_items": null,
            "left": null,
            "margin": null,
            "max_height": null,
            "max_width": null,
            "min_height": null,
            "min_width": null,
            "object_fit": null,
            "object_position": null,
            "order": null,
            "overflow": null,
            "overflow_x": null,
            "overflow_y": null,
            "padding": null,
            "right": null,
            "top": null,
            "visibility": null,
            "width": null
          }
        },
        "fa496e05f9e34eb98f763349a5258a76": {
          "model_module": "@jupyter-widgets/controls",
          "model_name": "DescriptionStyleModel",
          "model_module_version": "1.5.0",
          "state": {
            "_model_module": "@jupyter-widgets/controls",
            "_model_module_version": "1.5.0",
            "_model_name": "DescriptionStyleModel",
            "_view_count": null,
            "_view_module": "@jupyter-widgets/base",
            "_view_module_version": "1.2.0",
            "_view_name": "StyleView",
            "description_width": ""
          }
        },
        "cf75e749d05f4f1c977f99f145d14496": {
          "model_module": "@jupyter-widgets/controls",
          "model_name": "TextModel",
          "model_module_version": "1.5.0",
          "state": {
            "_dom_classes": [],
            "_model_module": "@jupyter-widgets/controls",
            "_model_module_version": "1.5.0",
            "_model_name": "TextModel",
            "_view_count": null,
            "_view_module": "@jupyter-widgets/controls",
            "_view_module_version": "1.5.0",
            "_view_name": "TextView",
            "continuous_update": true,
            "description": "Enter city:",
            "description_tooltip": null,
            "disabled": false,
            "layout": "IPY_MODEL_c76ef2fc63ab4f238747dbe4f63c3aac",
            "placeholder": "Type city",
            "style": "IPY_MODEL_962b74b1a57249939fbe303370a97d5e",
            "value": ""
          }
        },
        "c76ef2fc63ab4f238747dbe4f63c3aac": {
          "model_module": "@jupyter-widgets/base",
          "model_name": "LayoutModel",
          "model_module_version": "1.2.0",
          "state": {
            "_model_module": "@jupyter-widgets/base",
            "_model_module_version": "1.2.0",
            "_model_name": "LayoutModel",
            "_view_count": null,
            "_view_module": "@jupyter-widgets/base",
            "_view_module_version": "1.2.0",
            "_view_name": "LayoutView",
            "align_content": null,
            "align_items": null,
            "align_self": null,
            "border": null,
            "bottom": null,
            "display": null,
            "flex": null,
            "flex_flow": null,
            "grid_area": null,
            "grid_auto_columns": null,
            "grid_auto_flow": null,
            "grid_auto_rows": null,
            "grid_column": null,
            "grid_gap": null,
            "grid_row": null,
            "grid_template_areas": null,
            "grid_template_columns": null,
            "grid_template_rows": null,
            "height": null,
            "justify_content": null,
            "justify_items": null,
            "left": null,
            "margin": null,
            "max_height": null,
            "max_width": null,
            "min_height": null,
            "min_width": null,
            "object_fit": null,
            "object_position": null,
            "order": null,
            "overflow": null,
            "overflow_x": null,
            "overflow_y": null,
            "padding": null,
            "right": null,
            "top": null,
            "visibility": null,
            "width": null
          }
        },
        "962b74b1a57249939fbe303370a97d5e": {
          "model_module": "@jupyter-widgets/controls",
          "model_name": "DescriptionStyleModel",
          "model_module_version": "1.5.0",
          "state": {
            "_model_module": "@jupyter-widgets/controls",
            "_model_module_version": "1.5.0",
            "_model_name": "DescriptionStyleModel",
            "_view_count": null,
            "_view_module": "@jupyter-widgets/base",
            "_view_module_version": "1.2.0",
            "_view_name": "StyleView",
            "description_width": ""
          }
        },
        "b68cc2143868494baf1b3a19fcbf6910": {
          "model_module": "@jupyter-widgets/controls",
          "model_name": "ButtonModel",
          "model_module_version": "1.5.0",
          "state": {
            "_dom_classes": [],
            "_model_module": "@jupyter-widgets/controls",
            "_model_module_version": "1.5.0",
            "_model_name": "ButtonModel",
            "_view_count": null,
            "_view_module": "@jupyter-widgets/controls",
            "_view_module_version": "1.5.0",
            "_view_name": "ButtonView",
            "button_style": "",
            "description": "Add new P",
            "disabled": false,
            "icon": "",
            "layout": "IPY_MODEL_38249278556543f19d49744587fd7c25",
            "style": "IPY_MODEL_4f39edbdd2af4007998c622076227d7f",
            "tooltip": ""
          }
        },
        "38249278556543f19d49744587fd7c25": {
          "model_module": "@jupyter-widgets/base",
          "model_name": "LayoutModel",
          "model_module_version": "1.2.0",
          "state": {
            "_model_module": "@jupyter-widgets/base",
            "_model_module_version": "1.2.0",
            "_model_name": "LayoutModel",
            "_view_count": null,
            "_view_module": "@jupyter-widgets/base",
            "_view_module_version": "1.2.0",
            "_view_name": "LayoutView",
            "align_content": null,
            "align_items": null,
            "align_self": null,
            "border": null,
            "bottom": null,
            "display": null,
            "flex": null,
            "flex_flow": null,
            "grid_area": null,
            "grid_auto_columns": null,
            "grid_auto_flow": null,
            "grid_auto_rows": null,
            "grid_column": null,
            "grid_gap": null,
            "grid_row": null,
            "grid_template_areas": null,
            "grid_template_columns": null,
            "grid_template_rows": null,
            "height": null,
            "justify_content": null,
            "justify_items": null,
            "left": null,
            "margin": null,
            "max_height": null,
            "max_width": null,
            "min_height": null,
            "min_width": null,
            "object_fit": null,
            "object_position": null,
            "order": null,
            "overflow": null,
            "overflow_x": null,
            "overflow_y": null,
            "padding": null,
            "right": null,
            "top": null,
            "visibility": null,
            "width": null
          }
        },
        "4f39edbdd2af4007998c622076227d7f": {
          "model_module": "@jupyter-widgets/controls",
          "model_name": "ButtonStyleModel",
          "model_module_version": "1.5.0",
          "state": {
            "_model_module": "@jupyter-widgets/controls",
            "_model_module_version": "1.5.0",
            "_model_name": "ButtonStyleModel",
            "_view_count": null,
            "_view_module": "@jupyter-widgets/base",
            "_view_module_version": "1.2.0",
            "_view_name": "StyleView",
            "button_color": null,
            "font_weight": ""
          }
        },
        "f28d2401f1e04147aa95d992bc18747b": {
          "model_module": "@jupyter-widgets/controls",
          "model_name": "DropdownModel",
          "model_module_version": "1.5.0",
          "state": {
            "_dom_classes": [],
            "_model_module": "@jupyter-widgets/controls",
            "_model_module_version": "1.5.0",
            "_model_name": "DropdownModel",
            "_options_labels": [
              "S1",
              "S2",
              "S3",
              "S4",
              "S5"
            ],
            "_view_count": null,
            "_view_module": "@jupyter-widgets/controls",
            "_view_module_version": "1.5.0",
            "_view_name": "DropdownView",
            "description": "Choose S:",
            "description_tooltip": null,
            "disabled": false,
            "index": 2,
            "layout": "IPY_MODEL_31d024062b3a40e2bff124c67818a47d",
            "style": "IPY_MODEL_e824f2fb949648aab38e86c02cbccd94"
          }
        },
        "31d024062b3a40e2bff124c67818a47d": {
          "model_module": "@jupyter-widgets/base",
          "model_name": "LayoutModel",
          "model_module_version": "1.2.0",
          "state": {
            "_model_module": "@jupyter-widgets/base",
            "_model_module_version": "1.2.0",
            "_model_name": "LayoutModel",
            "_view_count": null,
            "_view_module": "@jupyter-widgets/base",
            "_view_module_version": "1.2.0",
            "_view_name": "LayoutView",
            "align_content": null,
            "align_items": null,
            "align_self": null,
            "border": null,
            "bottom": null,
            "display": null,
            "flex": null,
            "flex_flow": null,
            "grid_area": null,
            "grid_auto_columns": null,
            "grid_auto_flow": null,
            "grid_auto_rows": null,
            "grid_column": null,
            "grid_gap": null,
            "grid_row": null,
            "grid_template_areas": null,
            "grid_template_columns": null,
            "grid_template_rows": null,
            "height": null,
            "justify_content": null,
            "justify_items": null,
            "left": null,
            "margin": null,
            "max_height": null,
            "max_width": null,
            "min_height": null,
            "min_width": null,
            "object_fit": null,
            "object_position": null,
            "order": null,
            "overflow": null,
            "overflow_x": null,
            "overflow_y": null,
            "padding": null,
            "right": null,
            "top": null,
            "visibility": null,
            "width": null
          }
        },
        "e824f2fb949648aab38e86c02cbccd94": {
          "model_module": "@jupyter-widgets/controls",
          "model_name": "DescriptionStyleModel",
          "model_module_version": "1.5.0",
          "state": {
            "_model_module": "@jupyter-widgets/controls",
            "_model_module_version": "1.5.0",
            "_model_name": "DescriptionStyleModel",
            "_view_count": null,
            "_view_module": "@jupyter-widgets/base",
            "_view_module_version": "1.2.0",
            "_view_name": "StyleView",
            "description_width": ""
          }
        },
        "019a12a4c8e44295910ebf66d1bcb706": {
          "model_module": "@jupyter-widgets/controls",
          "model_name": "ButtonModel",
          "model_module_version": "1.5.0",
          "state": {
            "_dom_classes": [],
            "_model_module": "@jupyter-widgets/controls",
            "_model_module_version": "1.5.0",
            "_model_name": "ButtonModel",
            "_view_count": null,
            "_view_module": "@jupyter-widgets/controls",
            "_view_module_version": "1.5.0",
            "_view_name": "ButtonView",
            "button_style": "",
            "description": "View P",
            "disabled": false,
            "icon": "",
            "layout": "IPY_MODEL_26bee8c109b146858468685cb400a5e2",
            "style": "IPY_MODEL_432815673275492295816ceed50efb53",
            "tooltip": ""
          }
        },
        "26bee8c109b146858468685cb400a5e2": {
          "model_module": "@jupyter-widgets/base",
          "model_name": "LayoutModel",
          "model_module_version": "1.2.0",
          "state": {
            "_model_module": "@jupyter-widgets/base",
            "_model_module_version": "1.2.0",
            "_model_name": "LayoutModel",
            "_view_count": null,
            "_view_module": "@jupyter-widgets/base",
            "_view_module_version": "1.2.0",
            "_view_name": "LayoutView",
            "align_content": null,
            "align_items": null,
            "align_self": null,
            "border": null,
            "bottom": null,
            "display": null,
            "flex": null,
            "flex_flow": null,
            "grid_area": null,
            "grid_auto_columns": null,
            "grid_auto_flow": null,
            "grid_auto_rows": null,
            "grid_column": null,
            "grid_gap": null,
            "grid_row": null,
            "grid_template_areas": null,
            "grid_template_columns": null,
            "grid_template_rows": null,
            "height": null,
            "justify_content": null,
            "justify_items": null,
            "left": null,
            "margin": null,
            "max_height": null,
            "max_width": null,
            "min_height": null,
            "min_width": null,
            "object_fit": null,
            "object_position": null,
            "order": null,
            "overflow": null,
            "overflow_x": null,
            "overflow_y": null,
            "padding": null,
            "right": null,
            "top": null,
            "visibility": null,
            "width": null
          }
        },
        "432815673275492295816ceed50efb53": {
          "model_module": "@jupyter-widgets/controls",
          "model_name": "ButtonStyleModel",
          "model_module_version": "1.5.0",
          "state": {
            "_model_module": "@jupyter-widgets/controls",
            "_model_module_version": "1.5.0",
            "_model_name": "ButtonStyleModel",
            "_view_count": null,
            "_view_module": "@jupyter-widgets/base",
            "_view_module_version": "1.2.0",
            "_view_name": "StyleView",
            "button_color": null,
            "font_weight": ""
          }
        },
        "756f224c02474782b36fd06953a8734f": {
          "model_module": "@jupyter-widgets/controls",
          "model_name": "DropdownModel",
          "model_module_version": "1.5.0",
          "state": {
            "_dom_classes": [],
            "_model_module": "@jupyter-widgets/controls",
            "_model_module_version": "1.5.0",
            "_model_name": "DropdownModel",
            "_options_labels": [
              "Майкоп",
              "Краснодар",
              "Нальчик",
              "Домаск"
            ],
            "_view_count": null,
            "_view_module": "@jupyter-widgets/controls",
            "_view_module_version": "1.5.0",
            "_view_name": "DropdownView",
            "description": "Choose city:",
            "description_tooltip": null,
            "disabled": false,
            "index": 0,
            "layout": "IPY_MODEL_fe742aa60403463c8dd142097391ed86",
            "style": "IPY_MODEL_468c4546ca0c49a0b649962500d2daec"
          }
        },
        "fe742aa60403463c8dd142097391ed86": {
          "model_module": "@jupyter-widgets/base",
          "model_name": "LayoutModel",
          "model_module_version": "1.2.0",
          "state": {
            "_model_module": "@jupyter-widgets/base",
            "_model_module_version": "1.2.0",
            "_model_name": "LayoutModel",
            "_view_count": null,
            "_view_module": "@jupyter-widgets/base",
            "_view_module_version": "1.2.0",
            "_view_name": "LayoutView",
            "align_content": null,
            "align_items": null,
            "align_self": null,
            "border": null,
            "bottom": null,
            "display": null,
            "flex": null,
            "flex_flow": null,
            "grid_area": null,
            "grid_auto_columns": null,
            "grid_auto_flow": null,
            "grid_auto_rows": null,
            "grid_column": null,
            "grid_gap": null,
            "grid_row": null,
            "grid_template_areas": null,
            "grid_template_columns": null,
            "grid_template_rows": null,
            "height": null,
            "justify_content": null,
            "justify_items": null,
            "left": null,
            "margin": null,
            "max_height": null,
            "max_width": null,
            "min_height": null,
            "min_width": null,
            "object_fit": null,
            "object_position": null,
            "order": null,
            "overflow": null,
            "overflow_x": null,
            "overflow_y": null,
            "padding": null,
            "right": null,
            "top": null,
            "visibility": null,
            "width": null
          }
        },
        "468c4546ca0c49a0b649962500d2daec": {
          "model_module": "@jupyter-widgets/controls",
          "model_name": "DescriptionStyleModel",
          "model_module_version": "1.5.0",
          "state": {
            "_model_module": "@jupyter-widgets/controls",
            "_model_module_version": "1.5.0",
            "_model_name": "DescriptionStyleModel",
            "_view_count": null,
            "_view_module": "@jupyter-widgets/base",
            "_view_module_version": "1.2.0",
            "_view_name": "StyleView",
            "description_width": ""
          }
        },
        "0641a1c7b17e41469a6832c71518c49c": {
          "model_module": "@jupyter-widgets/controls",
          "model_name": "ButtonModel",
          "model_module_version": "1.5.0",
          "state": {
            "_dom_classes": [],
            "_model_module": "@jupyter-widgets/controls",
            "_model_module_version": "1.5.0",
            "_model_name": "ButtonModel",
            "_view_count": null,
            "_view_module": "@jupyter-widgets/controls",
            "_view_module_version": "1.5.0",
            "_view_name": "ButtonView",
            "button_style": "",
            "description": "Search S",
            "disabled": false,
            "icon": "",
            "layout": "IPY_MODEL_0f9baccd95734e1d8b9898fe25e5d099",
            "style": "IPY_MODEL_9bcefef2e98944808007b2b51c242dd9",
            "tooltip": ""
          }
        },
        "0f9baccd95734e1d8b9898fe25e5d099": {
          "model_module": "@jupyter-widgets/base",
          "model_name": "LayoutModel",
          "model_module_version": "1.2.0",
          "state": {
            "_model_module": "@jupyter-widgets/base",
            "_model_module_version": "1.2.0",
            "_model_name": "LayoutModel",
            "_view_count": null,
            "_view_module": "@jupyter-widgets/base",
            "_view_module_version": "1.2.0",
            "_view_name": "LayoutView",
            "align_content": null,
            "align_items": null,
            "align_self": null,
            "border": null,
            "bottom": null,
            "display": null,
            "flex": null,
            "flex_flow": null,
            "grid_area": null,
            "grid_auto_columns": null,
            "grid_auto_flow": null,
            "grid_auto_rows": null,
            "grid_column": null,
            "grid_gap": null,
            "grid_row": null,
            "grid_template_areas": null,
            "grid_template_columns": null,
            "grid_template_rows": null,
            "height": null,
            "justify_content": null,
            "justify_items": null,
            "left": null,
            "margin": null,
            "max_height": null,
            "max_width": null,
            "min_height": null,
            "min_width": null,
            "object_fit": null,
            "object_position": null,
            "order": null,
            "overflow": null,
            "overflow_x": null,
            "overflow_y": null,
            "padding": null,
            "right": null,
            "top": null,
            "visibility": null,
            "width": null
          }
        },
        "9bcefef2e98944808007b2b51c242dd9": {
          "model_module": "@jupyter-widgets/controls",
          "model_name": "ButtonStyleModel",
          "model_module_version": "1.5.0",
          "state": {
            "_model_module": "@jupyter-widgets/controls",
            "_model_module_version": "1.5.0",
            "_model_name": "ButtonStyleModel",
            "_view_count": null,
            "_view_module": "@jupyter-widgets/base",
            "_view_module_version": "1.2.0",
            "_view_name": "StyleView",
            "button_color": null,
            "font_weight": ""
          }
        }
      }
    }
  },
  "nbformat": 4,
  "nbformat_minor": 0
}
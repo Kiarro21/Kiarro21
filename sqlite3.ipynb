{
  "cells": [
    {
      "cell_type": "markdown",
      "metadata": {
        "id": "view-in-github",
        "colab_type": "text"
      },
      "source": [
        "<a href=\"https://colab.research.google.com/github/Kiarro21/Kiarro21/blob/main/sqlite3.ipynb\" target=\"_parent\"><img src=\"https://colab.research.google.com/assets/colab-badge.svg\" alt=\"Open In Colab\"/></a>"
      ]
    },
    {
      "cell_type": "code",
      "source": [
        "import sqlite3\n",
        "\n",
        "conn = sqlite3.connect(\"mydatabase.db\")\n",
        "cursor = conn.cursor()\n",
        "\n",
        "createTB1 = \"\"\"CREATE TABLE S\n",
        "            (s text NOT NULL,\n",
        "             sname text NOT NULL,\n",
        "             status text,\n",
        "             city text,\n",
        "             PRIMARY KEY (s))\"\"\"\n",
        "\n",
        "createTB2 = \"\"\"CREATE TABLE P\n",
        "            (p text NOT NULL,\n",
        "             pname text NOT NULL,\n",
        "             weight int,\n",
        "             color text,\n",
        "             city text,\n",
        "             PRIMARY KEY (p))\"\"\"\n",
        "\n",
        "createTB3 = \"\"\"CREATE TABLE SP\n",
        "            (n int NOT NULL,\n",
        "             s text NOT NULL,\n",
        "             p text NOT NULL,\n",
        "             qty int,\n",
        "             PRIMARY KEY (n),\n",
        "             FOREIGN KEY (s) REFERENCES S(s),\n",
        "             FOREIGN KEY (p) REFERENCES P(p))\"\"\"\n",
        "\n",
        "#cursor.execute(createTB1)\n",
        "#cursor.execute(createTB2)\n",
        "#cursor.execute(createTB3)\n",
        "\n",
        "addData1 = \"\"\"INSERT INTO S VALUES \n",
        "          ('S1', 'Аракелян', 'Активен', 'Майкоп'),\n",
        "          ('S2', 'Тлюстангелов', 'Не активен', 'Краснодар'),\n",
        "          ('S3', 'Архипов', 'Активен', 'Нальчик')\"\"\"\n",
        "\n",
        "addData2 = \"\"\"INSERT INTO P VALUES \n",
        "          ('P1', 'Деталь 1', 150, 'Красный', 'Сочи'),\n",
        "          ('P2', 'Деталь 2', 250, 'Синий', 'Армавир'),\n",
        "          ('P3', 'Деталь 3', 175, 'Жёлтый', 'Курганинск')\"\"\"\n",
        "\n",
        "addData3 = \"\"\"INSERT INTO SP VALUES \n",
        "          (1, 'S2', 'P3', 10),\n",
        "          (2, 'S1', 'P2', 12),\n",
        "          (3, 'S3', 'P1', 8)\"\"\"\n",
        "          \n",
        "#cursor.execute(addData1)\n",
        "#cursor.execute(addData2)\n",
        "#cursor.execute(addData3)\n",
        "\n",
        "conn.commit()"
      ],
      "metadata": {
        "id": "Zn5kolOXJWp3"
      },
      "execution_count": 1,
      "outputs": []
    },
    {
      "cell_type": "code",
      "source": [
        "selectTB1 = \"\"\"SELECT *\n",
        "            FROM S\n",
        "            \"\"\"\n",
        "\n",
        "selectTB2 = \"\"\"SELECT *\n",
        "            FROM P\n",
        "            \"\"\"\n",
        "selectTB3 = \"\"\"SELECT *\n",
        "            FROM SP\n",
        "            \"\"\"\n",
        "\n",
        "cursor.execute(selectTB1)\n",
        "rows = cursor.fetchall()\n",
        " \n",
        "for row in rows:\n",
        "    print (row)\n",
        "print ('\\n')\n",
        "\n",
        "cursor.execute(selectTB2)\n",
        "rows = cursor.fetchall()\n",
        " \n",
        "for row in rows:\n",
        "    print (row)\n",
        "print ('\\n')\n",
        "\n",
        "\n",
        "cursor.execute(selectTB3)\n",
        "rows = cursor.fetchall()\n",
        " \n",
        "for row in rows:\n",
        "    print (row)\n",
        "print ('\\n')"
      ],
      "metadata": {
        "colab": {
          "base_uri": "https://localhost:8080/"
        },
        "id": "GXwS7D1PdQ5i",
        "outputId": "8b1f9959-cffa-4beb-8d69-c14a2f760ebe"
      },
      "execution_count": 2,
      "outputs": [
        {
          "output_type": "stream",
          "name": "stdout",
          "text": [
            "('S1', 'Аракелян', 'Активен', 'Майкоп')\n",
            "('S2', 'Тлюстангелов', 'Не активен', 'Краснодар')\n",
            "('S3', 'Архипов', 'Активен', 'Нальчик')\n",
            "\n",
            "\n",
            "('P1', 'Деталь 1', 150, 'Красный', 'Сочи')\n",
            "('P2', 'Деталь 2', 250, 'Синий', 'Армавир')\n",
            "('P3', 'Деталь 3', 175, 'Жёлтый', 'Курганинск')\n",
            "\n",
            "\n",
            "(1, 'S2', 'P3', 10)\n",
            "(2, 'S1', 'P2', 12)\n",
            "(3, 'S3', 'P1', 8)\n",
            "\n",
            "\n"
          ]
        }
      ]
    },
    {
      "cell_type": "code",
      "source": [
        "import ipywidgets as widgets\n",
        "\n",
        "\n",
        "def tbSelect(event):\n",
        "  cursor.execute(\"SELECT * FROM '\"+tbSel.value+\"'\")\n",
        "  for i in cursor.fetchall():\n",
        "    print(i)\n",
        "\n",
        "def showTables():\n",
        "  display(tbSel)\n",
        "  tdBtnSel = widgets.Button(description='Choose the table')\n",
        "  display(tdBtnSel)\n",
        "  tdBtnSel.on_click(tbSelect) \n",
        "\n",
        "\n",
        "tbSel = widgets.Select(\n",
        "        options=['S', 'P', 'SP'],\n",
        "        value='S',\n",
        "        rows=3,\n",
        "        description='',\n",
        "        disabled=False)\n"
      ],
      "metadata": {
        "id": "xhZapbhXtaXF"
      },
      "execution_count": 3,
      "outputs": []
    },
    {
      "cell_type": "markdown",
      "source": [
        "**1. Добавление поставщика**"
      ],
      "metadata": {
        "id": "j6Kg5sSbXFfx"
      }
    },
    {
      "cell_type": "code",
      "source": [
        "def addDataS(event):\n",
        "  cursor.executemany(\"INSERT INTO S VALUES (?, ?, ?, ?)\",[(t1.value,t2.value,t3.value,t4.value,)])\n",
        "  conn.commit()\n",
        "  showTables()\n",
        "\n",
        "\n",
        "t1 = widgets.Text(\n",
        "    value='',\n",
        "    placeholder='Type s',\n",
        "    description='Enter s:',\n",
        "    disabled=False\n",
        ")\n",
        "display(t1)\n",
        "t2 = widgets.Text(\n",
        "    value='',\n",
        "    placeholder='Type sname',\n",
        "    description='Enter sname:',\n",
        "    disabled=False\n",
        ")\n",
        "display(t2)\n",
        "t3 = widgets.Dropdown(\n",
        "    options=['Активный', 'Не активный'],\n",
        "    value='Активный',\n",
        "    description='Choose status:',\n",
        ")\n",
        "display(t3)\n",
        "t4 = widgets.Text(\n",
        "    value='',\n",
        "    placeholder='Type city',\n",
        "    description='Enter city:',\n",
        "    disabled=False\n",
        ")\n",
        "display(t4)\n",
        "\n",
        "btnAddDataS = widgets.Button(description='Add new S')\n",
        "btnAddDataS.on_click(addDataS)\n",
        "display(btnAddDataS)"
      ],
      "metadata": {
        "id": "RonlTTnPJV33",
        "outputId": "690c0b84-bcdd-4506-ea50-d6e493df9498",
        "colab": {
          "base_uri": "https://localhost:8080/",
          "height": 472,
          "referenced_widgets": [
            "71e5a7514e4748b09ab49f4e2da5f2c0",
            "19760ef096c64afb9b15259cdb08f6fc",
            "9b7cb69e870d47eb9dca5d5b7cbf3e2a",
            "3474b3ee4e004a7f9f36371c7669c587",
            "eeb160596a224a2f82b5917a59187bd2",
            "7d96cae1ea6e44aba98e21be9af0f3d9",
            "9d99c6b17f9442448514baf078dc11dd",
            "cbed5179f0c84b9dad7a53c020c28075",
            "9219edfd743842eb82c5488500daddc6",
            "c2d99a4431b74fd9b76610549c52bc22",
            "706dc4fd8e0c4dac8c30288f4121be03",
            "8a873070c6e7430baf419404166f46e7",
            "597bf419729b4a268ecf6d81a2dec4c6",
            "23e56f184b6d4aa2adbbb1fb8dcb99e4",
            "69ad88759b6a49109da03156bd939576",
            "8567ea7cff6d4d9b88d6bea94860dded",
            "c0ffdd6db3d24dd98b6098e85b695a92",
            "20c61ce547bd4b75a0f4eee635d483ca",
            "9a164a0f1064409183a53cdfcf6ffd2c",
            "274df46fdf7d4178b0d22606c00fc29d",
            "6b5a1a3895464040925d491e4963df15"
          ]
        }
      },
      "execution_count": 11,
      "outputs": [
        {
          "output_type": "display_data",
          "data": {
            "text/plain": [
              "Text(value='', description='Enter s:', placeholder='Type s')"
            ],
            "application/vnd.jupyter.widget-view+json": {
              "version_major": 2,
              "version_minor": 0,
              "model_id": "71e5a7514e4748b09ab49f4e2da5f2c0"
            }
          },
          "metadata": {}
        },
        {
          "output_type": "display_data",
          "data": {
            "text/plain": [
              "Text(value='', description='Enter sname:', placeholder='Type sname')"
            ],
            "application/vnd.jupyter.widget-view+json": {
              "version_major": 2,
              "version_minor": 0,
              "model_id": "3474b3ee4e004a7f9f36371c7669c587"
            }
          },
          "metadata": {}
        },
        {
          "output_type": "display_data",
          "data": {
            "text/plain": [
              "Dropdown(description='Choose status:', options=('Активный', 'Не активный'), value='Активный')"
            ],
            "application/vnd.jupyter.widget-view+json": {
              "version_major": 2,
              "version_minor": 0,
              "model_id": "9d99c6b17f9442448514baf078dc11dd"
            }
          },
          "metadata": {}
        },
        {
          "output_type": "display_data",
          "data": {
            "text/plain": [
              "Text(value='', description='Enter city:', placeholder='Type city')"
            ],
            "application/vnd.jupyter.widget-view+json": {
              "version_major": 2,
              "version_minor": 0,
              "model_id": "c2d99a4431b74fd9b76610549c52bc22"
            }
          },
          "metadata": {}
        },
        {
          "output_type": "display_data",
          "data": {
            "text/plain": [
              "Button(description='Add new S', style=ButtonStyle())"
            ],
            "application/vnd.jupyter.widget-view+json": {
              "version_major": 2,
              "version_minor": 0,
              "model_id": "597bf419729b4a268ecf6d81a2dec4c6"
            }
          },
          "metadata": {}
        },
        {
          "output_type": "display_data",
          "data": {
            "text/plain": [
              "Select(options=('S', 'P', 'SP'), rows=3, value='S')"
            ],
            "application/vnd.jupyter.widget-view+json": {
              "version_major": 2,
              "version_minor": 0,
              "model_id": "8567ea7cff6d4d9b88d6bea94860dded"
            }
          },
          "metadata": {}
        },
        {
          "output_type": "display_data",
          "data": {
            "text/plain": [
              "Button(description='Choose the table', style=ButtonStyle())"
            ],
            "application/vnd.jupyter.widget-view+json": {
              "version_major": 2,
              "version_minor": 0,
              "model_id": "9a164a0f1064409183a53cdfcf6ffd2c"
            }
          },
          "metadata": {}
        },
        {
          "output_type": "stream",
          "name": "stdout",
          "text": [
            "('S1', 'Аракелян', 'Активен', 'Майкоп')\n",
            "('S2', 'Тлюстангелов', 'Не активен', 'Краснодар')\n",
            "('S3', 'Архипов', 'Активен', 'Нальчик')\n",
            "('S4', 'Джаудат', 'Активный', 'Майкоп')\n",
            "('S5', 'Аракелян', 'Не активный', 'Нальчик')\n",
            "('S1', 'Аракелян', 'Активен', 'Майкоп')\n",
            "('S2', 'Тлюстангелов', 'Не активен', 'Краснодар')\n",
            "('S3', 'Архипов', 'Активен', 'Нальчик')\n",
            "('S4', 'Джаудат', 'Активный', 'Майкоп')\n",
            "('P1', 'Деталь 1', 150, 'Красный', 'Сочи')\n",
            "('P2', 'Деталь 2', 250, 'Синий', 'Армавир')\n",
            "('P3', 'Деталь 3', 175, 'Жёлтый', 'Курганинск')\n"
          ]
        }
      ]
    },
    {
      "cell_type": "markdown",
      "source": [
        "**2. Удаление поставщика**"
      ],
      "metadata": {
        "id": "rs0Fso_STfKB"
      }
    },
    {
      "cell_type": "code",
      "source": [
        "def deleteS(event):\n",
        "  cursor.executemany(\"DELETE FROM S WHERE s = (?)\", [sListWid.value])\n",
        "  conn.commit()\n",
        "  showTables()\n",
        "\n",
        "\n",
        "cursor.execute(\"SELECT s FROM S\")\n",
        "\n",
        "sList = cursor.fetchall()\n",
        "sListWid = widgets.Dropdown(\n",
        "    options=sList,\n",
        "    value=sList[1],\n",
        "    description='Choose S:',\n",
        "    disabled=False,\n",
        ")\n",
        "display(sListWid)\n",
        "\n",
        "btnDeleteS = widgets.Button(description='Delete S')\n",
        "btnDeleteS.on_click(deleteS)\n",
        "display(btnDeleteS)"
      ],
      "metadata": {
        "colab": {
          "base_uri": "https://localhost:8080/",
          "height": 81,
          "referenced_widgets": [
            "fe81495b42cd4d8fbc2612820c953eff",
            "616b4c5135eb4f66bb4c2cd786f87dce",
            "e4a0ade57b0647699e175474f91cdd17",
            "4899428094574337b0fa0e02084ca46a",
            "49c919e463994a1f9ea61dd006bcd968",
            "15d4f0af90874246a6d26eff040a05cc"
          ]
        },
        "id": "oidQ_HN5TmjY",
        "outputId": "e8777cee-c546-4765-a841-f800e9c90ac5"
      },
      "execution_count": 26,
      "outputs": [
        {
          "output_type": "display_data",
          "data": {
            "text/plain": [
              "Dropdown(description='Choose S:', index=1, options=(('S1',), ('S2',), ('S3',), ('S4',)), value=('S2',))"
            ],
            "application/vnd.jupyter.widget-view+json": {
              "version_major": 2,
              "version_minor": 0,
              "model_id": "fe81495b42cd4d8fbc2612820c953eff"
            }
          },
          "metadata": {}
        },
        {
          "output_type": "display_data",
          "data": {
            "text/plain": [
              "Button(description='Delete S', style=ButtonStyle())"
            ],
            "application/vnd.jupyter.widget-view+json": {
              "version_major": 2,
              "version_minor": 0,
              "model_id": "4899428094574337b0fa0e02084ca46a"
            }
          },
          "metadata": {}
        }
      ]
    },
    {
      "cell_type": "markdown",
      "source": [
        "**3. Обновление данных о поставщике**"
      ],
      "metadata": {
        "id": "JfnojcTmWlhx"
      }
    },
    {
      "cell_type": "code",
      "source": [
        "def ChooseS(event):\n",
        "  c1 = widgets.Text(\n",
        "    value='',\n",
        "    placeholder='Enter sname',\n",
        "    description='Change sname:',\n",
        "    disabled=False\n",
        "  ) \n",
        "  display(c1)\n",
        "  c2 = widgets.Dropdown(\n",
        "    options=['Активный', 'Не активный'],\n",
        "    value='Активный',\n",
        "    description='Choose status:',\n",
        "  )\n",
        "  display(c2)\n",
        "  c3 = widgets.Text(\n",
        "    value='',\n",
        "    placeholder='Enter city',\n",
        "    description='Change city:',\n",
        "    disabled=False\n",
        "  ) \n",
        "  display(c3)\n",
        "  btnUpS = widgets.Button(description='Update S')\n",
        "  btnUpS.on_click(updateS)\n",
        "  display(btnUpS)\n",
        "\n",
        "def updateS(event):\n",
        "  cursor.executemany(\"UPDATE albums SET sname='\"+c1.value+\"', status='\"+c2.value+\"', city='\"+c3.value+\"' WHERE s = '\"+sListWid.value+\"'\")\n",
        "  showTables()\n",
        "\n",
        "cursor.execute(\"SELECT s FROM S\")\n",
        "sList = cursor.fetchall()\n",
        "sListWid = widgets.Dropdown(\n",
        "    options=sList,\n",
        "    value=sList[1],\n",
        "    description='Choose S:',\n",
        "    disabled=False,\n",
        ")\n",
        "display(sListWid)\n",
        "\n",
        "btnS = widgets.Button(description='Choose S')\n",
        "btnS.on_click(ChooseS)\n",
        "display(btnS)"
      ],
      "metadata": {
        "colab": {
          "base_uri": "https://localhost:8080/",
          "height": 424,
          "referenced_widgets": [
            "23cf2cf5f6534740bf1079bcd3338671",
            "5d3cd42158304873959be7054227f13c",
            "e95f990ba132440faee7603a97f54f13",
            "9d08a4e2c0b444de9428e7680692e0be",
            "8ddb3debee8e4af990536fec832481c9",
            "13cd947405ee4751b90aa789d6d25fa2",
            "305dadd9f5e34f509650732184c73b7b",
            "565d83f55239465ab85da4734957cebe",
            "9ee6507b5a9542f6aa39de0a53970562",
            "2fa7ec2c140347008551cc902f7fef4c",
            "971ee09875354a9b87007bd224caa832",
            "336e8fb477944c6998c7cb3c31b6512a",
            "e518730f7c0147b7938ffcca8bc4f830",
            "8ee39d36d05445bcaa4b1cff6dfba9ec",
            "00edd0e9cb114be1a92e04de383fe9af",
            "92d2ee1386974b88ba70d0025e056563",
            "f125a594f1984e74aa0f4e1f5891acbb",
            "e6ae92f4534345268cd6dc58663f56d6"
          ]
        },
        "id": "R22KdlrAWmzd",
        "outputId": "d8f6872d-4f62-4f87-ba33-4c7c4db752b1"
      },
      "execution_count": 35,
      "outputs": [
        {
          "output_type": "display_data",
          "data": {
            "text/plain": [
              "Dropdown(description='Choose S:', index=1, options=(('S1',), ('S2',), ('S3',), ('S4',)), value=('S2',))"
            ],
            "application/vnd.jupyter.widget-view+json": {
              "version_major": 2,
              "version_minor": 0,
              "model_id": "23cf2cf5f6534740bf1079bcd3338671"
            }
          },
          "metadata": {}
        },
        {
          "output_type": "display_data",
          "data": {
            "text/plain": [
              "Button(description='Choose S', style=ButtonStyle())"
            ],
            "application/vnd.jupyter.widget-view+json": {
              "version_major": 2,
              "version_minor": 0,
              "model_id": "9d08a4e2c0b444de9428e7680692e0be"
            }
          },
          "metadata": {}
        },
        {
          "output_type": "display_data",
          "data": {
            "text/plain": [
              "Text(value='', description='Change sname:', placeholder='Enter sname')"
            ],
            "application/vnd.jupyter.widget-view+json": {
              "version_major": 2,
              "version_minor": 0,
              "model_id": "305dadd9f5e34f509650732184c73b7b"
            }
          },
          "metadata": {}
        },
        {
          "output_type": "display_data",
          "data": {
            "text/plain": [
              "Dropdown(description='Choose status:', options=('Активный', 'Не активный'), value='Активный')"
            ],
            "application/vnd.jupyter.widget-view+json": {
              "version_major": 2,
              "version_minor": 0,
              "model_id": "2fa7ec2c140347008551cc902f7fef4c"
            }
          },
          "metadata": {}
        },
        {
          "output_type": "display_data",
          "data": {
            "text/plain": [
              "Text(value='', description='Change city:', placeholder='Enter city')"
            ],
            "application/vnd.jupyter.widget-view+json": {
              "version_major": 2,
              "version_minor": 0,
              "model_id": "e518730f7c0147b7938ffcca8bc4f830"
            }
          },
          "metadata": {}
        },
        {
          "output_type": "display_data",
          "data": {
            "text/plain": [
              "Button(description='Update S', style=ButtonStyle())"
            ],
            "application/vnd.jupyter.widget-view+json": {
              "version_major": 2,
              "version_minor": 0,
              "model_id": "92d2ee1386974b88ba70d0025e056563"
            }
          },
          "metadata": {}
        },
        {
          "output_type": "error",
          "ename": "NameError",
          "evalue": "ignored",
          "traceback": [
            "\u001b[0;31m---------------------------------------------------------------------------\u001b[0m",
            "\u001b[0;31mNameError\u001b[0m                                 Traceback (most recent call last)",
            "\u001b[0;32m<ipython-input-35-ad3e6b328f69>\u001b[0m in \u001b[0;36mupdateS\u001b[0;34m(event)\u001b[0m\n\u001b[1;32m     25\u001b[0m \u001b[0;34m\u001b[0m\u001b[0m\n\u001b[1;32m     26\u001b[0m \u001b[0;32mdef\u001b[0m \u001b[0mupdateS\u001b[0m\u001b[0;34m(\u001b[0m\u001b[0mevent\u001b[0m\u001b[0;34m)\u001b[0m\u001b[0;34m:\u001b[0m\u001b[0;34m\u001b[0m\u001b[0;34m\u001b[0m\u001b[0m\n\u001b[0;32m---> 27\u001b[0;31m   \u001b[0mcursor\u001b[0m\u001b[0;34m.\u001b[0m\u001b[0mexecutemany\u001b[0m\u001b[0;34m(\u001b[0m\u001b[0;34m\"UPDATE albums SET sname='\"\u001b[0m\u001b[0;34m+\u001b[0m\u001b[0mc1\u001b[0m\u001b[0;34m.\u001b[0m\u001b[0mvalue\u001b[0m\u001b[0;34m+\u001b[0m\u001b[0;34m\"', status='\"\u001b[0m\u001b[0;34m+\u001b[0m\u001b[0mc2\u001b[0m\u001b[0;34m.\u001b[0m\u001b[0mvalue\u001b[0m\u001b[0;34m+\u001b[0m\u001b[0;34m\"', city='\"\u001b[0m\u001b[0;34m+\u001b[0m\u001b[0mc3\u001b[0m\u001b[0;34m.\u001b[0m\u001b[0mvalue\u001b[0m\u001b[0;34m+\u001b[0m\u001b[0;34m\"' WHERE s = '\"\u001b[0m\u001b[0;34m+\u001b[0m\u001b[0msListWid\u001b[0m\u001b[0;34m.\u001b[0m\u001b[0mvalue\u001b[0m\u001b[0;34m+\u001b[0m\u001b[0;34m\"'\"\u001b[0m\u001b[0;34m)\u001b[0m\u001b[0;34m\u001b[0m\u001b[0;34m\u001b[0m\u001b[0m\n\u001b[0m\u001b[1;32m     28\u001b[0m   \u001b[0mshowTables\u001b[0m\u001b[0;34m(\u001b[0m\u001b[0;34m)\u001b[0m\u001b[0;34m\u001b[0m\u001b[0;34m\u001b[0m\u001b[0m\n\u001b[1;32m     29\u001b[0m \u001b[0;34m\u001b[0m\u001b[0m\n",
            "\u001b[0;31mNameError\u001b[0m: name 'c1' is not defined"
          ]
        }
      ]
    },
    {
      "cell_type": "markdown",
      "source": [
        "**4. Добавление поставки**"
      ],
      "metadata": {
        "id": "M2nNY2VTdtFJ"
      }
    },
    {
      "cell_type": "code",
      "source": [
        "def addDataP(event):\n",
        "  cursor.executemany(\"INSERT INTO P VALUES (?, ?, ?, ?, ?)\",[(p1.value,p2.value,p3.value,p4.value,p5.value)])\n",
        "  conn.commit()\n",
        "  showTables()\n",
        "\n",
        "\n",
        "p1 = widgets.Text(\n",
        "    value='',\n",
        "    placeholder='Type p',\n",
        "    description='Enter p:',\n",
        "    disabled=False\n",
        ")\n",
        "display(p1)\n",
        "p2 = widgets.Text(\n",
        "    value='',\n",
        "    placeholder='Type pname',\n",
        "    description='Enter pname:',\n",
        "    disabled=False\n",
        ")\n",
        "display(p2)\n",
        "p3 = widgets.IntText(\n",
        "    value=0,\n",
        "    description='Weight:',\n",
        "    disabled=False\n",
        ")\n",
        "display(p3)\n",
        "p4 = widgets.Text(\n",
        "    value='',\n",
        "    placeholder='Type color',\n",
        "    description='Enter color:',\n",
        "    disabled=False\n",
        ")\n",
        "display(p4)\n",
        "p5 = widgets.Text(\n",
        "    value='',\n",
        "    placeholder='Type city',\n",
        "    description='Enter city:',\n",
        "    disabled=False\n",
        ")\n",
        "display(p5)\n",
        "\n",
        "btnAddDataP = widgets.Button(description='Add new P')\n",
        "btnAddDataP.on_click(addDataP)\n",
        "display(btnAddDataP)"
      ],
      "metadata": {
        "id": "p5g8iy_fduZB",
        "outputId": "e3f04f8d-bf34-42bd-e843-ce6b990dfc3c",
        "colab": {
          "base_uri": "https://localhost:8080/",
          "height": 201,
          "referenced_widgets": [
            "1e85329347284636a2e876730406b196",
            "b9d3b23de8dc42aa8c9c392692fd3721",
            "a10d173856534b14afc22a61e2f65529",
            "1e181c43525c47269013f4d5e740c559",
            "12152141a2e941ddbca3ee5e6470fd3a",
            "8537ea9de51f4ae191d5c49eb5cce0b2",
            "1a09e2f8447e4466a68e510199f5c9ac",
            "bc35306ea16e4be19992e12c97bcd465",
            "50ac71deacde4ae7aab361c72f912545",
            "ad70ae0d4853486c9243c7517c8fb5ca",
            "8496a5847c944f65a99641b9acbeaca2",
            "2770fb70dbe645f0af88d541e82d22c7",
            "9a40f2bcd754402cbbf17e324fa7f366",
            "f355906ab2df4cb4aa269e5143b112a7",
            "506586921e1c426895eaee289bd2e275",
            "9d1c01290a3c4202b16e8dfeb8c00f56",
            "963308f23e1e441d975ae6bba3ee055a",
            "f1dc65899dad4ce29cb21799c0f24135"
          ]
        }
      },
      "execution_count": 43,
      "outputs": [
        {
          "output_type": "display_data",
          "data": {
            "text/plain": [
              "Text(value='', description='Enter p:', placeholder='Type p')"
            ],
            "application/vnd.jupyter.widget-view+json": {
              "version_major": 2,
              "version_minor": 0,
              "model_id": "1e85329347284636a2e876730406b196"
            }
          },
          "metadata": {}
        },
        {
          "output_type": "display_data",
          "data": {
            "text/plain": [
              "Text(value='', description='Enter pname:', placeholder='Type pname')"
            ],
            "application/vnd.jupyter.widget-view+json": {
              "version_major": 2,
              "version_minor": 0,
              "model_id": "1e181c43525c47269013f4d5e740c559"
            }
          },
          "metadata": {}
        },
        {
          "output_type": "display_data",
          "data": {
            "text/plain": [
              "IntText(value=0, description='Weight:')"
            ],
            "application/vnd.jupyter.widget-view+json": {
              "version_major": 2,
              "version_minor": 0,
              "model_id": "1a09e2f8447e4466a68e510199f5c9ac"
            }
          },
          "metadata": {}
        },
        {
          "output_type": "display_data",
          "data": {
            "text/plain": [
              "Text(value='', description='Enter color:', placeholder='Type color')"
            ],
            "application/vnd.jupyter.widget-view+json": {
              "version_major": 2,
              "version_minor": 0,
              "model_id": "ad70ae0d4853486c9243c7517c8fb5ca"
            }
          },
          "metadata": {}
        },
        {
          "output_type": "display_data",
          "data": {
            "text/plain": [
              "Text(value='', description='Enter city:', placeholder='Type city')"
            ],
            "application/vnd.jupyter.widget-view+json": {
              "version_major": 2,
              "version_minor": 0,
              "model_id": "9a40f2bcd754402cbbf17e324fa7f366"
            }
          },
          "metadata": {}
        },
        {
          "output_type": "display_data",
          "data": {
            "text/plain": [
              "Button(description='Add new P', style=ButtonStyle())"
            ],
            "application/vnd.jupyter.widget-view+json": {
              "version_major": 2,
              "version_minor": 0,
              "model_id": "9d1c01290a3c4202b16e8dfeb8c00f56"
            }
          },
          "metadata": {}
        }
      ]
    }
  ],
  "metadata": {
    "colab": {
      "collapsed_sections": [],
      "name": "Добро пожаловать в Colaboratory!",
      "provenance": [],
      "include_colab_link": true
    },
    "kernelspec": {
      "display_name": "Python 3",
      "name": "python3"
    },
    "widgets": {
      "application/vnd.jupyter.widget-state+json": {
        "71e5a7514e4748b09ab49f4e2da5f2c0": {
          "model_module": "@jupyter-widgets/controls",
          "model_name": "TextModel",
          "model_module_version": "1.5.0",
          "state": {
            "_dom_classes": [],
            "_model_module": "@jupyter-widgets/controls",
            "_model_module_version": "1.5.0",
            "_model_name": "TextModel",
            "_view_count": null,
            "_view_module": "@jupyter-widgets/controls",
            "_view_module_version": "1.5.0",
            "_view_name": "TextView",
            "continuous_update": true,
            "description": "Enter s:",
            "description_tooltip": null,
            "disabled": false,
            "layout": "IPY_MODEL_19760ef096c64afb9b15259cdb08f6fc",
            "placeholder": "Type s",
            "style": "IPY_MODEL_9b7cb69e870d47eb9dca5d5b7cbf3e2a",
            "value": "S5"
          }
        },
        "19760ef096c64afb9b15259cdb08f6fc": {
          "model_module": "@jupyter-widgets/base",
          "model_name": "LayoutModel",
          "model_module_version": "1.2.0",
          "state": {
            "_model_module": "@jupyter-widgets/base",
            "_model_module_version": "1.2.0",
            "_model_name": "LayoutModel",
            "_view_count": null,
            "_view_module": "@jupyter-widgets/base",
            "_view_module_version": "1.2.0",
            "_view_name": "LayoutView",
            "align_content": null,
            "align_items": null,
            "align_self": null,
            "border": null,
            "bottom": null,
            "display": null,
            "flex": null,
            "flex_flow": null,
            "grid_area": null,
            "grid_auto_columns": null,
            "grid_auto_flow": null,
            "grid_auto_rows": null,
            "grid_column": null,
            "grid_gap": null,
            "grid_row": null,
            "grid_template_areas": null,
            "grid_template_columns": null,
            "grid_template_rows": null,
            "height": null,
            "justify_content": null,
            "justify_items": null,
            "left": null,
            "margin": null,
            "max_height": null,
            "max_width": null,
            "min_height": null,
            "min_width": null,
            "object_fit": null,
            "object_position": null,
            "order": null,
            "overflow": null,
            "overflow_x": null,
            "overflow_y": null,
            "padding": null,
            "right": null,
            "top": null,
            "visibility": null,
            "width": null
          }
        },
        "9b7cb69e870d47eb9dca5d5b7cbf3e2a": {
          "model_module": "@jupyter-widgets/controls",
          "model_name": "DescriptionStyleModel",
          "model_module_version": "1.5.0",
          "state": {
            "_model_module": "@jupyter-widgets/controls",
            "_model_module_version": "1.5.0",
            "_model_name": "DescriptionStyleModel",
            "_view_count": null,
            "_view_module": "@jupyter-widgets/base",
            "_view_module_version": "1.2.0",
            "_view_name": "StyleView",
            "description_width": ""
          }
        },
        "3474b3ee4e004a7f9f36371c7669c587": {
          "model_module": "@jupyter-widgets/controls",
          "model_name": "TextModel",
          "model_module_version": "1.5.0",
          "state": {
            "_dom_classes": [],
            "_model_module": "@jupyter-widgets/controls",
            "_model_module_version": "1.5.0",
            "_model_name": "TextModel",
            "_view_count": null,
            "_view_module": "@jupyter-widgets/controls",
            "_view_module_version": "1.5.0",
            "_view_name": "TextView",
            "continuous_update": true,
            "description": "Enter sname:",
            "description_tooltip": null,
            "disabled": false,
            "layout": "IPY_MODEL_eeb160596a224a2f82b5917a59187bd2",
            "placeholder": "Type sname",
            "style": "IPY_MODEL_7d96cae1ea6e44aba98e21be9af0f3d9",
            "value": "Аракелян"
          }
        },
        "eeb160596a224a2f82b5917a59187bd2": {
          "model_module": "@jupyter-widgets/base",
          "model_name": "LayoutModel",
          "model_module_version": "1.2.0",
          "state": {
            "_model_module": "@jupyter-widgets/base",
            "_model_module_version": "1.2.0",
            "_model_name": "LayoutModel",
            "_view_count": null,
            "_view_module": "@jupyter-widgets/base",
            "_view_module_version": "1.2.0",
            "_view_name": "LayoutView",
            "align_content": null,
            "align_items": null,
            "align_self": null,
            "border": null,
            "bottom": null,
            "display": null,
            "flex": null,
            "flex_flow": null,
            "grid_area": null,
            "grid_auto_columns": null,
            "grid_auto_flow": null,
            "grid_auto_rows": null,
            "grid_column": null,
            "grid_gap": null,
            "grid_row": null,
            "grid_template_areas": null,
            "grid_template_columns": null,
            "grid_template_rows": null,
            "height": null,
            "justify_content": null,
            "justify_items": null,
            "left": null,
            "margin": null,
            "max_height": null,
            "max_width": null,
            "min_height": null,
            "min_width": null,
            "object_fit": null,
            "object_position": null,
            "order": null,
            "overflow": null,
            "overflow_x": null,
            "overflow_y": null,
            "padding": null,
            "right": null,
            "top": null,
            "visibility": null,
            "width": null
          }
        },
        "7d96cae1ea6e44aba98e21be9af0f3d9": {
          "model_module": "@jupyter-widgets/controls",
          "model_name": "DescriptionStyleModel",
          "model_module_version": "1.5.0",
          "state": {
            "_model_module": "@jupyter-widgets/controls",
            "_model_module_version": "1.5.0",
            "_model_name": "DescriptionStyleModel",
            "_view_count": null,
            "_view_module": "@jupyter-widgets/base",
            "_view_module_version": "1.2.0",
            "_view_name": "StyleView",
            "description_width": ""
          }
        },
        "9d99c6b17f9442448514baf078dc11dd": {
          "model_module": "@jupyter-widgets/controls",
          "model_name": "DropdownModel",
          "model_module_version": "1.5.0",
          "state": {
            "_dom_classes": [],
            "_model_module": "@jupyter-widgets/controls",
            "_model_module_version": "1.5.0",
            "_model_name": "DropdownModel",
            "_options_labels": [
              "Активный",
              "Не активный"
            ],
            "_view_count": null,
            "_view_module": "@jupyter-widgets/controls",
            "_view_module_version": "1.5.0",
            "_view_name": "DropdownView",
            "description": "Choose status:",
            "description_tooltip": null,
            "disabled": false,
            "index": 1,
            "layout": "IPY_MODEL_cbed5179f0c84b9dad7a53c020c28075",
            "style": "IPY_MODEL_9219edfd743842eb82c5488500daddc6"
          }
        },
        "cbed5179f0c84b9dad7a53c020c28075": {
          "model_module": "@jupyter-widgets/base",
          "model_name": "LayoutModel",
          "model_module_version": "1.2.0",
          "state": {
            "_model_module": "@jupyter-widgets/base",
            "_model_module_version": "1.2.0",
            "_model_name": "LayoutModel",
            "_view_count": null,
            "_view_module": "@jupyter-widgets/base",
            "_view_module_version": "1.2.0",
            "_view_name": "LayoutView",
            "align_content": null,
            "align_items": null,
            "align_self": null,
            "border": null,
            "bottom": null,
            "display": null,
            "flex": null,
            "flex_flow": null,
            "grid_area": null,
            "grid_auto_columns": null,
            "grid_auto_flow": null,
            "grid_auto_rows": null,
            "grid_column": null,
            "grid_gap": null,
            "grid_row": null,
            "grid_template_areas": null,
            "grid_template_columns": null,
            "grid_template_rows": null,
            "height": null,
            "justify_content": null,
            "justify_items": null,
            "left": null,
            "margin": null,
            "max_height": null,
            "max_width": null,
            "min_height": null,
            "min_width": null,
            "object_fit": null,
            "object_position": null,
            "order": null,
            "overflow": null,
            "overflow_x": null,
            "overflow_y": null,
            "padding": null,
            "right": null,
            "top": null,
            "visibility": null,
            "width": null
          }
        },
        "9219edfd743842eb82c5488500daddc6": {
          "model_module": "@jupyter-widgets/controls",
          "model_name": "DescriptionStyleModel",
          "model_module_version": "1.5.0",
          "state": {
            "_model_module": "@jupyter-widgets/controls",
            "_model_module_version": "1.5.0",
            "_model_name": "DescriptionStyleModel",
            "_view_count": null,
            "_view_module": "@jupyter-widgets/base",
            "_view_module_version": "1.2.0",
            "_view_name": "StyleView",
            "description_width": ""
          }
        },
        "c2d99a4431b74fd9b76610549c52bc22": {
          "model_module": "@jupyter-widgets/controls",
          "model_name": "TextModel",
          "model_module_version": "1.5.0",
          "state": {
            "_dom_classes": [],
            "_model_module": "@jupyter-widgets/controls",
            "_model_module_version": "1.5.0",
            "_model_name": "TextModel",
            "_view_count": null,
            "_view_module": "@jupyter-widgets/controls",
            "_view_module_version": "1.5.0",
            "_view_name": "TextView",
            "continuous_update": true,
            "description": "Enter city:",
            "description_tooltip": null,
            "disabled": false,
            "layout": "IPY_MODEL_706dc4fd8e0c4dac8c30288f4121be03",
            "placeholder": "Type city",
            "style": "IPY_MODEL_8a873070c6e7430baf419404166f46e7",
            "value": "Нальчик"
          }
        },
        "706dc4fd8e0c4dac8c30288f4121be03": {
          "model_module": "@jupyter-widgets/base",
          "model_name": "LayoutModel",
          "model_module_version": "1.2.0",
          "state": {
            "_model_module": "@jupyter-widgets/base",
            "_model_module_version": "1.2.0",
            "_model_name": "LayoutModel",
            "_view_count": null,
            "_view_module": "@jupyter-widgets/base",
            "_view_module_version": "1.2.0",
            "_view_name": "LayoutView",
            "align_content": null,
            "align_items": null,
            "align_self": null,
            "border": null,
            "bottom": null,
            "display": null,
            "flex": null,
            "flex_flow": null,
            "grid_area": null,
            "grid_auto_columns": null,
            "grid_auto_flow": null,
            "grid_auto_rows": null,
            "grid_column": null,
            "grid_gap": null,
            "grid_row": null,
            "grid_template_areas": null,
            "grid_template_columns": null,
            "grid_template_rows": null,
            "height": null,
            "justify_content": null,
            "justify_items": null,
            "left": null,
            "margin": null,
            "max_height": null,
            "max_width": null,
            "min_height": null,
            "min_width": null,
            "object_fit": null,
            "object_position": null,
            "order": null,
            "overflow": null,
            "overflow_x": null,
            "overflow_y": null,
            "padding": null,
            "right": null,
            "top": null,
            "visibility": null,
            "width": null
          }
        },
        "8a873070c6e7430baf419404166f46e7": {
          "model_module": "@jupyter-widgets/controls",
          "model_name": "DescriptionStyleModel",
          "model_module_version": "1.5.0",
          "state": {
            "_model_module": "@jupyter-widgets/controls",
            "_model_module_version": "1.5.0",
            "_model_name": "DescriptionStyleModel",
            "_view_count": null,
            "_view_module": "@jupyter-widgets/base",
            "_view_module_version": "1.2.0",
            "_view_name": "StyleView",
            "description_width": ""
          }
        },
        "597bf419729b4a268ecf6d81a2dec4c6": {
          "model_module": "@jupyter-widgets/controls",
          "model_name": "ButtonModel",
          "model_module_version": "1.5.0",
          "state": {
            "_dom_classes": [],
            "_model_module": "@jupyter-widgets/controls",
            "_model_module_version": "1.5.0",
            "_model_name": "ButtonModel",
            "_view_count": null,
            "_view_module": "@jupyter-widgets/controls",
            "_view_module_version": "1.5.0",
            "_view_name": "ButtonView",
            "button_style": "",
            "description": "Add new S",
            "disabled": false,
            "icon": "",
            "layout": "IPY_MODEL_23e56f184b6d4aa2adbbb1fb8dcb99e4",
            "style": "IPY_MODEL_69ad88759b6a49109da03156bd939576",
            "tooltip": ""
          }
        },
        "23e56f184b6d4aa2adbbb1fb8dcb99e4": {
          "model_module": "@jupyter-widgets/base",
          "model_name": "LayoutModel",
          "model_module_version": "1.2.0",
          "state": {
            "_model_module": "@jupyter-widgets/base",
            "_model_module_version": "1.2.0",
            "_model_name": "LayoutModel",
            "_view_count": null,
            "_view_module": "@jupyter-widgets/base",
            "_view_module_version": "1.2.0",
            "_view_name": "LayoutView",
            "align_content": null,
            "align_items": null,
            "align_self": null,
            "border": null,
            "bottom": null,
            "display": null,
            "flex": null,
            "flex_flow": null,
            "grid_area": null,
            "grid_auto_columns": null,
            "grid_auto_flow": null,
            "grid_auto_rows": null,
            "grid_column": null,
            "grid_gap": null,
            "grid_row": null,
            "grid_template_areas": null,
            "grid_template_columns": null,
            "grid_template_rows": null,
            "height": null,
            "justify_content": null,
            "justify_items": null,
            "left": null,
            "margin": null,
            "max_height": null,
            "max_width": null,
            "min_height": null,
            "min_width": null,
            "object_fit": null,
            "object_position": null,
            "order": null,
            "overflow": null,
            "overflow_x": null,
            "overflow_y": null,
            "padding": null,
            "right": null,
            "top": null,
            "visibility": null,
            "width": null
          }
        },
        "69ad88759b6a49109da03156bd939576": {
          "model_module": "@jupyter-widgets/controls",
          "model_name": "ButtonStyleModel",
          "model_module_version": "1.5.0",
          "state": {
            "_model_module": "@jupyter-widgets/controls",
            "_model_module_version": "1.5.0",
            "_model_name": "ButtonStyleModel",
            "_view_count": null,
            "_view_module": "@jupyter-widgets/base",
            "_view_module_version": "1.2.0",
            "_view_name": "StyleView",
            "button_color": null,
            "font_weight": ""
          }
        },
        "8567ea7cff6d4d9b88d6bea94860dded": {
          "model_module": "@jupyter-widgets/controls",
          "model_name": "SelectModel",
          "model_module_version": "1.5.0",
          "state": {
            "_dom_classes": [],
            "_model_module": "@jupyter-widgets/controls",
            "_model_module_version": "1.5.0",
            "_model_name": "SelectModel",
            "_options_labels": [
              "S",
              "P",
              "SP"
            ],
            "_view_count": null,
            "_view_module": "@jupyter-widgets/controls",
            "_view_module_version": "1.5.0",
            "_view_name": "SelectView",
            "description": "",
            "description_tooltip": null,
            "disabled": false,
            "index": 1,
            "layout": "IPY_MODEL_c0ffdd6db3d24dd98b6098e85b695a92",
            "rows": 3,
            "style": "IPY_MODEL_20c61ce547bd4b75a0f4eee635d483ca"
          }
        },
        "c0ffdd6db3d24dd98b6098e85b695a92": {
          "model_module": "@jupyter-widgets/base",
          "model_name": "LayoutModel",
          "model_module_version": "1.2.0",
          "state": {
            "_model_module": "@jupyter-widgets/base",
            "_model_module_version": "1.2.0",
            "_model_name": "LayoutModel",
            "_view_count": null,
            "_view_module": "@jupyter-widgets/base",
            "_view_module_version": "1.2.0",
            "_view_name": "LayoutView",
            "align_content": null,
            "align_items": null,
            "align_self": null,
            "border": null,
            "bottom": null,
            "display": null,
            "flex": null,
            "flex_flow": null,
            "grid_area": null,
            "grid_auto_columns": null,
            "grid_auto_flow": null,
            "grid_auto_rows": null,
            "grid_column": null,
            "grid_gap": null,
            "grid_row": null,
            "grid_template_areas": null,
            "grid_template_columns": null,
            "grid_template_rows": null,
            "height": null,
            "justify_content": null,
            "justify_items": null,
            "left": null,
            "margin": null,
            "max_height": null,
            "max_width": null,
            "min_height": null,
            "min_width": null,
            "object_fit": null,
            "object_position": null,
            "order": null,
            "overflow": null,
            "overflow_x": null,
            "overflow_y": null,
            "padding": null,
            "right": null,
            "top": null,
            "visibility": null,
            "width": null
          }
        },
        "20c61ce547bd4b75a0f4eee635d483ca": {
          "model_module": "@jupyter-widgets/controls",
          "model_name": "DescriptionStyleModel",
          "model_module_version": "1.5.0",
          "state": {
            "_model_module": "@jupyter-widgets/controls",
            "_model_module_version": "1.5.0",
            "_model_name": "DescriptionStyleModel",
            "_view_count": null,
            "_view_module": "@jupyter-widgets/base",
            "_view_module_version": "1.2.0",
            "_view_name": "StyleView",
            "description_width": ""
          }
        },
        "9a164a0f1064409183a53cdfcf6ffd2c": {
          "model_module": "@jupyter-widgets/controls",
          "model_name": "ButtonModel",
          "model_module_version": "1.5.0",
          "state": {
            "_dom_classes": [],
            "_model_module": "@jupyter-widgets/controls",
            "_model_module_version": "1.5.0",
            "_model_name": "ButtonModel",
            "_view_count": null,
            "_view_module": "@jupyter-widgets/controls",
            "_view_module_version": "1.5.0",
            "_view_name": "ButtonView",
            "button_style": "",
            "description": "Choose the table",
            "disabled": false,
            "icon": "",
            "layout": "IPY_MODEL_274df46fdf7d4178b0d22606c00fc29d",
            "style": "IPY_MODEL_6b5a1a3895464040925d491e4963df15",
            "tooltip": ""
          }
        },
        "274df46fdf7d4178b0d22606c00fc29d": {
          "model_module": "@jupyter-widgets/base",
          "model_name": "LayoutModel",
          "model_module_version": "1.2.0",
          "state": {
            "_model_module": "@jupyter-widgets/base",
            "_model_module_version": "1.2.0",
            "_model_name": "LayoutModel",
            "_view_count": null,
            "_view_module": "@jupyter-widgets/base",
            "_view_module_version": "1.2.0",
            "_view_name": "LayoutView",
            "align_content": null,
            "align_items": null,
            "align_self": null,
            "border": null,
            "bottom": null,
            "display": null,
            "flex": null,
            "flex_flow": null,
            "grid_area": null,
            "grid_auto_columns": null,
            "grid_auto_flow": null,
            "grid_auto_rows": null,
            "grid_column": null,
            "grid_gap": null,
            "grid_row": null,
            "grid_template_areas": null,
            "grid_template_columns": null,
            "grid_template_rows": null,
            "height": null,
            "justify_content": null,
            "justify_items": null,
            "left": null,
            "margin": null,
            "max_height": null,
            "max_width": null,
            "min_height": null,
            "min_width": null,
            "object_fit": null,
            "object_position": null,
            "order": null,
            "overflow": null,
            "overflow_x": null,
            "overflow_y": null,
            "padding": null,
            "right": null,
            "top": null,
            "visibility": null,
            "width": null
          }
        },
        "6b5a1a3895464040925d491e4963df15": {
          "model_module": "@jupyter-widgets/controls",
          "model_name": "ButtonStyleModel",
          "model_module_version": "1.5.0",
          "state": {
            "_model_module": "@jupyter-widgets/controls",
            "_model_module_version": "1.5.0",
            "_model_name": "ButtonStyleModel",
            "_view_count": null,
            "_view_module": "@jupyter-widgets/base",
            "_view_module_version": "1.2.0",
            "_view_name": "StyleView",
            "button_color": null,
            "font_weight": ""
          }
        },
        "fe81495b42cd4d8fbc2612820c953eff": {
          "model_module": "@jupyter-widgets/controls",
          "model_name": "DropdownModel",
          "model_module_version": "1.5.0",
          "state": {
            "_dom_classes": [],
            "_model_module": "@jupyter-widgets/controls",
            "_model_module_version": "1.5.0",
            "_model_name": "DropdownModel",
            "_options_labels": [
              "('S1',)",
              "('S2',)",
              "('S3',)",
              "('S4',)"
            ],
            "_view_count": null,
            "_view_module": "@jupyter-widgets/controls",
            "_view_module_version": "1.5.0",
            "_view_name": "DropdownView",
            "description": "Choose S:",
            "description_tooltip": null,
            "disabled": false,
            "index": 1,
            "layout": "IPY_MODEL_616b4c5135eb4f66bb4c2cd786f87dce",
            "style": "IPY_MODEL_e4a0ade57b0647699e175474f91cdd17"
          }
        },
        "616b4c5135eb4f66bb4c2cd786f87dce": {
          "model_module": "@jupyter-widgets/base",
          "model_name": "LayoutModel",
          "model_module_version": "1.2.0",
          "state": {
            "_model_module": "@jupyter-widgets/base",
            "_model_module_version": "1.2.0",
            "_model_name": "LayoutModel",
            "_view_count": null,
            "_view_module": "@jupyter-widgets/base",
            "_view_module_version": "1.2.0",
            "_view_name": "LayoutView",
            "align_content": null,
            "align_items": null,
            "align_self": null,
            "border": null,
            "bottom": null,
            "display": null,
            "flex": null,
            "flex_flow": null,
            "grid_area": null,
            "grid_auto_columns": null,
            "grid_auto_flow": null,
            "grid_auto_rows": null,
            "grid_column": null,
            "grid_gap": null,
            "grid_row": null,
            "grid_template_areas": null,
            "grid_template_columns": null,
            "grid_template_rows": null,
            "height": null,
            "justify_content": null,
            "justify_items": null,
            "left": null,
            "margin": null,
            "max_height": null,
            "max_width": null,
            "min_height": null,
            "min_width": null,
            "object_fit": null,
            "object_position": null,
            "order": null,
            "overflow": null,
            "overflow_x": null,
            "overflow_y": null,
            "padding": null,
            "right": null,
            "top": null,
            "visibility": null,
            "width": null
          }
        },
        "e4a0ade57b0647699e175474f91cdd17": {
          "model_module": "@jupyter-widgets/controls",
          "model_name": "DescriptionStyleModel",
          "model_module_version": "1.5.0",
          "state": {
            "_model_module": "@jupyter-widgets/controls",
            "_model_module_version": "1.5.0",
            "_model_name": "DescriptionStyleModel",
            "_view_count": null,
            "_view_module": "@jupyter-widgets/base",
            "_view_module_version": "1.2.0",
            "_view_name": "StyleView",
            "description_width": ""
          }
        },
        "4899428094574337b0fa0e02084ca46a": {
          "model_module": "@jupyter-widgets/controls",
          "model_name": "ButtonModel",
          "model_module_version": "1.5.0",
          "state": {
            "_dom_classes": [],
            "_model_module": "@jupyter-widgets/controls",
            "_model_module_version": "1.5.0",
            "_model_name": "ButtonModel",
            "_view_count": null,
            "_view_module": "@jupyter-widgets/controls",
            "_view_module_version": "1.5.0",
            "_view_name": "ButtonView",
            "button_style": "",
            "description": "Delete S",
            "disabled": false,
            "icon": "",
            "layout": "IPY_MODEL_49c919e463994a1f9ea61dd006bcd968",
            "style": "IPY_MODEL_15d4f0af90874246a6d26eff040a05cc",
            "tooltip": ""
          }
        },
        "49c919e463994a1f9ea61dd006bcd968": {
          "model_module": "@jupyter-widgets/base",
          "model_name": "LayoutModel",
          "model_module_version": "1.2.0",
          "state": {
            "_model_module": "@jupyter-widgets/base",
            "_model_module_version": "1.2.0",
            "_model_name": "LayoutModel",
            "_view_count": null,
            "_view_module": "@jupyter-widgets/base",
            "_view_module_version": "1.2.0",
            "_view_name": "LayoutView",
            "align_content": null,
            "align_items": null,
            "align_self": null,
            "border": null,
            "bottom": null,
            "display": null,
            "flex": null,
            "flex_flow": null,
            "grid_area": null,
            "grid_auto_columns": null,
            "grid_auto_flow": null,
            "grid_auto_rows": null,
            "grid_column": null,
            "grid_gap": null,
            "grid_row": null,
            "grid_template_areas": null,
            "grid_template_columns": null,
            "grid_template_rows": null,
            "height": null,
            "justify_content": null,
            "justify_items": null,
            "left": null,
            "margin": null,
            "max_height": null,
            "max_width": null,
            "min_height": null,
            "min_width": null,
            "object_fit": null,
            "object_position": null,
            "order": null,
            "overflow": null,
            "overflow_x": null,
            "overflow_y": null,
            "padding": null,
            "right": null,
            "top": null,
            "visibility": null,
            "width": null
          }
        },
        "15d4f0af90874246a6d26eff040a05cc": {
          "model_module": "@jupyter-widgets/controls",
          "model_name": "ButtonStyleModel",
          "model_module_version": "1.5.0",
          "state": {
            "_model_module": "@jupyter-widgets/controls",
            "_model_module_version": "1.5.0",
            "_model_name": "ButtonStyleModel",
            "_view_count": null,
            "_view_module": "@jupyter-widgets/base",
            "_view_module_version": "1.2.0",
            "_view_name": "StyleView",
            "button_color": null,
            "font_weight": ""
          }
        },
        "23cf2cf5f6534740bf1079bcd3338671": {
          "model_module": "@jupyter-widgets/controls",
          "model_name": "DropdownModel",
          "model_module_version": "1.5.0",
          "state": {
            "_dom_classes": [],
            "_model_module": "@jupyter-widgets/controls",
            "_model_module_version": "1.5.0",
            "_model_name": "DropdownModel",
            "_options_labels": [
              "('S1',)",
              "('S2',)",
              "('S3',)",
              "('S4',)"
            ],
            "_view_count": null,
            "_view_module": "@jupyter-widgets/controls",
            "_view_module_version": "1.5.0",
            "_view_name": "DropdownView",
            "description": "Choose S:",
            "description_tooltip": null,
            "disabled": false,
            "index": 0,
            "layout": "IPY_MODEL_5d3cd42158304873959be7054227f13c",
            "style": "IPY_MODEL_e95f990ba132440faee7603a97f54f13"
          }
        },
        "5d3cd42158304873959be7054227f13c": {
          "model_module": "@jupyter-widgets/base",
          "model_name": "LayoutModel",
          "model_module_version": "1.2.0",
          "state": {
            "_model_module": "@jupyter-widgets/base",
            "_model_module_version": "1.2.0",
            "_model_name": "LayoutModel",
            "_view_count": null,
            "_view_module": "@jupyter-widgets/base",
            "_view_module_version": "1.2.0",
            "_view_name": "LayoutView",
            "align_content": null,
            "align_items": null,
            "align_self": null,
            "border": null,
            "bottom": null,
            "display": null,
            "flex": null,
            "flex_flow": null,
            "grid_area": null,
            "grid_auto_columns": null,
            "grid_auto_flow": null,
            "grid_auto_rows": null,
            "grid_column": null,
            "grid_gap": null,
            "grid_row": null,
            "grid_template_areas": null,
            "grid_template_columns": null,
            "grid_template_rows": null,
            "height": null,
            "justify_content": null,
            "justify_items": null,
            "left": null,
            "margin": null,
            "max_height": null,
            "max_width": null,
            "min_height": null,
            "min_width": null,
            "object_fit": null,
            "object_position": null,
            "order": null,
            "overflow": null,
            "overflow_x": null,
            "overflow_y": null,
            "padding": null,
            "right": null,
            "top": null,
            "visibility": null,
            "width": null
          }
        },
        "e95f990ba132440faee7603a97f54f13": {
          "model_module": "@jupyter-widgets/controls",
          "model_name": "DescriptionStyleModel",
          "model_module_version": "1.5.0",
          "state": {
            "_model_module": "@jupyter-widgets/controls",
            "_model_module_version": "1.5.0",
            "_model_name": "DescriptionStyleModel",
            "_view_count": null,
            "_view_module": "@jupyter-widgets/base",
            "_view_module_version": "1.2.0",
            "_view_name": "StyleView",
            "description_width": ""
          }
        },
        "9d08a4e2c0b444de9428e7680692e0be": {
          "model_module": "@jupyter-widgets/controls",
          "model_name": "ButtonModel",
          "model_module_version": "1.5.0",
          "state": {
            "_dom_classes": [],
            "_model_module": "@jupyter-widgets/controls",
            "_model_module_version": "1.5.0",
            "_model_name": "ButtonModel",
            "_view_count": null,
            "_view_module": "@jupyter-widgets/controls",
            "_view_module_version": "1.5.0",
            "_view_name": "ButtonView",
            "button_style": "",
            "description": "Choose S",
            "disabled": false,
            "icon": "",
            "layout": "IPY_MODEL_8ddb3debee8e4af990536fec832481c9",
            "style": "IPY_MODEL_13cd947405ee4751b90aa789d6d25fa2",
            "tooltip": ""
          }
        },
        "8ddb3debee8e4af990536fec832481c9": {
          "model_module": "@jupyter-widgets/base",
          "model_name": "LayoutModel",
          "model_module_version": "1.2.0",
          "state": {
            "_model_module": "@jupyter-widgets/base",
            "_model_module_version": "1.2.0",
            "_model_name": "LayoutModel",
            "_view_count": null,
            "_view_module": "@jupyter-widgets/base",
            "_view_module_version": "1.2.0",
            "_view_name": "LayoutView",
            "align_content": null,
            "align_items": null,
            "align_self": null,
            "border": null,
            "bottom": null,
            "display": null,
            "flex": null,
            "flex_flow": null,
            "grid_area": null,
            "grid_auto_columns": null,
            "grid_auto_flow": null,
            "grid_auto_rows": null,
            "grid_column": null,
            "grid_gap": null,
            "grid_row": null,
            "grid_template_areas": null,
            "grid_template_columns": null,
            "grid_template_rows": null,
            "height": null,
            "justify_content": null,
            "justify_items": null,
            "left": null,
            "margin": null,
            "max_height": null,
            "max_width": null,
            "min_height": null,
            "min_width": null,
            "object_fit": null,
            "object_position": null,
            "order": null,
            "overflow": null,
            "overflow_x": null,
            "overflow_y": null,
            "padding": null,
            "right": null,
            "top": null,
            "visibility": null,
            "width": null
          }
        },
        "13cd947405ee4751b90aa789d6d25fa2": {
          "model_module": "@jupyter-widgets/controls",
          "model_name": "ButtonStyleModel",
          "model_module_version": "1.5.0",
          "state": {
            "_model_module": "@jupyter-widgets/controls",
            "_model_module_version": "1.5.0",
            "_model_name": "ButtonStyleModel",
            "_view_count": null,
            "_view_module": "@jupyter-widgets/base",
            "_view_module_version": "1.2.0",
            "_view_name": "StyleView",
            "button_color": null,
            "font_weight": ""
          }
        },
        "305dadd9f5e34f509650732184c73b7b": {
          "model_module": "@jupyter-widgets/controls",
          "model_name": "TextModel",
          "model_module_version": "1.5.0",
          "state": {
            "_dom_classes": [],
            "_model_module": "@jupyter-widgets/controls",
            "_model_module_version": "1.5.0",
            "_model_name": "TextModel",
            "_view_count": null,
            "_view_module": "@jupyter-widgets/controls",
            "_view_module_version": "1.5.0",
            "_view_name": "TextView",
            "continuous_update": true,
            "description": "Change sname:",
            "description_tooltip": null,
            "disabled": false,
            "layout": "IPY_MODEL_565d83f55239465ab85da4734957cebe",
            "placeholder": "Enter sname",
            "style": "IPY_MODEL_9ee6507b5a9542f6aa39de0a53970562",
            "value": "Косенко"
          }
        },
        "565d83f55239465ab85da4734957cebe": {
          "model_module": "@jupyter-widgets/base",
          "model_name": "LayoutModel",
          "model_module_version": "1.2.0",
          "state": {
            "_model_module": "@jupyter-widgets/base",
            "_model_module_version": "1.2.0",
            "_model_name": "LayoutModel",
            "_view_count": null,
            "_view_module": "@jupyter-widgets/base",
            "_view_module_version": "1.2.0",
            "_view_name": "LayoutView",
            "align_content": null,
            "align_items": null,
            "align_self": null,
            "border": null,
            "bottom": null,
            "display": null,
            "flex": null,
            "flex_flow": null,
            "grid_area": null,
            "grid_auto_columns": null,
            "grid_auto_flow": null,
            "grid_auto_rows": null,
            "grid_column": null,
            "grid_gap": null,
            "grid_row": null,
            "grid_template_areas": null,
            "grid_template_columns": null,
            "grid_template_rows": null,
            "height": null,
            "justify_content": null,
            "justify_items": null,
            "left": null,
            "margin": null,
            "max_height": null,
            "max_width": null,
            "min_height": null,
            "min_width": null,
            "object_fit": null,
            "object_position": null,
            "order": null,
            "overflow": null,
            "overflow_x": null,
            "overflow_y": null,
            "padding": null,
            "right": null,
            "top": null,
            "visibility": null,
            "width": null
          }
        },
        "9ee6507b5a9542f6aa39de0a53970562": {
          "model_module": "@jupyter-widgets/controls",
          "model_name": "DescriptionStyleModel",
          "model_module_version": "1.5.0",
          "state": {
            "_model_module": "@jupyter-widgets/controls",
            "_model_module_version": "1.5.0",
            "_model_name": "DescriptionStyleModel",
            "_view_count": null,
            "_view_module": "@jupyter-widgets/base",
            "_view_module_version": "1.2.0",
            "_view_name": "StyleView",
            "description_width": ""
          }
        },
        "2fa7ec2c140347008551cc902f7fef4c": {
          "model_module": "@jupyter-widgets/controls",
          "model_name": "DropdownModel",
          "model_module_version": "1.5.0",
          "state": {
            "_dom_classes": [],
            "_model_module": "@jupyter-widgets/controls",
            "_model_module_version": "1.5.0",
            "_model_name": "DropdownModel",
            "_options_labels": [
              "Активный",
              "Не активный"
            ],
            "_view_count": null,
            "_view_module": "@jupyter-widgets/controls",
            "_view_module_version": "1.5.0",
            "_view_name": "DropdownView",
            "description": "Choose status:",
            "description_tooltip": null,
            "disabled": false,
            "index": 1,
            "layout": "IPY_MODEL_971ee09875354a9b87007bd224caa832",
            "style": "IPY_MODEL_336e8fb477944c6998c7cb3c31b6512a"
          }
        },
        "971ee09875354a9b87007bd224caa832": {
          "model_module": "@jupyter-widgets/base",
          "model_name": "LayoutModel",
          "model_module_version": "1.2.0",
          "state": {
            "_model_module": "@jupyter-widgets/base",
            "_model_module_version": "1.2.0",
            "_model_name": "LayoutModel",
            "_view_count": null,
            "_view_module": "@jupyter-widgets/base",
            "_view_module_version": "1.2.0",
            "_view_name": "LayoutView",
            "align_content": null,
            "align_items": null,
            "align_self": null,
            "border": null,
            "bottom": null,
            "display": null,
            "flex": null,
            "flex_flow": null,
            "grid_area": null,
            "grid_auto_columns": null,
            "grid_auto_flow": null,
            "grid_auto_rows": null,
            "grid_column": null,
            "grid_gap": null,
            "grid_row": null,
            "grid_template_areas": null,
            "grid_template_columns": null,
            "grid_template_rows": null,
            "height": null,
            "justify_content": null,
            "justify_items": null,
            "left": null,
            "margin": null,
            "max_height": null,
            "max_width": null,
            "min_height": null,
            "min_width": null,
            "object_fit": null,
            "object_position": null,
            "order": null,
            "overflow": null,
            "overflow_x": null,
            "overflow_y": null,
            "padding": null,
            "right": null,
            "top": null,
            "visibility": null,
            "width": null
          }
        },
        "336e8fb477944c6998c7cb3c31b6512a": {
          "model_module": "@jupyter-widgets/controls",
          "model_name": "DescriptionStyleModel",
          "model_module_version": "1.5.0",
          "state": {
            "_model_module": "@jupyter-widgets/controls",
            "_model_module_version": "1.5.0",
            "_model_name": "DescriptionStyleModel",
            "_view_count": null,
            "_view_module": "@jupyter-widgets/base",
            "_view_module_version": "1.2.0",
            "_view_name": "StyleView",
            "description_width": ""
          }
        },
        "e518730f7c0147b7938ffcca8bc4f830": {
          "model_module": "@jupyter-widgets/controls",
          "model_name": "TextModel",
          "model_module_version": "1.5.0",
          "state": {
            "_dom_classes": [],
            "_model_module": "@jupyter-widgets/controls",
            "_model_module_version": "1.5.0",
            "_model_name": "TextModel",
            "_view_count": null,
            "_view_module": "@jupyter-widgets/controls",
            "_view_module_version": "1.5.0",
            "_view_name": "TextView",
            "continuous_update": true,
            "description": "Change city:",
            "description_tooltip": null,
            "disabled": false,
            "layout": "IPY_MODEL_8ee39d36d05445bcaa4b1cff6dfba9ec",
            "placeholder": "Enter city",
            "style": "IPY_MODEL_00edd0e9cb114be1a92e04de383fe9af",
            "value": "Нальчик"
          }
        },
        "8ee39d36d05445bcaa4b1cff6dfba9ec": {
          "model_module": "@jupyter-widgets/base",
          "model_name": "LayoutModel",
          "model_module_version": "1.2.0",
          "state": {
            "_model_module": "@jupyter-widgets/base",
            "_model_module_version": "1.2.0",
            "_model_name": "LayoutModel",
            "_view_count": null,
            "_view_module": "@jupyter-widgets/base",
            "_view_module_version": "1.2.0",
            "_view_name": "LayoutView",
            "align_content": null,
            "align_items": null,
            "align_self": null,
            "border": null,
            "bottom": null,
            "display": null,
            "flex": null,
            "flex_flow": null,
            "grid_area": null,
            "grid_auto_columns": null,
            "grid_auto_flow": null,
            "grid_auto_rows": null,
            "grid_column": null,
            "grid_gap": null,
            "grid_row": null,
            "grid_template_areas": null,
            "grid_template_columns": null,
            "grid_template_rows": null,
            "height": null,
            "justify_content": null,
            "justify_items": null,
            "left": null,
            "margin": null,
            "max_height": null,
            "max_width": null,
            "min_height": null,
            "min_width": null,
            "object_fit": null,
            "object_position": null,
            "order": null,
            "overflow": null,
            "overflow_x": null,
            "overflow_y": null,
            "padding": null,
            "right": null,
            "top": null,
            "visibility": null,
            "width": null
          }
        },
        "00edd0e9cb114be1a92e04de383fe9af": {
          "model_module": "@jupyter-widgets/controls",
          "model_name": "DescriptionStyleModel",
          "model_module_version": "1.5.0",
          "state": {
            "_model_module": "@jupyter-widgets/controls",
            "_model_module_version": "1.5.0",
            "_model_name": "DescriptionStyleModel",
            "_view_count": null,
            "_view_module": "@jupyter-widgets/base",
            "_view_module_version": "1.2.0",
            "_view_name": "StyleView",
            "description_width": ""
          }
        },
        "92d2ee1386974b88ba70d0025e056563": {
          "model_module": "@jupyter-widgets/controls",
          "model_name": "ButtonModel",
          "model_module_version": "1.5.0",
          "state": {
            "_dom_classes": [],
            "_model_module": "@jupyter-widgets/controls",
            "_model_module_version": "1.5.0",
            "_model_name": "ButtonModel",
            "_view_count": null,
            "_view_module": "@jupyter-widgets/controls",
            "_view_module_version": "1.5.0",
            "_view_name": "ButtonView",
            "button_style": "",
            "description": "Update S",
            "disabled": false,
            "icon": "",
            "layout": "IPY_MODEL_f125a594f1984e74aa0f4e1f5891acbb",
            "style": "IPY_MODEL_e6ae92f4534345268cd6dc58663f56d6",
            "tooltip": ""
          }
        },
        "f125a594f1984e74aa0f4e1f5891acbb": {
          "model_module": "@jupyter-widgets/base",
          "model_name": "LayoutModel",
          "model_module_version": "1.2.0",
          "state": {
            "_model_module": "@jupyter-widgets/base",
            "_model_module_version": "1.2.0",
            "_model_name": "LayoutModel",
            "_view_count": null,
            "_view_module": "@jupyter-widgets/base",
            "_view_module_version": "1.2.0",
            "_view_name": "LayoutView",
            "align_content": null,
            "align_items": null,
            "align_self": null,
            "border": null,
            "bottom": null,
            "display": null,
            "flex": null,
            "flex_flow": null,
            "grid_area": null,
            "grid_auto_columns": null,
            "grid_auto_flow": null,
            "grid_auto_rows": null,
            "grid_column": null,
            "grid_gap": null,
            "grid_row": null,
            "grid_template_areas": null,
            "grid_template_columns": null,
            "grid_template_rows": null,
            "height": null,
            "justify_content": null,
            "justify_items": null,
            "left": null,
            "margin": null,
            "max_height": null,
            "max_width": null,
            "min_height": null,
            "min_width": null,
            "object_fit": null,
            "object_position": null,
            "order": null,
            "overflow": null,
            "overflow_x": null,
            "overflow_y": null,
            "padding": null,
            "right": null,
            "top": null,
            "visibility": null,
            "width": null
          }
        },
        "e6ae92f4534345268cd6dc58663f56d6": {
          "model_module": "@jupyter-widgets/controls",
          "model_name": "ButtonStyleModel",
          "model_module_version": "1.5.0",
          "state": {
            "_model_module": "@jupyter-widgets/controls",
            "_model_module_version": "1.5.0",
            "_model_name": "ButtonStyleModel",
            "_view_count": null,
            "_view_module": "@jupyter-widgets/base",
            "_view_module_version": "1.2.0",
            "_view_name": "StyleView",
            "button_color": null,
            "font_weight": ""
          }
        },
        "1e85329347284636a2e876730406b196": {
          "model_module": "@jupyter-widgets/controls",
          "model_name": "TextModel",
          "model_module_version": "1.5.0",
          "state": {
            "_dom_classes": [],
            "_model_module": "@jupyter-widgets/controls",
            "_model_module_version": "1.5.0",
            "_model_name": "TextModel",
            "_view_count": null,
            "_view_module": "@jupyter-widgets/controls",
            "_view_module_version": "1.5.0",
            "_view_name": "TextView",
            "continuous_update": true,
            "description": "Enter p:",
            "description_tooltip": null,
            "disabled": false,
            "layout": "IPY_MODEL_b9d3b23de8dc42aa8c9c392692fd3721",
            "placeholder": "Type p",
            "style": "IPY_MODEL_a10d173856534b14afc22a61e2f65529",
            "value": ""
          }
        },
        "b9d3b23de8dc42aa8c9c392692fd3721": {
          "model_module": "@jupyter-widgets/base",
          "model_name": "LayoutModel",
          "model_module_version": "1.2.0",
          "state": {
            "_model_module": "@jupyter-widgets/base",
            "_model_module_version": "1.2.0",
            "_model_name": "LayoutModel",
            "_view_count": null,
            "_view_module": "@jupyter-widgets/base",
            "_view_module_version": "1.2.0",
            "_view_name": "LayoutView",
            "align_content": null,
            "align_items": null,
            "align_self": null,
            "border": null,
            "bottom": null,
            "display": null,
            "flex": null,
            "flex_flow": null,
            "grid_area": null,
            "grid_auto_columns": null,
            "grid_auto_flow": null,
            "grid_auto_rows": null,
            "grid_column": null,
            "grid_gap": null,
            "grid_row": null,
            "grid_template_areas": null,
            "grid_template_columns": null,
            "grid_template_rows": null,
            "height": null,
            "justify_content": null,
            "justify_items": null,
            "left": null,
            "margin": null,
            "max_height": null,
            "max_width": null,
            "min_height": null,
            "min_width": null,
            "object_fit": null,
            "object_position": null,
            "order": null,
            "overflow": null,
            "overflow_x": null,
            "overflow_y": null,
            "padding": null,
            "right": null,
            "top": null,
            "visibility": null,
            "width": null
          }
        },
        "a10d173856534b14afc22a61e2f65529": {
          "model_module": "@jupyter-widgets/controls",
          "model_name": "DescriptionStyleModel",
          "model_module_version": "1.5.0",
          "state": {
            "_model_module": "@jupyter-widgets/controls",
            "_model_module_version": "1.5.0",
            "_model_name": "DescriptionStyleModel",
            "_view_count": null,
            "_view_module": "@jupyter-widgets/base",
            "_view_module_version": "1.2.0",
            "_view_name": "StyleView",
            "description_width": ""
          }
        },
        "1e181c43525c47269013f4d5e740c559": {
          "model_module": "@jupyter-widgets/controls",
          "model_name": "TextModel",
          "model_module_version": "1.5.0",
          "state": {
            "_dom_classes": [],
            "_model_module": "@jupyter-widgets/controls",
            "_model_module_version": "1.5.0",
            "_model_name": "TextModel",
            "_view_count": null,
            "_view_module": "@jupyter-widgets/controls",
            "_view_module_version": "1.5.0",
            "_view_name": "TextView",
            "continuous_update": true,
            "description": "Enter pname:",
            "description_tooltip": null,
            "disabled": false,
            "layout": "IPY_MODEL_12152141a2e941ddbca3ee5e6470fd3a",
            "placeholder": "Type pname",
            "style": "IPY_MODEL_8537ea9de51f4ae191d5c49eb5cce0b2",
            "value": ""
          }
        },
        "12152141a2e941ddbca3ee5e6470fd3a": {
          "model_module": "@jupyter-widgets/base",
          "model_name": "LayoutModel",
          "model_module_version": "1.2.0",
          "state": {
            "_model_module": "@jupyter-widgets/base",
            "_model_module_version": "1.2.0",
            "_model_name": "LayoutModel",
            "_view_count": null,
            "_view_module": "@jupyter-widgets/base",
            "_view_module_version": "1.2.0",
            "_view_name": "LayoutView",
            "align_content": null,
            "align_items": null,
            "align_self": null,
            "border": null,
            "bottom": null,
            "display": null,
            "flex": null,
            "flex_flow": null,
            "grid_area": null,
            "grid_auto_columns": null,
            "grid_auto_flow": null,
            "grid_auto_rows": null,
            "grid_column": null,
            "grid_gap": null,
            "grid_row": null,
            "grid_template_areas": null,
            "grid_template_columns": null,
            "grid_template_rows": null,
            "height": null,
            "justify_content": null,
            "justify_items": null,
            "left": null,
            "margin": null,
            "max_height": null,
            "max_width": null,
            "min_height": null,
            "min_width": null,
            "object_fit": null,
            "object_position": null,
            "order": null,
            "overflow": null,
            "overflow_x": null,
            "overflow_y": null,
            "padding": null,
            "right": null,
            "top": null,
            "visibility": null,
            "width": null
          }
        },
        "8537ea9de51f4ae191d5c49eb5cce0b2": {
          "model_module": "@jupyter-widgets/controls",
          "model_name": "DescriptionStyleModel",
          "model_module_version": "1.5.0",
          "state": {
            "_model_module": "@jupyter-widgets/controls",
            "_model_module_version": "1.5.0",
            "_model_name": "DescriptionStyleModel",
            "_view_count": null,
            "_view_module": "@jupyter-widgets/base",
            "_view_module_version": "1.2.0",
            "_view_name": "StyleView",
            "description_width": ""
          }
        },
        "1a09e2f8447e4466a68e510199f5c9ac": {
          "model_module": "@jupyter-widgets/controls",
          "model_name": "IntTextModel",
          "model_module_version": "1.5.0",
          "state": {
            "_dom_classes": [],
            "_model_module": "@jupyter-widgets/controls",
            "_model_module_version": "1.5.0",
            "_model_name": "IntTextModel",
            "_view_count": null,
            "_view_module": "@jupyter-widgets/controls",
            "_view_module_version": "1.5.0",
            "_view_name": "IntTextView",
            "continuous_update": false,
            "description": "Weight:",
            "description_tooltip": null,
            "disabled": false,
            "layout": "IPY_MODEL_bc35306ea16e4be19992e12c97bcd465",
            "step": 1,
            "style": "IPY_MODEL_50ac71deacde4ae7aab361c72f912545",
            "value": 0
          }
        },
        "bc35306ea16e4be19992e12c97bcd465": {
          "model_module": "@jupyter-widgets/base",
          "model_name": "LayoutModel",
          "model_module_version": "1.2.0",
          "state": {
            "_model_module": "@jupyter-widgets/base",
            "_model_module_version": "1.2.0",
            "_model_name": "LayoutModel",
            "_view_count": null,
            "_view_module": "@jupyter-widgets/base",
            "_view_module_version": "1.2.0",
            "_view_name": "LayoutView",
            "align_content": null,
            "align_items": null,
            "align_self": null,
            "border": null,
            "bottom": null,
            "display": null,
            "flex": null,
            "flex_flow": null,
            "grid_area": null,
            "grid_auto_columns": null,
            "grid_auto_flow": null,
            "grid_auto_rows": null,
            "grid_column": null,
            "grid_gap": null,
            "grid_row": null,
            "grid_template_areas": null,
            "grid_template_columns": null,
            "grid_template_rows": null,
            "height": null,
            "justify_content": null,
            "justify_items": null,
            "left": null,
            "margin": null,
            "max_height": null,
            "max_width": null,
            "min_height": null,
            "min_width": null,
            "object_fit": null,
            "object_position": null,
            "order": null,
            "overflow": null,
            "overflow_x": null,
            "overflow_y": null,
            "padding": null,
            "right": null,
            "top": null,
            "visibility": null,
            "width": null
          }
        },
        "50ac71deacde4ae7aab361c72f912545": {
          "model_module": "@jupyter-widgets/controls",
          "model_name": "DescriptionStyleModel",
          "model_module_version": "1.5.0",
          "state": {
            "_model_module": "@jupyter-widgets/controls",
            "_model_module_version": "1.5.0",
            "_model_name": "DescriptionStyleModel",
            "_view_count": null,
            "_view_module": "@jupyter-widgets/base",
            "_view_module_version": "1.2.0",
            "_view_name": "StyleView",
            "description_width": ""
          }
        },
        "ad70ae0d4853486c9243c7517c8fb5ca": {
          "model_module": "@jupyter-widgets/controls",
          "model_name": "TextModel",
          "model_module_version": "1.5.0",
          "state": {
            "_dom_classes": [],
            "_model_module": "@jupyter-widgets/controls",
            "_model_module_version": "1.5.0",
            "_model_name": "TextModel",
            "_view_count": null,
            "_view_module": "@jupyter-widgets/controls",
            "_view_module_version": "1.5.0",
            "_view_name": "TextView",
            "continuous_update": true,
            "description": "Enter color:",
            "description_tooltip": null,
            "disabled": false,
            "layout": "IPY_MODEL_8496a5847c944f65a99641b9acbeaca2",
            "placeholder": "Type color",
            "style": "IPY_MODEL_2770fb70dbe645f0af88d541e82d22c7",
            "value": ""
          }
        },
        "8496a5847c944f65a99641b9acbeaca2": {
          "model_module": "@jupyter-widgets/base",
          "model_name": "LayoutModel",
          "model_module_version": "1.2.0",
          "state": {
            "_model_module": "@jupyter-widgets/base",
            "_model_module_version": "1.2.0",
            "_model_name": "LayoutModel",
            "_view_count": null,
            "_view_module": "@jupyter-widgets/base",
            "_view_module_version": "1.2.0",
            "_view_name": "LayoutView",
            "align_content": null,
            "align_items": null,
            "align_self": null,
            "border": null,
            "bottom": null,
            "display": null,
            "flex": null,
            "flex_flow": null,
            "grid_area": null,
            "grid_auto_columns": null,
            "grid_auto_flow": null,
            "grid_auto_rows": null,
            "grid_column": null,
            "grid_gap": null,
            "grid_row": null,
            "grid_template_areas": null,
            "grid_template_columns": null,
            "grid_template_rows": null,
            "height": null,
            "justify_content": null,
            "justify_items": null,
            "left": null,
            "margin": null,
            "max_height": null,
            "max_width": null,
            "min_height": null,
            "min_width": null,
            "object_fit": null,
            "object_position": null,
            "order": null,
            "overflow": null,
            "overflow_x": null,
            "overflow_y": null,
            "padding": null,
            "right": null,
            "top": null,
            "visibility": null,
            "width": null
          }
        },
        "2770fb70dbe645f0af88d541e82d22c7": {
          "model_module": "@jupyter-widgets/controls",
          "model_name": "DescriptionStyleModel",
          "model_module_version": "1.5.0",
          "state": {
            "_model_module": "@jupyter-widgets/controls",
            "_model_module_version": "1.5.0",
            "_model_name": "DescriptionStyleModel",
            "_view_count": null,
            "_view_module": "@jupyter-widgets/base",
            "_view_module_version": "1.2.0",
            "_view_name": "StyleView",
            "description_width": ""
          }
        },
        "9a40f2bcd754402cbbf17e324fa7f366": {
          "model_module": "@jupyter-widgets/controls",
          "model_name": "TextModel",
          "model_module_version": "1.5.0",
          "state": {
            "_dom_classes": [],
            "_model_module": "@jupyter-widgets/controls",
            "_model_module_version": "1.5.0",
            "_model_name": "TextModel",
            "_view_count": null,
            "_view_module": "@jupyter-widgets/controls",
            "_view_module_version": "1.5.0",
            "_view_name": "TextView",
            "continuous_update": true,
            "description": "Enter city:",
            "description_tooltip": null,
            "disabled": false,
            "layout": "IPY_MODEL_f355906ab2df4cb4aa269e5143b112a7",
            "placeholder": "Type city",
            "style": "IPY_MODEL_506586921e1c426895eaee289bd2e275",
            "value": ""
          }
        },
        "f355906ab2df4cb4aa269e5143b112a7": {
          "model_module": "@jupyter-widgets/base",
          "model_name": "LayoutModel",
          "model_module_version": "1.2.0",
          "state": {
            "_model_module": "@jupyter-widgets/base",
            "_model_module_version": "1.2.0",
            "_model_name": "LayoutModel",
            "_view_count": null,
            "_view_module": "@jupyter-widgets/base",
            "_view_module_version": "1.2.0",
            "_view_name": "LayoutView",
            "align_content": null,
            "align_items": null,
            "align_self": null,
            "border": null,
            "bottom": null,
            "display": null,
            "flex": null,
            "flex_flow": null,
            "grid_area": null,
            "grid_auto_columns": null,
            "grid_auto_flow": null,
            "grid_auto_rows": null,
            "grid_column": null,
            "grid_gap": null,
            "grid_row": null,
            "grid_template_areas": null,
            "grid_template_columns": null,
            "grid_template_rows": null,
            "height": null,
            "justify_content": null,
            "justify_items": null,
            "left": null,
            "margin": null,
            "max_height": null,
            "max_width": null,
            "min_height": null,
            "min_width": null,
            "object_fit": null,
            "object_position": null,
            "order": null,
            "overflow": null,
            "overflow_x": null,
            "overflow_y": null,
            "padding": null,
            "right": null,
            "top": null,
            "visibility": null,
            "width": null
          }
        },
        "506586921e1c426895eaee289bd2e275": {
          "model_module": "@jupyter-widgets/controls",
          "model_name": "DescriptionStyleModel",
          "model_module_version": "1.5.0",
          "state": {
            "_model_module": "@jupyter-widgets/controls",
            "_model_module_version": "1.5.0",
            "_model_name": "DescriptionStyleModel",
            "_view_count": null,
            "_view_module": "@jupyter-widgets/base",
            "_view_module_version": "1.2.0",
            "_view_name": "StyleView",
            "description_width": ""
          }
        },
        "9d1c01290a3c4202b16e8dfeb8c00f56": {
          "model_module": "@jupyter-widgets/controls",
          "model_name": "ButtonModel",
          "model_module_version": "1.5.0",
          "state": {
            "_dom_classes": [],
            "_model_module": "@jupyter-widgets/controls",
            "_model_module_version": "1.5.0",
            "_model_name": "ButtonModel",
            "_view_count": null,
            "_view_module": "@jupyter-widgets/controls",
            "_view_module_version": "1.5.0",
            "_view_name": "ButtonView",
            "button_style": "",
            "description": "Add new P",
            "disabled": false,
            "icon": "",
            "layout": "IPY_MODEL_963308f23e1e441d975ae6bba3ee055a",
            "style": "IPY_MODEL_f1dc65899dad4ce29cb21799c0f24135",
            "tooltip": ""
          }
        },
        "963308f23e1e441d975ae6bba3ee055a": {
          "model_module": "@jupyter-widgets/base",
          "model_name": "LayoutModel",
          "model_module_version": "1.2.0",
          "state": {
            "_model_module": "@jupyter-widgets/base",
            "_model_module_version": "1.2.0",
            "_model_name": "LayoutModel",
            "_view_count": null,
            "_view_module": "@jupyter-widgets/base",
            "_view_module_version": "1.2.0",
            "_view_name": "LayoutView",
            "align_content": null,
            "align_items": null,
            "align_self": null,
            "border": null,
            "bottom": null,
            "display": null,
            "flex": null,
            "flex_flow": null,
            "grid_area": null,
            "grid_auto_columns": null,
            "grid_auto_flow": null,
            "grid_auto_rows": null,
            "grid_column": null,
            "grid_gap": null,
            "grid_row": null,
            "grid_template_areas": null,
            "grid_template_columns": null,
            "grid_template_rows": null,
            "height": null,
            "justify_content": null,
            "justify_items": null,
            "left": null,
            "margin": null,
            "max_height": null,
            "max_width": null,
            "min_height": null,
            "min_width": null,
            "object_fit": null,
            "object_position": null,
            "order": null,
            "overflow": null,
            "overflow_x": null,
            "overflow_y": null,
            "padding": null,
            "right": null,
            "top": null,
            "visibility": null,
            "width": null
          }
        },
        "f1dc65899dad4ce29cb21799c0f24135": {
          "model_module": "@jupyter-widgets/controls",
          "model_name": "ButtonStyleModel",
          "model_module_version": "1.5.0",
          "state": {
            "_model_module": "@jupyter-widgets/controls",
            "_model_module_version": "1.5.0",
            "_model_name": "ButtonStyleModel",
            "_view_count": null,
            "_view_module": "@jupyter-widgets/base",
            "_view_module_version": "1.2.0",
            "_view_name": "StyleView",
            "button_color": null,
            "font_weight": ""
          }
        }
      }
    }
  },
  "nbformat": 4,
  "nbformat_minor": 0
}
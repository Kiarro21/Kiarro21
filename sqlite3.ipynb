{
  "cells": [
    {
      "cell_type": "markdown",
      "metadata": {
        "id": "view-in-github",
        "colab_type": "text"
      },
      "source": [
        "<a href=\"https://colab.research.google.com/github/Kiarro21/Kiarro21/blob/main/sqlite3.ipynb\" target=\"_parent\"><img src=\"https://colab.research.google.com/assets/colab-badge.svg\" alt=\"Open In Colab\"/></a>"
      ]
    },
    {
      "cell_type": "code",
      "source": [
        "import sqlite3\n",
        "\n",
        "conn = sqlite3.connect(\"mydatabase.db\")\n",
        "cursor = conn.cursor()\n",
        "\n",
        "createTB1 = \"\"\"CREATE TABLE IF NOT EXISTS S\n",
        "            (s text NOT NULL,\n",
        "             sname text NOT NULL,\n",
        "             status text,\n",
        "             city text,\n",
        "             PRIMARY KEY (s))\"\"\"\n",
        "\n",
        "createTB2 = \"\"\"CREATE TABLE IF NOT EXISTS P\n",
        "            (p text NOT NULL,\n",
        "             pname text NOT NULL,\n",
        "             weight int,\n",
        "             color text,\n",
        "             city text,\n",
        "             PRIMARY KEY (p))\"\"\"\n",
        "\n",
        "createTB3 = \"\"\"CREATE TABLE IF NOT EXISTS SP\n",
        "            (n int NOT NULL,\n",
        "             s text NOT NULL,\n",
        "             p text NOT NULL,\n",
        "             qty int,\n",
        "             PRIMARY KEY (n),\n",
        "             FOREIGN KEY (s) REFERENCES S(s),\n",
        "             FOREIGN KEY (p) REFERENCES P(p))\"\"\"\n",
        "\n",
        "cursor.execute(createTB1)\n",
        "cursor.execute(createTB2)\n",
        "cursor.execute(createTB3)\n",
        "\n",
        "addData1 = \"\"\"INSERT INTO S VALUES \n",
        "          ('S1', 'Аракелян', 'Активен', 'Майкоп'),\n",
        "          ('S2', 'Тлюстангелов', 'Не активен', 'Краснодар'),\n",
        "          ('S3', 'Архипов', 'Активен', 'Нальчик')\"\"\"\n",
        "\n",
        "addData2 = \"\"\"INSERT INTO P VALUES \n",
        "          ('P1', 'Деталь 1', 150, 'Красный', 'Сочи'),\n",
        "          ('P2', 'Деталь 2', 250, 'Синий', 'Армавир'),\n",
        "          ('P3', 'Деталь 3', 175, 'Жёлтый', 'Курганинск')\"\"\"\n",
        "\n",
        "addData3 = \"\"\"INSERT INTO SP VALUES \n",
        "          (1, 'S2', 'P3', 10),\n",
        "          (2, 'S1', 'P2', 12),\n",
        "          (3, 'S3', 'P1', 8)\"\"\"\n",
        "          \n",
        "#cursor.execute(addData1)\n",
        "#cursor.execute(addData2)\n",
        "#cursor.execute(addData3)\n",
        "\n",
        "conn.commit()"
      ],
      "metadata": {
        "id": "Zn5kolOXJWp3"
      },
      "execution_count": 81,
      "outputs": []
    },
    {
      "cell_type": "code",
      "source": [
        "selectTB1 = \"\"\"SELECT *\n",
        "            FROM S\n",
        "            \"\"\"\n",
        "\n",
        "selectTB2 = \"\"\"SELECT *\n",
        "            FROM P\n",
        "            \"\"\"\n",
        "selectTB3 = \"\"\"SELECT *\n",
        "            FROM SP\n",
        "            \"\"\"\n",
        "\n",
        "cursor.execute(selectTB1)\n",
        "rows = cursor.fetchall()\n",
        " \n",
        "for row in rows:\n",
        "    print (row)\n",
        "print ('\\n')\n",
        "\n",
        "cursor.execute(selectTB2)\n",
        "rows = cursor.fetchall()\n",
        " \n",
        "for row in rows:\n",
        "    print (row)\n",
        "print ('\\n')\n",
        "\n",
        "\n",
        "cursor.execute(selectTB3)\n",
        "rows = cursor.fetchall()\n",
        " \n",
        "for row in rows:\n",
        "    print (row)\n",
        "print ('\\n')"
      ],
      "metadata": {
        "colab": {
          "base_uri": "https://localhost:8080/"
        },
        "id": "GXwS7D1PdQ5i",
        "outputId": "461841c3-4a7b-4aff-940d-51cddd9760fe"
      },
      "execution_count": 82,
      "outputs": [
        {
          "output_type": "stream",
          "name": "stdout",
          "text": [
            "('S1', 'Аракелян', 'Активен', 'Майкоп')\n",
            "('S2', 'Тлюстангелов', 'Не активен', 'Краснодар')\n",
            "('S3', 'Архипов', 'Активен', 'Нальчик')\n",
            "\n",
            "\n",
            "('P1', 'Деталь 1', 150, 'Красный', 'Сочи')\n",
            "('P2', 'Деталь 2', 250, 'Синий', 'Армавир')\n",
            "('P3', 'Деталь 3', 175, 'Жёлтый', 'Курганинск')\n",
            "\n",
            "\n",
            "(1, 'S2', 'P3', 10)\n",
            "(2, 'S1', 'P2', 12)\n",
            "(3, 'S3', 'P1', 8)\n",
            "\n",
            "\n"
          ]
        }
      ]
    },
    {
      "cell_type": "code",
      "source": [
        "import ipywidgets as widgets\n",
        "\n",
        "\n",
        "def tbSelect(event):\n",
        "  cursor.execute(\"SELECT * FROM '\"+tbSel.value+\"'\")\n",
        "  for i in cursor.fetchall():\n",
        "    print(i)\n",
        "\n",
        "def showTables():\n",
        "  display(tbSel)\n",
        "  tdBtnSel = widgets.Button(description='Choose the table')\n",
        "  display(tdBtnSel)\n",
        "  tdBtnSel.on_click(tbSelect) \n",
        "\n",
        "\n",
        "tbSel = widgets.Select(\n",
        "        options=['S', 'P', 'SP'],\n",
        "        value='S',\n",
        "        rows=3,\n",
        "        description='',\n",
        "        disabled=False)\n"
      ],
      "metadata": {
        "id": "xhZapbhXtaXF"
      },
      "execution_count": 83,
      "outputs": []
    },
    {
      "cell_type": "markdown",
      "source": [
        "**1. Добавление поставщика**"
      ],
      "metadata": {
        "id": "j6Kg5sSbXFfx"
      }
    },
    {
      "cell_type": "code",
      "source": [
        "def addDataS(event):\n",
        "  cursor.executemany(\"INSERT INTO S VALUES (?, ?, ?, ?)\",[(t1.value,t2.value,t3.value,t4.value,)])\n",
        "  conn.commit()\n",
        "  showTables()\n",
        "\n",
        "\n",
        "t1 = widgets.Text(\n",
        "    value='',\n",
        "    placeholder='Type s',\n",
        "    description='Enter s:',\n",
        "    disabled=False\n",
        ")\n",
        "display(t1)\n",
        "t2 = widgets.Text(\n",
        "    value='',\n",
        "    placeholder='Type sname',\n",
        "    description='Enter sname:',\n",
        "    disabled=False\n",
        ")\n",
        "display(t2)\n",
        "t3 = widgets.Dropdown(\n",
        "    options=['Активный', 'Не активный'],\n",
        "    value='Активный',\n",
        "    description='Choose status:',\n",
        ")\n",
        "display(t3)\n",
        "t4 = widgets.Text(\n",
        "    value='',\n",
        "    placeholder='Type city',\n",
        "    description='Enter city:',\n",
        "    disabled=False\n",
        ")\n",
        "display(t4)\n",
        "\n",
        "btnAddDataS = widgets.Button(description='Add new S')\n",
        "btnAddDataS.on_click(addDataS)\n",
        "display(btnAddDataS)"
      ],
      "metadata": {
        "id": "RonlTTnPJV33",
        "outputId": "40090362-6b34-400c-e3d0-11d3f2de8c9e",
        "colab": {
          "base_uri": "https://localhost:8080/",
          "height": 171,
          "referenced_widgets": [
            "76e9e3e1987b47cd9574066a7a6b0542",
            "e0651d9fe6bb4cbeb9aa47a0e8e8417e",
            "acf0c9aa931c496e9ae4b36ea7997180",
            "21a9983a356142df983adbdfe15035ba",
            "8fe29f9406424c18be51b508e3e8a919",
            "6dd7729ada9848df876fccf818fe1b03",
            "ac2459000d564695a7fb60c2f13054c5",
            "911f6f1baf6b4eeca9c08c28527cb181",
            "272b02e102a3474f9941593331ee78dd",
            "a623afde53ad4f33942d1a87d6dc2407",
            "e9206061938c482abdf6e30f0d76ed50",
            "0ed12ff9aded464b9a94b34b91cc0c6a",
            "a956f2458b7a4b52bd93d1bc7e377dc5",
            "5b997a1e5dbc445d941593194fa64280",
            "8a67b5cfcc374ca8959d800d396905ec"
          ]
        }
      },
      "execution_count": 84,
      "outputs": [
        {
          "output_type": "display_data",
          "data": {
            "text/plain": [
              "Text(value='', description='Enter s:', placeholder='Type s')"
            ],
            "application/vnd.jupyter.widget-view+json": {
              "version_major": 2,
              "version_minor": 0,
              "model_id": "76e9e3e1987b47cd9574066a7a6b0542"
            }
          },
          "metadata": {}
        },
        {
          "output_type": "display_data",
          "data": {
            "text/plain": [
              "Text(value='', description='Enter sname:', placeholder='Type sname')"
            ],
            "application/vnd.jupyter.widget-view+json": {
              "version_major": 2,
              "version_minor": 0,
              "model_id": "21a9983a356142df983adbdfe15035ba"
            }
          },
          "metadata": {}
        },
        {
          "output_type": "display_data",
          "data": {
            "text/plain": [
              "Dropdown(description='Choose status:', options=('Активный', 'Не активный'), value='Активный')"
            ],
            "application/vnd.jupyter.widget-view+json": {
              "version_major": 2,
              "version_minor": 0,
              "model_id": "ac2459000d564695a7fb60c2f13054c5"
            }
          },
          "metadata": {}
        },
        {
          "output_type": "display_data",
          "data": {
            "text/plain": [
              "Text(value='', description='Enter city:', placeholder='Type city')"
            ],
            "application/vnd.jupyter.widget-view+json": {
              "version_major": 2,
              "version_minor": 0,
              "model_id": "a623afde53ad4f33942d1a87d6dc2407"
            }
          },
          "metadata": {}
        },
        {
          "output_type": "display_data",
          "data": {
            "text/plain": [
              "Button(description='Add new S', style=ButtonStyle())"
            ],
            "application/vnd.jupyter.widget-view+json": {
              "version_major": 2,
              "version_minor": 0,
              "model_id": "a956f2458b7a4b52bd93d1bc7e377dc5"
            }
          },
          "metadata": {}
        }
      ]
    },
    {
      "cell_type": "markdown",
      "source": [
        "**2. Удаление поставщика**"
      ],
      "metadata": {
        "id": "rs0Fso_STfKB"
      }
    },
    {
      "cell_type": "code",
      "source": [
        "def deleteS(event):\n",
        "  cursor.executemany(\"DELETE FROM S WHERE s = (?)\", [sListWid.value])\n",
        "  conn.commit()\n",
        "  showTables()\n",
        "\n",
        "\n",
        "cursor.execute(\"SELECT s FROM S\")\n",
        "\n",
        "sList = cursor.fetchall()\n",
        "sListWid = widgets.Dropdown(\n",
        "    options=sList,\n",
        "    value=sList[0],\n",
        "    description='Choose S:',\n",
        "    disabled=False,\n",
        ")\n",
        "display(sListWid)\n",
        "\n",
        "btnDeleteS = widgets.Button(description='Delete S')\n",
        "btnDeleteS.on_click(deleteS)\n",
        "display(btnDeleteS)"
      ],
      "metadata": {
        "colab": {
          "base_uri": "https://localhost:8080/",
          "height": 81,
          "referenced_widgets": [
            "9d5a08c0e6624354ad1f369a5c4e17b7",
            "7911d21af5a44e9690a2a9cfec0366de",
            "0c6ff84f5dc5435aa6abb970063830ee",
            "dc2d2d8027ec43b0abb83b262c623f05",
            "01d993194ee64e1d95b09063db3f74e1",
            "5cd1ecb26c9449209e5e3d184f1e2383"
          ]
        },
        "id": "oidQ_HN5TmjY",
        "outputId": "4abcc362-5946-488f-cd19-d95875b3d4b5"
      },
      "execution_count": 85,
      "outputs": [
        {
          "output_type": "display_data",
          "data": {
            "text/plain": [
              "Dropdown(description='Choose S:', options=(('S1',), ('S2',), ('S3',)), value=('S1',))"
            ],
            "application/vnd.jupyter.widget-view+json": {
              "version_major": 2,
              "version_minor": 0,
              "model_id": "9d5a08c0e6624354ad1f369a5c4e17b7"
            }
          },
          "metadata": {}
        },
        {
          "output_type": "display_data",
          "data": {
            "text/plain": [
              "Button(description='Delete S', style=ButtonStyle())"
            ],
            "application/vnd.jupyter.widget-view+json": {
              "version_major": 2,
              "version_minor": 0,
              "model_id": "dc2d2d8027ec43b0abb83b262c623f05"
            }
          },
          "metadata": {}
        }
      ]
    },
    {
      "cell_type": "markdown",
      "source": [
        "**3. Обновление данных о поставщике**"
      ],
      "metadata": {
        "id": "JfnojcTmWlhx"
      }
    },
    {
      "cell_type": "code",
      "source": [
        "def ChooseS(event):\n",
        "  c1 = widgets.Text(\n",
        "    value='',\n",
        "    placeholder='Enter sname',\n",
        "    description='Change sname:',\n",
        "    disabled=False\n",
        "  ) \n",
        "  display(c1)\n",
        "  c2 = widgets.Dropdown(\n",
        "    options=['Активный', 'Не активный'],\n",
        "    value='Активный',\n",
        "    description='Choose status:',\n",
        "  )\n",
        "  display(c2)\n",
        "  c3 = widgets.Text(\n",
        "    value='',\n",
        "    placeholder='Enter city',\n",
        "    description='Change city:',\n",
        "    disabled=False\n",
        "  ) \n",
        "  display(c3)\n",
        "  btnUpS = widgets.Button(description='Update S')\n",
        "  btnUpS.on_click(updateS)\n",
        "  display(btnUpS)\n",
        "\n",
        "def updateS(event):\n",
        "  cursor.executemany(\"UPDATE albums SET sname='\"+c1.value+\"', status='\"+c2.value+\"', city='\"+c3.value+\"' WHERE s = '\"+sListWid.value+\"'\")\n",
        "  conn.commit()\n",
        "  showTables()\n",
        "\n",
        "cursor.execute(\"SELECT s FROM S\")\n",
        "sList = cursor.fetchall()\n",
        "sListWid = widgets.Dropdown(\n",
        "    options=sList,\n",
        "    value=sList[0],\n",
        "    description='Choose S:',\n",
        "    disabled=False,\n",
        ")\n",
        "display(sListWid)\n",
        "\n",
        "btnS = widgets.Button(description='Choose S')\n",
        "btnS.on_click(ChooseS)\n",
        "display(btnS)"
      ],
      "metadata": {
        "colab": {
          "base_uri": "https://localhost:8080/",
          "height": 81,
          "referenced_widgets": [
            "03007109c8f14d00984e6d85b007ba39",
            "958f36e1d05549f2b11b1b852d1a14b9",
            "45dba55d128c466dacce0bafb951c4f9",
            "a2d4a75830d04e0a86b679b2450f6311",
            "488202a0e4f045f2bdf8c0df9e8678c1",
            "ecfa0c7f32cf4277998a182971582c8b"
          ]
        },
        "id": "R22KdlrAWmzd",
        "outputId": "9c0e3c95-8c16-4741-93ee-f9c3f3ca611c"
      },
      "execution_count": 86,
      "outputs": [
        {
          "output_type": "display_data",
          "data": {
            "text/plain": [
              "Dropdown(description='Choose S:', options=(('S1',), ('S2',), ('S3',)), value=('S1',))"
            ],
            "application/vnd.jupyter.widget-view+json": {
              "version_major": 2,
              "version_minor": 0,
              "model_id": "03007109c8f14d00984e6d85b007ba39"
            }
          },
          "metadata": {}
        },
        {
          "output_type": "display_data",
          "data": {
            "text/plain": [
              "Button(description='Choose S', style=ButtonStyle())"
            ],
            "application/vnd.jupyter.widget-view+json": {
              "version_major": 2,
              "version_minor": 0,
              "model_id": "a2d4a75830d04e0a86b679b2450f6311"
            }
          },
          "metadata": {}
        }
      ]
    },
    {
      "cell_type": "markdown",
      "source": [
        "**4. Добавление поставки**"
      ],
      "metadata": {
        "id": "M2nNY2VTdtFJ"
      }
    },
    {
      "cell_type": "code",
      "source": [
        "def addDataP(event):\n",
        "  cursor.executemany(\"INSERT INTO P VALUES (?, ?, ?, ?, ?)\",[(p1.value,p2.value,p3.value,p4.value,p5.value)])\n",
        "  conn.commit()\n",
        "  showTables()\n",
        "\n",
        "\n",
        "p1 = widgets.Text(\n",
        "    value='',\n",
        "    placeholder='Type p',\n",
        "    description='Enter p:',\n",
        "    disabled=False\n",
        ")\n",
        "display(p1)\n",
        "p2 = widgets.Text(\n",
        "    value='',\n",
        "    placeholder='Type pname',\n",
        "    description='Enter pname:',\n",
        "    disabled=False\n",
        ")\n",
        "display(p2)\n",
        "p3 = widgets.IntText(\n",
        "    value=0,\n",
        "    description='Weight:',\n",
        "    disabled=False\n",
        ")\n",
        "display(p3)\n",
        "p4 = widgets.Text(\n",
        "    value='',\n",
        "    placeholder='Type color',\n",
        "    description='Enter color:',\n",
        "    disabled=False\n",
        ")\n",
        "display(p4)\n",
        "p5 = widgets.Text(\n",
        "    value='',\n",
        "    placeholder='Type city',\n",
        "    description='Enter city:',\n",
        "    disabled=False\n",
        ")\n",
        "display(p5)\n",
        "\n",
        "btnAddDataP = widgets.Button(description='Add new P')\n",
        "btnAddDataP.on_click(addDataP)\n",
        "display(btnAddDataP)"
      ],
      "metadata": {
        "colab": {
          "base_uri": "https://localhost:8080/",
          "height": 201,
          "referenced_widgets": [
            "4cc096381a5143bc9241d7238e19cd58",
            "c0b392cab5cb45a48c24fc91b64ed6bc",
            "2d2ee8298b1545028213569e50de7e2e",
            "34dad523dc8046eda06ea8d984d83a4d",
            "dc0dac759cca48678bebe0c7156cf859",
            "38b5f000f7b24d27bcf18f74cf394e25",
            "22ae7d79919445c08e26c397375e5550",
            "d1ac8a6cca9a4362a9ac911ce71e9bd0",
            "e9a1d2e2a0f64c24a868490316b1f098",
            "0cd4a068ac464319a688e27b11039080",
            "6b121413be74480a8f837425a3bae957",
            "e750167cc1b24a4587ff2d4fdba10290",
            "8d7b14a78a4941bbbb65fd25f695285d",
            "7a88add2ca1d4a29ade79c260bf1efac",
            "759edb5e24a742868c1d8dc35e47fdb3",
            "0782471fbd6c4f1cb5ee5db25be736d1",
            "aa6be27310c44f5ba06367ac5cabb2aa",
            "ae1b425e68c6403bb81569bb7bbbacb3"
          ]
        },
        "id": "p5g8iy_fduZB",
        "outputId": "36422b64-c150-48aa-f69c-6d639c37c32d"
      },
      "execution_count": 87,
      "outputs": [
        {
          "output_type": "display_data",
          "data": {
            "text/plain": [
              "Text(value='', description='Enter p:', placeholder='Type p')"
            ],
            "application/vnd.jupyter.widget-view+json": {
              "version_major": 2,
              "version_minor": 0,
              "model_id": "4cc096381a5143bc9241d7238e19cd58"
            }
          },
          "metadata": {}
        },
        {
          "output_type": "display_data",
          "data": {
            "text/plain": [
              "Text(value='', description='Enter pname:', placeholder='Type pname')"
            ],
            "application/vnd.jupyter.widget-view+json": {
              "version_major": 2,
              "version_minor": 0,
              "model_id": "34dad523dc8046eda06ea8d984d83a4d"
            }
          },
          "metadata": {}
        },
        {
          "output_type": "display_data",
          "data": {
            "text/plain": [
              "IntText(value=0, description='Weight:')"
            ],
            "application/vnd.jupyter.widget-view+json": {
              "version_major": 2,
              "version_minor": 0,
              "model_id": "22ae7d79919445c08e26c397375e5550"
            }
          },
          "metadata": {}
        },
        {
          "output_type": "display_data",
          "data": {
            "text/plain": [
              "Text(value='', description='Enter color:', placeholder='Type color')"
            ],
            "application/vnd.jupyter.widget-view+json": {
              "version_major": 2,
              "version_minor": 0,
              "model_id": "0cd4a068ac464319a688e27b11039080"
            }
          },
          "metadata": {}
        },
        {
          "output_type": "display_data",
          "data": {
            "text/plain": [
              "Text(value='', description='Enter city:', placeholder='Type city')"
            ],
            "application/vnd.jupyter.widget-view+json": {
              "version_major": 2,
              "version_minor": 0,
              "model_id": "8d7b14a78a4941bbbb65fd25f695285d"
            }
          },
          "metadata": {}
        },
        {
          "output_type": "display_data",
          "data": {
            "text/plain": [
              "Button(description='Add new P', style=ButtonStyle())"
            ],
            "application/vnd.jupyter.widget-view+json": {
              "version_major": 2,
              "version_minor": 0,
              "model_id": "0782471fbd6c4f1cb5ee5db25be736d1"
            }
          },
          "metadata": {}
        }
      ]
    },
    {
      "cell_type": "markdown",
      "source": [
        "**5. Для поставщика выдать список деталей, которые он поставляет**"
      ],
      "metadata": {
        "id": "m_pkXzpwfPEZ"
      }
    },
    {
      "cell_type": "code",
      "source": [
        "def viewP(event):\n",
        "  cursor.execute(\"SELECT * FROM SP WHERE s = (?)\", [str(s.value)])\n",
        "  for row in cursor.fetchall():\n",
        "    print (row)\n",
        "  print ('\\n')\n",
        "\n",
        "cursor.execute(\"SELECT s FROM S\")\n",
        "sList = cursor.fetchall()\n",
        "s = widgets.Dropdown(\n",
        "    options=sList,\n",
        "    value=sList[0],\n",
        "    description='Choose S:',\n",
        "    disabled=False,\n",
        ")\n",
        "display(sListWid)\n",
        "btnS = widgets.Button(description='Choose S')\n",
        "btnS.on_click(viewP)\n",
        "display(btnS)"
      ],
      "metadata": {
        "colab": {
          "base_uri": "https://localhost:8080/",
          "height": 81,
          "referenced_widgets": [
            "03007109c8f14d00984e6d85b007ba39",
            "958f36e1d05549f2b11b1b852d1a14b9",
            "45dba55d128c466dacce0bafb951c4f9",
            "b868dc92db2f46e18695bbc3d35e1114",
            "6804bb29d9454749a0aab9d7cf6b1565",
            "11afcb7b8bf84db6aa6a8a4dd4ab9931"
          ]
        },
        "id": "LzFzUsSofPWf",
        "outputId": "b5cadeb7-56cb-4217-b1d2-a79ebf3443bb"
      },
      "execution_count": 88,
      "outputs": [
        {
          "output_type": "display_data",
          "data": {
            "text/plain": [
              "Dropdown(description='Choose S:', options=(('S1',), ('S2',), ('S3',)), value=('S1',))"
            ],
            "application/vnd.jupyter.widget-view+json": {
              "version_major": 2,
              "version_minor": 0,
              "model_id": "03007109c8f14d00984e6d85b007ba39"
            }
          },
          "metadata": {}
        },
        {
          "output_type": "display_data",
          "data": {
            "text/plain": [
              "Button(description='Choose S', style=ButtonStyle())"
            ],
            "application/vnd.jupyter.widget-view+json": {
              "version_major": 2,
              "version_minor": 0,
              "model_id": "b868dc92db2f46e18695bbc3d35e1114"
            }
          },
          "metadata": {}
        }
      ]
    }
  ],
  "metadata": {
    "colab": {
      "collapsed_sections": [],
      "name": "Добро пожаловать в Colaboratory!",
      "provenance": [],
      "include_colab_link": true
    },
    "kernelspec": {
      "display_name": "Python 3",
      "name": "python3"
    },
    "widgets": {
      "application/vnd.jupyter.widget-state+json": {
        "76e9e3e1987b47cd9574066a7a6b0542": {
          "model_module": "@jupyter-widgets/controls",
          "model_name": "TextModel",
          "model_module_version": "1.5.0",
          "state": {
            "_dom_classes": [],
            "_model_module": "@jupyter-widgets/controls",
            "_model_module_version": "1.5.0",
            "_model_name": "TextModel",
            "_view_count": null,
            "_view_module": "@jupyter-widgets/controls",
            "_view_module_version": "1.5.0",
            "_view_name": "TextView",
            "continuous_update": true,
            "description": "Enter s:",
            "description_tooltip": null,
            "disabled": false,
            "layout": "IPY_MODEL_e0651d9fe6bb4cbeb9aa47a0e8e8417e",
            "placeholder": "Type s",
            "style": "IPY_MODEL_acf0c9aa931c496e9ae4b36ea7997180",
            "value": ""
          }
        },
        "e0651d9fe6bb4cbeb9aa47a0e8e8417e": {
          "model_module": "@jupyter-widgets/base",
          "model_name": "LayoutModel",
          "model_module_version": "1.2.0",
          "state": {
            "_model_module": "@jupyter-widgets/base",
            "_model_module_version": "1.2.0",
            "_model_name": "LayoutModel",
            "_view_count": null,
            "_view_module": "@jupyter-widgets/base",
            "_view_module_version": "1.2.0",
            "_view_name": "LayoutView",
            "align_content": null,
            "align_items": null,
            "align_self": null,
            "border": null,
            "bottom": null,
            "display": null,
            "flex": null,
            "flex_flow": null,
            "grid_area": null,
            "grid_auto_columns": null,
            "grid_auto_flow": null,
            "grid_auto_rows": null,
            "grid_column": null,
            "grid_gap": null,
            "grid_row": null,
            "grid_template_areas": null,
            "grid_template_columns": null,
            "grid_template_rows": null,
            "height": null,
            "justify_content": null,
            "justify_items": null,
            "left": null,
            "margin": null,
            "max_height": null,
            "max_width": null,
            "min_height": null,
            "min_width": null,
            "object_fit": null,
            "object_position": null,
            "order": null,
            "overflow": null,
            "overflow_x": null,
            "overflow_y": null,
            "padding": null,
            "right": null,
            "top": null,
            "visibility": null,
            "width": null
          }
        },
        "acf0c9aa931c496e9ae4b36ea7997180": {
          "model_module": "@jupyter-widgets/controls",
          "model_name": "DescriptionStyleModel",
          "model_module_version": "1.5.0",
          "state": {
            "_model_module": "@jupyter-widgets/controls",
            "_model_module_version": "1.5.0",
            "_model_name": "DescriptionStyleModel",
            "_view_count": null,
            "_view_module": "@jupyter-widgets/base",
            "_view_module_version": "1.2.0",
            "_view_name": "StyleView",
            "description_width": ""
          }
        },
        "21a9983a356142df983adbdfe15035ba": {
          "model_module": "@jupyter-widgets/controls",
          "model_name": "TextModel",
          "model_module_version": "1.5.0",
          "state": {
            "_dom_classes": [],
            "_model_module": "@jupyter-widgets/controls",
            "_model_module_version": "1.5.0",
            "_model_name": "TextModel",
            "_view_count": null,
            "_view_module": "@jupyter-widgets/controls",
            "_view_module_version": "1.5.0",
            "_view_name": "TextView",
            "continuous_update": true,
            "description": "Enter sname:",
            "description_tooltip": null,
            "disabled": false,
            "layout": "IPY_MODEL_8fe29f9406424c18be51b508e3e8a919",
            "placeholder": "Type sname",
            "style": "IPY_MODEL_6dd7729ada9848df876fccf818fe1b03",
            "value": ""
          }
        },
        "8fe29f9406424c18be51b508e3e8a919": {
          "model_module": "@jupyter-widgets/base",
          "model_name": "LayoutModel",
          "model_module_version": "1.2.0",
          "state": {
            "_model_module": "@jupyter-widgets/base",
            "_model_module_version": "1.2.0",
            "_model_name": "LayoutModel",
            "_view_count": null,
            "_view_module": "@jupyter-widgets/base",
            "_view_module_version": "1.2.0",
            "_view_name": "LayoutView",
            "align_content": null,
            "align_items": null,
            "align_self": null,
            "border": null,
            "bottom": null,
            "display": null,
            "flex": null,
            "flex_flow": null,
            "grid_area": null,
            "grid_auto_columns": null,
            "grid_auto_flow": null,
            "grid_auto_rows": null,
            "grid_column": null,
            "grid_gap": null,
            "grid_row": null,
            "grid_template_areas": null,
            "grid_template_columns": null,
            "grid_template_rows": null,
            "height": null,
            "justify_content": null,
            "justify_items": null,
            "left": null,
            "margin": null,
            "max_height": null,
            "max_width": null,
            "min_height": null,
            "min_width": null,
            "object_fit": null,
            "object_position": null,
            "order": null,
            "overflow": null,
            "overflow_x": null,
            "overflow_y": null,
            "padding": null,
            "right": null,
            "top": null,
            "visibility": null,
            "width": null
          }
        },
        "6dd7729ada9848df876fccf818fe1b03": {
          "model_module": "@jupyter-widgets/controls",
          "model_name": "DescriptionStyleModel",
          "model_module_version": "1.5.0",
          "state": {
            "_model_module": "@jupyter-widgets/controls",
            "_model_module_version": "1.5.0",
            "_model_name": "DescriptionStyleModel",
            "_view_count": null,
            "_view_module": "@jupyter-widgets/base",
            "_view_module_version": "1.2.0",
            "_view_name": "StyleView",
            "description_width": ""
          }
        },
        "ac2459000d564695a7fb60c2f13054c5": {
          "model_module": "@jupyter-widgets/controls",
          "model_name": "DropdownModel",
          "model_module_version": "1.5.0",
          "state": {
            "_dom_classes": [],
            "_model_module": "@jupyter-widgets/controls",
            "_model_module_version": "1.5.0",
            "_model_name": "DropdownModel",
            "_options_labels": [
              "Активный",
              "Не активный"
            ],
            "_view_count": null,
            "_view_module": "@jupyter-widgets/controls",
            "_view_module_version": "1.5.0",
            "_view_name": "DropdownView",
            "description": "Choose status:",
            "description_tooltip": null,
            "disabled": false,
            "index": 0,
            "layout": "IPY_MODEL_911f6f1baf6b4eeca9c08c28527cb181",
            "style": "IPY_MODEL_272b02e102a3474f9941593331ee78dd"
          }
        },
        "911f6f1baf6b4eeca9c08c28527cb181": {
          "model_module": "@jupyter-widgets/base",
          "model_name": "LayoutModel",
          "model_module_version": "1.2.0",
          "state": {
            "_model_module": "@jupyter-widgets/base",
            "_model_module_version": "1.2.0",
            "_model_name": "LayoutModel",
            "_view_count": null,
            "_view_module": "@jupyter-widgets/base",
            "_view_module_version": "1.2.0",
            "_view_name": "LayoutView",
            "align_content": null,
            "align_items": null,
            "align_self": null,
            "border": null,
            "bottom": null,
            "display": null,
            "flex": null,
            "flex_flow": null,
            "grid_area": null,
            "grid_auto_columns": null,
            "grid_auto_flow": null,
            "grid_auto_rows": null,
            "grid_column": null,
            "grid_gap": null,
            "grid_row": null,
            "grid_template_areas": null,
            "grid_template_columns": null,
            "grid_template_rows": null,
            "height": null,
            "justify_content": null,
            "justify_items": null,
            "left": null,
            "margin": null,
            "max_height": null,
            "max_width": null,
            "min_height": null,
            "min_width": null,
            "object_fit": null,
            "object_position": null,
            "order": null,
            "overflow": null,
            "overflow_x": null,
            "overflow_y": null,
            "padding": null,
            "right": null,
            "top": null,
            "visibility": null,
            "width": null
          }
        },
        "272b02e102a3474f9941593331ee78dd": {
          "model_module": "@jupyter-widgets/controls",
          "model_name": "DescriptionStyleModel",
          "model_module_version": "1.5.0",
          "state": {
            "_model_module": "@jupyter-widgets/controls",
            "_model_module_version": "1.5.0",
            "_model_name": "DescriptionStyleModel",
            "_view_count": null,
            "_view_module": "@jupyter-widgets/base",
            "_view_module_version": "1.2.0",
            "_view_name": "StyleView",
            "description_width": ""
          }
        },
        "a623afde53ad4f33942d1a87d6dc2407": {
          "model_module": "@jupyter-widgets/controls",
          "model_name": "TextModel",
          "model_module_version": "1.5.0",
          "state": {
            "_dom_classes": [],
            "_model_module": "@jupyter-widgets/controls",
            "_model_module_version": "1.5.0",
            "_model_name": "TextModel",
            "_view_count": null,
            "_view_module": "@jupyter-widgets/controls",
            "_view_module_version": "1.5.0",
            "_view_name": "TextView",
            "continuous_update": true,
            "description": "Enter city:",
            "description_tooltip": null,
            "disabled": false,
            "layout": "IPY_MODEL_e9206061938c482abdf6e30f0d76ed50",
            "placeholder": "Type city",
            "style": "IPY_MODEL_0ed12ff9aded464b9a94b34b91cc0c6a",
            "value": ""
          }
        },
        "e9206061938c482abdf6e30f0d76ed50": {
          "model_module": "@jupyter-widgets/base",
          "model_name": "LayoutModel",
          "model_module_version": "1.2.0",
          "state": {
            "_model_module": "@jupyter-widgets/base",
            "_model_module_version": "1.2.0",
            "_model_name": "LayoutModel",
            "_view_count": null,
            "_view_module": "@jupyter-widgets/base",
            "_view_module_version": "1.2.0",
            "_view_name": "LayoutView",
            "align_content": null,
            "align_items": null,
            "align_self": null,
            "border": null,
            "bottom": null,
            "display": null,
            "flex": null,
            "flex_flow": null,
            "grid_area": null,
            "grid_auto_columns": null,
            "grid_auto_flow": null,
            "grid_auto_rows": null,
            "grid_column": null,
            "grid_gap": null,
            "grid_row": null,
            "grid_template_areas": null,
            "grid_template_columns": null,
            "grid_template_rows": null,
            "height": null,
            "justify_content": null,
            "justify_items": null,
            "left": null,
            "margin": null,
            "max_height": null,
            "max_width": null,
            "min_height": null,
            "min_width": null,
            "object_fit": null,
            "object_position": null,
            "order": null,
            "overflow": null,
            "overflow_x": null,
            "overflow_y": null,
            "padding": null,
            "right": null,
            "top": null,
            "visibility": null,
            "width": null
          }
        },
        "0ed12ff9aded464b9a94b34b91cc0c6a": {
          "model_module": "@jupyter-widgets/controls",
          "model_name": "DescriptionStyleModel",
          "model_module_version": "1.5.0",
          "state": {
            "_model_module": "@jupyter-widgets/controls",
            "_model_module_version": "1.5.0",
            "_model_name": "DescriptionStyleModel",
            "_view_count": null,
            "_view_module": "@jupyter-widgets/base",
            "_view_module_version": "1.2.0",
            "_view_name": "StyleView",
            "description_width": ""
          }
        },
        "a956f2458b7a4b52bd93d1bc7e377dc5": {
          "model_module": "@jupyter-widgets/controls",
          "model_name": "ButtonModel",
          "model_module_version": "1.5.0",
          "state": {
            "_dom_classes": [],
            "_model_module": "@jupyter-widgets/controls",
            "_model_module_version": "1.5.0",
            "_model_name": "ButtonModel",
            "_view_count": null,
            "_view_module": "@jupyter-widgets/controls",
            "_view_module_version": "1.5.0",
            "_view_name": "ButtonView",
            "button_style": "",
            "description": "Add new S",
            "disabled": false,
            "icon": "",
            "layout": "IPY_MODEL_5b997a1e5dbc445d941593194fa64280",
            "style": "IPY_MODEL_8a67b5cfcc374ca8959d800d396905ec",
            "tooltip": ""
          }
        },
        "5b997a1e5dbc445d941593194fa64280": {
          "model_module": "@jupyter-widgets/base",
          "model_name": "LayoutModel",
          "model_module_version": "1.2.0",
          "state": {
            "_model_module": "@jupyter-widgets/base",
            "_model_module_version": "1.2.0",
            "_model_name": "LayoutModel",
            "_view_count": null,
            "_view_module": "@jupyter-widgets/base",
            "_view_module_version": "1.2.0",
            "_view_name": "LayoutView",
            "align_content": null,
            "align_items": null,
            "align_self": null,
            "border": null,
            "bottom": null,
            "display": null,
            "flex": null,
            "flex_flow": null,
            "grid_area": null,
            "grid_auto_columns": null,
            "grid_auto_flow": null,
            "grid_auto_rows": null,
            "grid_column": null,
            "grid_gap": null,
            "grid_row": null,
            "grid_template_areas": null,
            "grid_template_columns": null,
            "grid_template_rows": null,
            "height": null,
            "justify_content": null,
            "justify_items": null,
            "left": null,
            "margin": null,
            "max_height": null,
            "max_width": null,
            "min_height": null,
            "min_width": null,
            "object_fit": null,
            "object_position": null,
            "order": null,
            "overflow": null,
            "overflow_x": null,
            "overflow_y": null,
            "padding": null,
            "right": null,
            "top": null,
            "visibility": null,
            "width": null
          }
        },
        "8a67b5cfcc374ca8959d800d396905ec": {
          "model_module": "@jupyter-widgets/controls",
          "model_name": "ButtonStyleModel",
          "model_module_version": "1.5.0",
          "state": {
            "_model_module": "@jupyter-widgets/controls",
            "_model_module_version": "1.5.0",
            "_model_name": "ButtonStyleModel",
            "_view_count": null,
            "_view_module": "@jupyter-widgets/base",
            "_view_module_version": "1.2.0",
            "_view_name": "StyleView",
            "button_color": null,
            "font_weight": ""
          }
        },
        "9d5a08c0e6624354ad1f369a5c4e17b7": {
          "model_module": "@jupyter-widgets/controls",
          "model_name": "DropdownModel",
          "model_module_version": "1.5.0",
          "state": {
            "_dom_classes": [],
            "_model_module": "@jupyter-widgets/controls",
            "_model_module_version": "1.5.0",
            "_model_name": "DropdownModel",
            "_options_labels": [
              "('S1',)",
              "('S2',)",
              "('S3',)"
            ],
            "_view_count": null,
            "_view_module": "@jupyter-widgets/controls",
            "_view_module_version": "1.5.0",
            "_view_name": "DropdownView",
            "description": "Choose S:",
            "description_tooltip": null,
            "disabled": false,
            "index": 0,
            "layout": "IPY_MODEL_7911d21af5a44e9690a2a9cfec0366de",
            "style": "IPY_MODEL_0c6ff84f5dc5435aa6abb970063830ee"
          }
        },
        "7911d21af5a44e9690a2a9cfec0366de": {
          "model_module": "@jupyter-widgets/base",
          "model_name": "LayoutModel",
          "model_module_version": "1.2.0",
          "state": {
            "_model_module": "@jupyter-widgets/base",
            "_model_module_version": "1.2.0",
            "_model_name": "LayoutModel",
            "_view_count": null,
            "_view_module": "@jupyter-widgets/base",
            "_view_module_version": "1.2.0",
            "_view_name": "LayoutView",
            "align_content": null,
            "align_items": null,
            "align_self": null,
            "border": null,
            "bottom": null,
            "display": null,
            "flex": null,
            "flex_flow": null,
            "grid_area": null,
            "grid_auto_columns": null,
            "grid_auto_flow": null,
            "grid_auto_rows": null,
            "grid_column": null,
            "grid_gap": null,
            "grid_row": null,
            "grid_template_areas": null,
            "grid_template_columns": null,
            "grid_template_rows": null,
            "height": null,
            "justify_content": null,
            "justify_items": null,
            "left": null,
            "margin": null,
            "max_height": null,
            "max_width": null,
            "min_height": null,
            "min_width": null,
            "object_fit": null,
            "object_position": null,
            "order": null,
            "overflow": null,
            "overflow_x": null,
            "overflow_y": null,
            "padding": null,
            "right": null,
            "top": null,
            "visibility": null,
            "width": null
          }
        },
        "0c6ff84f5dc5435aa6abb970063830ee": {
          "model_module": "@jupyter-widgets/controls",
          "model_name": "DescriptionStyleModel",
          "model_module_version": "1.5.0",
          "state": {
            "_model_module": "@jupyter-widgets/controls",
            "_model_module_version": "1.5.0",
            "_model_name": "DescriptionStyleModel",
            "_view_count": null,
            "_view_module": "@jupyter-widgets/base",
            "_view_module_version": "1.2.0",
            "_view_name": "StyleView",
            "description_width": ""
          }
        },
        "dc2d2d8027ec43b0abb83b262c623f05": {
          "model_module": "@jupyter-widgets/controls",
          "model_name": "ButtonModel",
          "model_module_version": "1.5.0",
          "state": {
            "_dom_classes": [],
            "_model_module": "@jupyter-widgets/controls",
            "_model_module_version": "1.5.0",
            "_model_name": "ButtonModel",
            "_view_count": null,
            "_view_module": "@jupyter-widgets/controls",
            "_view_module_version": "1.5.0",
            "_view_name": "ButtonView",
            "button_style": "",
            "description": "Delete S",
            "disabled": false,
            "icon": "",
            "layout": "IPY_MODEL_01d993194ee64e1d95b09063db3f74e1",
            "style": "IPY_MODEL_5cd1ecb26c9449209e5e3d184f1e2383",
            "tooltip": ""
          }
        },
        "01d993194ee64e1d95b09063db3f74e1": {
          "model_module": "@jupyter-widgets/base",
          "model_name": "LayoutModel",
          "model_module_version": "1.2.0",
          "state": {
            "_model_module": "@jupyter-widgets/base",
            "_model_module_version": "1.2.0",
            "_model_name": "LayoutModel",
            "_view_count": null,
            "_view_module": "@jupyter-widgets/base",
            "_view_module_version": "1.2.0",
            "_view_name": "LayoutView",
            "align_content": null,
            "align_items": null,
            "align_self": null,
            "border": null,
            "bottom": null,
            "display": null,
            "flex": null,
            "flex_flow": null,
            "grid_area": null,
            "grid_auto_columns": null,
            "grid_auto_flow": null,
            "grid_auto_rows": null,
            "grid_column": null,
            "grid_gap": null,
            "grid_row": null,
            "grid_template_areas": null,
            "grid_template_columns": null,
            "grid_template_rows": null,
            "height": null,
            "justify_content": null,
            "justify_items": null,
            "left": null,
            "margin": null,
            "max_height": null,
            "max_width": null,
            "min_height": null,
            "min_width": null,
            "object_fit": null,
            "object_position": null,
            "order": null,
            "overflow": null,
            "overflow_x": null,
            "overflow_y": null,
            "padding": null,
            "right": null,
            "top": null,
            "visibility": null,
            "width": null
          }
        },
        "5cd1ecb26c9449209e5e3d184f1e2383": {
          "model_module": "@jupyter-widgets/controls",
          "model_name": "ButtonStyleModel",
          "model_module_version": "1.5.0",
          "state": {
            "_model_module": "@jupyter-widgets/controls",
            "_model_module_version": "1.5.0",
            "_model_name": "ButtonStyleModel",
            "_view_count": null,
            "_view_module": "@jupyter-widgets/base",
            "_view_module_version": "1.2.0",
            "_view_name": "StyleView",
            "button_color": null,
            "font_weight": ""
          }
        },
        "03007109c8f14d00984e6d85b007ba39": {
          "model_module": "@jupyter-widgets/controls",
          "model_name": "DropdownModel",
          "model_module_version": "1.5.0",
          "state": {
            "_dom_classes": [],
            "_model_module": "@jupyter-widgets/controls",
            "_model_module_version": "1.5.0",
            "_model_name": "DropdownModel",
            "_options_labels": [
              "('S1',)",
              "('S2',)",
              "('S3',)"
            ],
            "_view_count": null,
            "_view_module": "@jupyter-widgets/controls",
            "_view_module_version": "1.5.0",
            "_view_name": "DropdownView",
            "description": "Choose S:",
            "description_tooltip": null,
            "disabled": false,
            "index": 0,
            "layout": "IPY_MODEL_958f36e1d05549f2b11b1b852d1a14b9",
            "style": "IPY_MODEL_45dba55d128c466dacce0bafb951c4f9"
          }
        },
        "958f36e1d05549f2b11b1b852d1a14b9": {
          "model_module": "@jupyter-widgets/base",
          "model_name": "LayoutModel",
          "model_module_version": "1.2.0",
          "state": {
            "_model_module": "@jupyter-widgets/base",
            "_model_module_version": "1.2.0",
            "_model_name": "LayoutModel",
            "_view_count": null,
            "_view_module": "@jupyter-widgets/base",
            "_view_module_version": "1.2.0",
            "_view_name": "LayoutView",
            "align_content": null,
            "align_items": null,
            "align_self": null,
            "border": null,
            "bottom": null,
            "display": null,
            "flex": null,
            "flex_flow": null,
            "grid_area": null,
            "grid_auto_columns": null,
            "grid_auto_flow": null,
            "grid_auto_rows": null,
            "grid_column": null,
            "grid_gap": null,
            "grid_row": null,
            "grid_template_areas": null,
            "grid_template_columns": null,
            "grid_template_rows": null,
            "height": null,
            "justify_content": null,
            "justify_items": null,
            "left": null,
            "margin": null,
            "max_height": null,
            "max_width": null,
            "min_height": null,
            "min_width": null,
            "object_fit": null,
            "object_position": null,
            "order": null,
            "overflow": null,
            "overflow_x": null,
            "overflow_y": null,
            "padding": null,
            "right": null,
            "top": null,
            "visibility": null,
            "width": null
          }
        },
        "45dba55d128c466dacce0bafb951c4f9": {
          "model_module": "@jupyter-widgets/controls",
          "model_name": "DescriptionStyleModel",
          "model_module_version": "1.5.0",
          "state": {
            "_model_module": "@jupyter-widgets/controls",
            "_model_module_version": "1.5.0",
            "_model_name": "DescriptionStyleModel",
            "_view_count": null,
            "_view_module": "@jupyter-widgets/base",
            "_view_module_version": "1.2.0",
            "_view_name": "StyleView",
            "description_width": ""
          }
        },
        "a2d4a75830d04e0a86b679b2450f6311": {
          "model_module": "@jupyter-widgets/controls",
          "model_name": "ButtonModel",
          "model_module_version": "1.5.0",
          "state": {
            "_dom_classes": [],
            "_model_module": "@jupyter-widgets/controls",
            "_model_module_version": "1.5.0",
            "_model_name": "ButtonModel",
            "_view_count": null,
            "_view_module": "@jupyter-widgets/controls",
            "_view_module_version": "1.5.0",
            "_view_name": "ButtonView",
            "button_style": "",
            "description": "Choose S",
            "disabled": false,
            "icon": "",
            "layout": "IPY_MODEL_488202a0e4f045f2bdf8c0df9e8678c1",
            "style": "IPY_MODEL_ecfa0c7f32cf4277998a182971582c8b",
            "tooltip": ""
          }
        },
        "488202a0e4f045f2bdf8c0df9e8678c1": {
          "model_module": "@jupyter-widgets/base",
          "model_name": "LayoutModel",
          "model_module_version": "1.2.0",
          "state": {
            "_model_module": "@jupyter-widgets/base",
            "_model_module_version": "1.2.0",
            "_model_name": "LayoutModel",
            "_view_count": null,
            "_view_module": "@jupyter-widgets/base",
            "_view_module_version": "1.2.0",
            "_view_name": "LayoutView",
            "align_content": null,
            "align_items": null,
            "align_self": null,
            "border": null,
            "bottom": null,
            "display": null,
            "flex": null,
            "flex_flow": null,
            "grid_area": null,
            "grid_auto_columns": null,
            "grid_auto_flow": null,
            "grid_auto_rows": null,
            "grid_column": null,
            "grid_gap": null,
            "grid_row": null,
            "grid_template_areas": null,
            "grid_template_columns": null,
            "grid_template_rows": null,
            "height": null,
            "justify_content": null,
            "justify_items": null,
            "left": null,
            "margin": null,
            "max_height": null,
            "max_width": null,
            "min_height": null,
            "min_width": null,
            "object_fit": null,
            "object_position": null,
            "order": null,
            "overflow": null,
            "overflow_x": null,
            "overflow_y": null,
            "padding": null,
            "right": null,
            "top": null,
            "visibility": null,
            "width": null
          }
        },
        "ecfa0c7f32cf4277998a182971582c8b": {
          "model_module": "@jupyter-widgets/controls",
          "model_name": "ButtonStyleModel",
          "model_module_version": "1.5.0",
          "state": {
            "_model_module": "@jupyter-widgets/controls",
            "_model_module_version": "1.5.0",
            "_model_name": "ButtonStyleModel",
            "_view_count": null,
            "_view_module": "@jupyter-widgets/base",
            "_view_module_version": "1.2.0",
            "_view_name": "StyleView",
            "button_color": null,
            "font_weight": ""
          }
        },
        "4cc096381a5143bc9241d7238e19cd58": {
          "model_module": "@jupyter-widgets/controls",
          "model_name": "TextModel",
          "model_module_version": "1.5.0",
          "state": {
            "_dom_classes": [],
            "_model_module": "@jupyter-widgets/controls",
            "_model_module_version": "1.5.0",
            "_model_name": "TextModel",
            "_view_count": null,
            "_view_module": "@jupyter-widgets/controls",
            "_view_module_version": "1.5.0",
            "_view_name": "TextView",
            "continuous_update": true,
            "description": "Enter p:",
            "description_tooltip": null,
            "disabled": false,
            "layout": "IPY_MODEL_c0b392cab5cb45a48c24fc91b64ed6bc",
            "placeholder": "Type p",
            "style": "IPY_MODEL_2d2ee8298b1545028213569e50de7e2e",
            "value": ""
          }
        },
        "c0b392cab5cb45a48c24fc91b64ed6bc": {
          "model_module": "@jupyter-widgets/base",
          "model_name": "LayoutModel",
          "model_module_version": "1.2.0",
          "state": {
            "_model_module": "@jupyter-widgets/base",
            "_model_module_version": "1.2.0",
            "_model_name": "LayoutModel",
            "_view_count": null,
            "_view_module": "@jupyter-widgets/base",
            "_view_module_version": "1.2.0",
            "_view_name": "LayoutView",
            "align_content": null,
            "align_items": null,
            "align_self": null,
            "border": null,
            "bottom": null,
            "display": null,
            "flex": null,
            "flex_flow": null,
            "grid_area": null,
            "grid_auto_columns": null,
            "grid_auto_flow": null,
            "grid_auto_rows": null,
            "grid_column": null,
            "grid_gap": null,
            "grid_row": null,
            "grid_template_areas": null,
            "grid_template_columns": null,
            "grid_template_rows": null,
            "height": null,
            "justify_content": null,
            "justify_items": null,
            "left": null,
            "margin": null,
            "max_height": null,
            "max_width": null,
            "min_height": null,
            "min_width": null,
            "object_fit": null,
            "object_position": null,
            "order": null,
            "overflow": null,
            "overflow_x": null,
            "overflow_y": null,
            "padding": null,
            "right": null,
            "top": null,
            "visibility": null,
            "width": null
          }
        },
        "2d2ee8298b1545028213569e50de7e2e": {
          "model_module": "@jupyter-widgets/controls",
          "model_name": "DescriptionStyleModel",
          "model_module_version": "1.5.0",
          "state": {
            "_model_module": "@jupyter-widgets/controls",
            "_model_module_version": "1.5.0",
            "_model_name": "DescriptionStyleModel",
            "_view_count": null,
            "_view_module": "@jupyter-widgets/base",
            "_view_module_version": "1.2.0",
            "_view_name": "StyleView",
            "description_width": ""
          }
        },
        "34dad523dc8046eda06ea8d984d83a4d": {
          "model_module": "@jupyter-widgets/controls",
          "model_name": "TextModel",
          "model_module_version": "1.5.0",
          "state": {
            "_dom_classes": [],
            "_model_module": "@jupyter-widgets/controls",
            "_model_module_version": "1.5.0",
            "_model_name": "TextModel",
            "_view_count": null,
            "_view_module": "@jupyter-widgets/controls",
            "_view_module_version": "1.5.0",
            "_view_name": "TextView",
            "continuous_update": true,
            "description": "Enter pname:",
            "description_tooltip": null,
            "disabled": false,
            "layout": "IPY_MODEL_dc0dac759cca48678bebe0c7156cf859",
            "placeholder": "Type pname",
            "style": "IPY_MODEL_38b5f000f7b24d27bcf18f74cf394e25",
            "value": ""
          }
        },
        "dc0dac759cca48678bebe0c7156cf859": {
          "model_module": "@jupyter-widgets/base",
          "model_name": "LayoutModel",
          "model_module_version": "1.2.0",
          "state": {
            "_model_module": "@jupyter-widgets/base",
            "_model_module_version": "1.2.0",
            "_model_name": "LayoutModel",
            "_view_count": null,
            "_view_module": "@jupyter-widgets/base",
            "_view_module_version": "1.2.0",
            "_view_name": "LayoutView",
            "align_content": null,
            "align_items": null,
            "align_self": null,
            "border": null,
            "bottom": null,
            "display": null,
            "flex": null,
            "flex_flow": null,
            "grid_area": null,
            "grid_auto_columns": null,
            "grid_auto_flow": null,
            "grid_auto_rows": null,
            "grid_column": null,
            "grid_gap": null,
            "grid_row": null,
            "grid_template_areas": null,
            "grid_template_columns": null,
            "grid_template_rows": null,
            "height": null,
            "justify_content": null,
            "justify_items": null,
            "left": null,
            "margin": null,
            "max_height": null,
            "max_width": null,
            "min_height": null,
            "min_width": null,
            "object_fit": null,
            "object_position": null,
            "order": null,
            "overflow": null,
            "overflow_x": null,
            "overflow_y": null,
            "padding": null,
            "right": null,
            "top": null,
            "visibility": null,
            "width": null
          }
        },
        "38b5f000f7b24d27bcf18f74cf394e25": {
          "model_module": "@jupyter-widgets/controls",
          "model_name": "DescriptionStyleModel",
          "model_module_version": "1.5.0",
          "state": {
            "_model_module": "@jupyter-widgets/controls",
            "_model_module_version": "1.5.0",
            "_model_name": "DescriptionStyleModel",
            "_view_count": null,
            "_view_module": "@jupyter-widgets/base",
            "_view_module_version": "1.2.0",
            "_view_name": "StyleView",
            "description_width": ""
          }
        },
        "22ae7d79919445c08e26c397375e5550": {
          "model_module": "@jupyter-widgets/controls",
          "model_name": "IntTextModel",
          "model_module_version": "1.5.0",
          "state": {
            "_dom_classes": [],
            "_model_module": "@jupyter-widgets/controls",
            "_model_module_version": "1.5.0",
            "_model_name": "IntTextModel",
            "_view_count": null,
            "_view_module": "@jupyter-widgets/controls",
            "_view_module_version": "1.5.0",
            "_view_name": "IntTextView",
            "continuous_update": false,
            "description": "Weight:",
            "description_tooltip": null,
            "disabled": false,
            "layout": "IPY_MODEL_d1ac8a6cca9a4362a9ac911ce71e9bd0",
            "step": 1,
            "style": "IPY_MODEL_e9a1d2e2a0f64c24a868490316b1f098",
            "value": 0
          }
        },
        "d1ac8a6cca9a4362a9ac911ce71e9bd0": {
          "model_module": "@jupyter-widgets/base",
          "model_name": "LayoutModel",
          "model_module_version": "1.2.0",
          "state": {
            "_model_module": "@jupyter-widgets/base",
            "_model_module_version": "1.2.0",
            "_model_name": "LayoutModel",
            "_view_count": null,
            "_view_module": "@jupyter-widgets/base",
            "_view_module_version": "1.2.0",
            "_view_name": "LayoutView",
            "align_content": null,
            "align_items": null,
            "align_self": null,
            "border": null,
            "bottom": null,
            "display": null,
            "flex": null,
            "flex_flow": null,
            "grid_area": null,
            "grid_auto_columns": null,
            "grid_auto_flow": null,
            "grid_auto_rows": null,
            "grid_column": null,
            "grid_gap": null,
            "grid_row": null,
            "grid_template_areas": null,
            "grid_template_columns": null,
            "grid_template_rows": null,
            "height": null,
            "justify_content": null,
            "justify_items": null,
            "left": null,
            "margin": null,
            "max_height": null,
            "max_width": null,
            "min_height": null,
            "min_width": null,
            "object_fit": null,
            "object_position": null,
            "order": null,
            "overflow": null,
            "overflow_x": null,
            "overflow_y": null,
            "padding": null,
            "right": null,
            "top": null,
            "visibility": null,
            "width": null
          }
        },
        "e9a1d2e2a0f64c24a868490316b1f098": {
          "model_module": "@jupyter-widgets/controls",
          "model_name": "DescriptionStyleModel",
          "model_module_version": "1.5.0",
          "state": {
            "_model_module": "@jupyter-widgets/controls",
            "_model_module_version": "1.5.0",
            "_model_name": "DescriptionStyleModel",
            "_view_count": null,
            "_view_module": "@jupyter-widgets/base",
            "_view_module_version": "1.2.0",
            "_view_name": "StyleView",
            "description_width": ""
          }
        },
        "0cd4a068ac464319a688e27b11039080": {
          "model_module": "@jupyter-widgets/controls",
          "model_name": "TextModel",
          "model_module_version": "1.5.0",
          "state": {
            "_dom_classes": [],
            "_model_module": "@jupyter-widgets/controls",
            "_model_module_version": "1.5.0",
            "_model_name": "TextModel",
            "_view_count": null,
            "_view_module": "@jupyter-widgets/controls",
            "_view_module_version": "1.5.0",
            "_view_name": "TextView",
            "continuous_update": true,
            "description": "Enter color:",
            "description_tooltip": null,
            "disabled": false,
            "layout": "IPY_MODEL_6b121413be74480a8f837425a3bae957",
            "placeholder": "Type color",
            "style": "IPY_MODEL_e750167cc1b24a4587ff2d4fdba10290",
            "value": ""
          }
        },
        "6b121413be74480a8f837425a3bae957": {
          "model_module": "@jupyter-widgets/base",
          "model_name": "LayoutModel",
          "model_module_version": "1.2.0",
          "state": {
            "_model_module": "@jupyter-widgets/base",
            "_model_module_version": "1.2.0",
            "_model_name": "LayoutModel",
            "_view_count": null,
            "_view_module": "@jupyter-widgets/base",
            "_view_module_version": "1.2.0",
            "_view_name": "LayoutView",
            "align_content": null,
            "align_items": null,
            "align_self": null,
            "border": null,
            "bottom": null,
            "display": null,
            "flex": null,
            "flex_flow": null,
            "grid_area": null,
            "grid_auto_columns": null,
            "grid_auto_flow": null,
            "grid_auto_rows": null,
            "grid_column": null,
            "grid_gap": null,
            "grid_row": null,
            "grid_template_areas": null,
            "grid_template_columns": null,
            "grid_template_rows": null,
            "height": null,
            "justify_content": null,
            "justify_items": null,
            "left": null,
            "margin": null,
            "max_height": null,
            "max_width": null,
            "min_height": null,
            "min_width": null,
            "object_fit": null,
            "object_position": null,
            "order": null,
            "overflow": null,
            "overflow_x": null,
            "overflow_y": null,
            "padding": null,
            "right": null,
            "top": null,
            "visibility": null,
            "width": null
          }
        },
        "e750167cc1b24a4587ff2d4fdba10290": {
          "model_module": "@jupyter-widgets/controls",
          "model_name": "DescriptionStyleModel",
          "model_module_version": "1.5.0",
          "state": {
            "_model_module": "@jupyter-widgets/controls",
            "_model_module_version": "1.5.0",
            "_model_name": "DescriptionStyleModel",
            "_view_count": null,
            "_view_module": "@jupyter-widgets/base",
            "_view_module_version": "1.2.0",
            "_view_name": "StyleView",
            "description_width": ""
          }
        },
        "8d7b14a78a4941bbbb65fd25f695285d": {
          "model_module": "@jupyter-widgets/controls",
          "model_name": "TextModel",
          "model_module_version": "1.5.0",
          "state": {
            "_dom_classes": [],
            "_model_module": "@jupyter-widgets/controls",
            "_model_module_version": "1.5.0",
            "_model_name": "TextModel",
            "_view_count": null,
            "_view_module": "@jupyter-widgets/controls",
            "_view_module_version": "1.5.0",
            "_view_name": "TextView",
            "continuous_update": true,
            "description": "Enter city:",
            "description_tooltip": null,
            "disabled": false,
            "layout": "IPY_MODEL_7a88add2ca1d4a29ade79c260bf1efac",
            "placeholder": "Type city",
            "style": "IPY_MODEL_759edb5e24a742868c1d8dc35e47fdb3",
            "value": ""
          }
        },
        "7a88add2ca1d4a29ade79c260bf1efac": {
          "model_module": "@jupyter-widgets/base",
          "model_name": "LayoutModel",
          "model_module_version": "1.2.0",
          "state": {
            "_model_module": "@jupyter-widgets/base",
            "_model_module_version": "1.2.0",
            "_model_name": "LayoutModel",
            "_view_count": null,
            "_view_module": "@jupyter-widgets/base",
            "_view_module_version": "1.2.0",
            "_view_name": "LayoutView",
            "align_content": null,
            "align_items": null,
            "align_self": null,
            "border": null,
            "bottom": null,
            "display": null,
            "flex": null,
            "flex_flow": null,
            "grid_area": null,
            "grid_auto_columns": null,
            "grid_auto_flow": null,
            "grid_auto_rows": null,
            "grid_column": null,
            "grid_gap": null,
            "grid_row": null,
            "grid_template_areas": null,
            "grid_template_columns": null,
            "grid_template_rows": null,
            "height": null,
            "justify_content": null,
            "justify_items": null,
            "left": null,
            "margin": null,
            "max_height": null,
            "max_width": null,
            "min_height": null,
            "min_width": null,
            "object_fit": null,
            "object_position": null,
            "order": null,
            "overflow": null,
            "overflow_x": null,
            "overflow_y": null,
            "padding": null,
            "right": null,
            "top": null,
            "visibility": null,
            "width": null
          }
        },
        "759edb5e24a742868c1d8dc35e47fdb3": {
          "model_module": "@jupyter-widgets/controls",
          "model_name": "DescriptionStyleModel",
          "model_module_version": "1.5.0",
          "state": {
            "_model_module": "@jupyter-widgets/controls",
            "_model_module_version": "1.5.0",
            "_model_name": "DescriptionStyleModel",
            "_view_count": null,
            "_view_module": "@jupyter-widgets/base",
            "_view_module_version": "1.2.0",
            "_view_name": "StyleView",
            "description_width": ""
          }
        },
        "0782471fbd6c4f1cb5ee5db25be736d1": {
          "model_module": "@jupyter-widgets/controls",
          "model_name": "ButtonModel",
          "model_module_version": "1.5.0",
          "state": {
            "_dom_classes": [],
            "_model_module": "@jupyter-widgets/controls",
            "_model_module_version": "1.5.0",
            "_model_name": "ButtonModel",
            "_view_count": null,
            "_view_module": "@jupyter-widgets/controls",
            "_view_module_version": "1.5.0",
            "_view_name": "ButtonView",
            "button_style": "",
            "description": "Add new P",
            "disabled": false,
            "icon": "",
            "layout": "IPY_MODEL_aa6be27310c44f5ba06367ac5cabb2aa",
            "style": "IPY_MODEL_ae1b425e68c6403bb81569bb7bbbacb3",
            "tooltip": ""
          }
        },
        "aa6be27310c44f5ba06367ac5cabb2aa": {
          "model_module": "@jupyter-widgets/base",
          "model_name": "LayoutModel",
          "model_module_version": "1.2.0",
          "state": {
            "_model_module": "@jupyter-widgets/base",
            "_model_module_version": "1.2.0",
            "_model_name": "LayoutModel",
            "_view_count": null,
            "_view_module": "@jupyter-widgets/base",
            "_view_module_version": "1.2.0",
            "_view_name": "LayoutView",
            "align_content": null,
            "align_items": null,
            "align_self": null,
            "border": null,
            "bottom": null,
            "display": null,
            "flex": null,
            "flex_flow": null,
            "grid_area": null,
            "grid_auto_columns": null,
            "grid_auto_flow": null,
            "grid_auto_rows": null,
            "grid_column": null,
            "grid_gap": null,
            "grid_row": null,
            "grid_template_areas": null,
            "grid_template_columns": null,
            "grid_template_rows": null,
            "height": null,
            "justify_content": null,
            "justify_items": null,
            "left": null,
            "margin": null,
            "max_height": null,
            "max_width": null,
            "min_height": null,
            "min_width": null,
            "object_fit": null,
            "object_position": null,
            "order": null,
            "overflow": null,
            "overflow_x": null,
            "overflow_y": null,
            "padding": null,
            "right": null,
            "top": null,
            "visibility": null,
            "width": null
          }
        },
        "ae1b425e68c6403bb81569bb7bbbacb3": {
          "model_module": "@jupyter-widgets/controls",
          "model_name": "ButtonStyleModel",
          "model_module_version": "1.5.0",
          "state": {
            "_model_module": "@jupyter-widgets/controls",
            "_model_module_version": "1.5.0",
            "_model_name": "ButtonStyleModel",
            "_view_count": null,
            "_view_module": "@jupyter-widgets/base",
            "_view_module_version": "1.2.0",
            "_view_name": "StyleView",
            "button_color": null,
            "font_weight": ""
          }
        },
        "b868dc92db2f46e18695bbc3d35e1114": {
          "model_module": "@jupyter-widgets/controls",
          "model_name": "ButtonModel",
          "model_module_version": "1.5.0",
          "state": {
            "_dom_classes": [],
            "_model_module": "@jupyter-widgets/controls",
            "_model_module_version": "1.5.0",
            "_model_name": "ButtonModel",
            "_view_count": null,
            "_view_module": "@jupyter-widgets/controls",
            "_view_module_version": "1.5.0",
            "_view_name": "ButtonView",
            "button_style": "",
            "description": "Choose S",
            "disabled": false,
            "icon": "",
            "layout": "IPY_MODEL_6804bb29d9454749a0aab9d7cf6b1565",
            "style": "IPY_MODEL_11afcb7b8bf84db6aa6a8a4dd4ab9931",
            "tooltip": ""
          }
        },
        "6804bb29d9454749a0aab9d7cf6b1565": {
          "model_module": "@jupyter-widgets/base",
          "model_name": "LayoutModel",
          "model_module_version": "1.2.0",
          "state": {
            "_model_module": "@jupyter-widgets/base",
            "_model_module_version": "1.2.0",
            "_model_name": "LayoutModel",
            "_view_count": null,
            "_view_module": "@jupyter-widgets/base",
            "_view_module_version": "1.2.0",
            "_view_name": "LayoutView",
            "align_content": null,
            "align_items": null,
            "align_self": null,
            "border": null,
            "bottom": null,
            "display": null,
            "flex": null,
            "flex_flow": null,
            "grid_area": null,
            "grid_auto_columns": null,
            "grid_auto_flow": null,
            "grid_auto_rows": null,
            "grid_column": null,
            "grid_gap": null,
            "grid_row": null,
            "grid_template_areas": null,
            "grid_template_columns": null,
            "grid_template_rows": null,
            "height": null,
            "justify_content": null,
            "justify_items": null,
            "left": null,
            "margin": null,
            "max_height": null,
            "max_width": null,
            "min_height": null,
            "min_width": null,
            "object_fit": null,
            "object_position": null,
            "order": null,
            "overflow": null,
            "overflow_x": null,
            "overflow_y": null,
            "padding": null,
            "right": null,
            "top": null,
            "visibility": null,
            "width": null
          }
        },
        "11afcb7b8bf84db6aa6a8a4dd4ab9931": {
          "model_module": "@jupyter-widgets/controls",
          "model_name": "ButtonStyleModel",
          "model_module_version": "1.5.0",
          "state": {
            "_model_module": "@jupyter-widgets/controls",
            "_model_module_version": "1.5.0",
            "_model_name": "ButtonStyleModel",
            "_view_count": null,
            "_view_module": "@jupyter-widgets/base",
            "_view_module_version": "1.2.0",
            "_view_name": "StyleView",
            "button_color": null,
            "font_weight": ""
          }
        }
      }
    }
  },
  "nbformat": 4,
  "nbformat_minor": 0
}
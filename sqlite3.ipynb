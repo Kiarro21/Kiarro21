{
  "cells": [
    {
      "cell_type": "markdown",
      "metadata": {
        "id": "view-in-github",
        "colab_type": "text"
      },
      "source": [
        "<a href=\"https://colab.research.google.com/github/Kiarro21/Kiarro21/blob/main/sqlite3.ipynb\" target=\"_parent\"><img src=\"https://colab.research.google.com/assets/colab-badge.svg\" alt=\"Open In Colab\"/></a>"
      ]
    },
    {
      "cell_type": "code",
      "source": [
        "import sqlite3\n",
        "\n",
        "conn = sqlite3.connect(\"mydatabase.db\")\n",
        "cursor = conn.cursor()\n",
        "\n",
        "createTB1 = \"\"\"CREATE TABLE S\n",
        "            (s text NOT NULL,\n",
        "             sname text NOT NULL,\n",
        "             status text,\n",
        "             city text,\n",
        "             PRIMARY KEY (s))\"\"\"\n",
        "\n",
        "createTB2 = \"\"\"CREATE TABLE P\n",
        "            (p text NOT NULL,\n",
        "             pname text NOT NULL,\n",
        "             weight int,\n",
        "             color text,\n",
        "             city text,\n",
        "             PRIMARY KEY (p))\"\"\"\n",
        "\n",
        "createTB3 = \"\"\"CREATE TABLE SP\n",
        "            (n int NOT NULL,\n",
        "             s text NOT NULL,\n",
        "             p text NOT NULL,\n",
        "             qty int,\n",
        "             PRIMARY KEY (n),\n",
        "             FOREIGN KEY (s) REFERENCES S(s),\n",
        "             FOREIGN KEY (p) REFERENCES P(p))\"\"\"\n",
        "\n",
        "#cursor.execute(createTB1)\n",
        "#cursor.execute(createTB2)\n",
        "#cursor.execute(createTB3)\n",
        "\n",
        "addData1 = \"\"\"INSERT INTO S VALUES \n",
        "          ('S1', 'Аракелян', 'Активен', 'Майкоп'),\n",
        "          ('S2', 'Тлюстангелов', 'Не активен', 'Краснодар'),\n",
        "          ('S3', 'Архипов', 'Активен', 'Нальчик')\"\"\"\n",
        "\n",
        "addData2 = \"\"\"INSERT INTO P VALUES \n",
        "          ('P1', 'Деталь 1', 150, 'Красный', 'Сочи'),\n",
        "          ('P2', 'Деталь 2', 250, 'Синий', 'Армавир'),\n",
        "          ('P3', 'Деталь 3', 175, 'Жёлтый', 'Курганинск')\"\"\"\n",
        "\n",
        "addData3 = \"\"\"INSERT INTO SP VALUES \n",
        "          (1, 'S2', 'P3', 10),\n",
        "          (2, 'S1', 'P2', 12),\n",
        "          (3, 'S3', 'P1', 8)\"\"\"\n",
        "          \n",
        "#cursor.execute(addData1)\n",
        "#cursor.execute(addData2)\n",
        "#cursor.execute(addData3)\n",
        "\n",
        "conn.commit()"
      ],
      "metadata": {
        "id": "Zn5kolOXJWp3"
      },
      "execution_count": 56,
      "outputs": []
    },
    {
      "cell_type": "code",
      "source": [
        "selectTB1 = \"\"\"SELECT *\n",
        "            FROM S\n",
        "            \"\"\"\n",
        "\n",
        "selectTB2 = \"\"\"SELECT *\n",
        "            FROM P\n",
        "            \"\"\"\n",
        "selectTB3 = \"\"\"SELECT *\n",
        "            FROM SP\n",
        "            \"\"\"\n",
        "\n",
        "cursor.execute(selectTB1)\n",
        "rows = cursor.fetchall()\n",
        " \n",
        "for row in rows:\n",
        "    print (row)\n",
        "print ('\\n')\n",
        "\n",
        "cursor.execute(selectTB2)\n",
        "rows = cursor.fetchall()\n",
        " \n",
        "for row in rows:\n",
        "    print (row)\n",
        "print ('\\n')\n",
        "\n",
        "\n",
        "cursor.execute(selectTB3)\n",
        "rows = cursor.fetchall()\n",
        " \n",
        "for row in rows:\n",
        "    print (row)\n",
        "print ('\\n')"
      ],
      "metadata": {
        "colab": {
          "base_uri": "https://localhost:8080/"
        },
        "id": "GXwS7D1PdQ5i",
        "outputId": "823485a5-df2f-443a-b71e-801af3bb7fa0"
      },
      "execution_count": 57,
      "outputs": [
        {
          "output_type": "stream",
          "name": "stdout",
          "text": [
            "('S1', 'Аракелян', 'Активен', 'Майкоп')\n",
            "('S2', 'Тлюстангелов', 'Не активен', 'Краснодар')\n",
            "('S3', 'Архипов', 'Активен', 'Нальчик')\n",
            "\n",
            "\n",
            "('P1', 'Деталь 1', 150, 'Красный', 'Сочи')\n",
            "('P2', 'Деталь 2', 250, 'Синий', 'Армавир')\n",
            "('P3', 'Деталь 3', 175, 'Жёлтый', 'Курганинск')\n",
            "\n",
            "\n",
            "(1, 'S2', 'P3', 10)\n",
            "(2, 'S1', 'P2', 12)\n",
            "(3, 'S3', 'P1', 8)\n",
            "\n",
            "\n"
          ]
        }
      ]
    },
    {
      "cell_type": "code",
      "source": [
        "import ipywidgets as widgets\n",
        "\n",
        "def tbSelect(event):\n",
        "  cursor.execute(\"SELECT * FROM '\"+tbSel.value+\"'\"\"\")\n",
        "  for i in cursor.fetchall():\n",
        "    print(i)\n",
        "\n",
        "\n",
        "\n",
        "\n",
        "tbSel = widgets.Select(\n",
        "        options=['S', 'P', 'SP'],\n",
        "        value='S',\n",
        "        rows=3,\n",
        "        description='',\n",
        "        disabled=False\n",
        ")\n",
        "display(tbSel)\n",
        "tdBtnSel = widgets.Button(description='Choose the table')\n",
        "display(tdBtnSel)\n",
        "tdBtnSel.on_click(tbSelect)\n",
        "\n"
      ],
      "metadata": {
        "colab": {
          "base_uri": "https://localhost:8080/",
          "height": 162,
          "referenced_widgets": [
            "ec449de1142b400393f5e2356dcf6c5b",
            "e6619979f2004f2887e61bf24a23ec34",
            "647c265af2164404b7b07e83cd37ba3f",
            "c70b7546bf9646ce8ee2d27e3b62a767",
            "7b06576929c546d19be42d5d3899cc70",
            "354deb1f003f4978bd8726a320443fe4"
          ]
        },
        "id": "xhZapbhXtaXF",
        "outputId": "348fbcb3-7962-42fb-d50e-c5042eab5e6a"
      },
      "execution_count": 67,
      "outputs": [
        {
          "output_type": "display_data",
          "data": {
            "text/plain": [
              "Select(options=('S', 'P', 'SP'), rows=3, value='S')"
            ],
            "application/vnd.jupyter.widget-view+json": {
              "version_major": 2,
              "version_minor": 0,
              "model_id": "ec449de1142b400393f5e2356dcf6c5b"
            }
          },
          "metadata": {}
        },
        {
          "output_type": "display_data",
          "data": {
            "text/plain": [
              "Button(description='Choose the table', style=ButtonStyle())"
            ],
            "application/vnd.jupyter.widget-view+json": {
              "version_major": 2,
              "version_minor": 0,
              "model_id": "c70b7546bf9646ce8ee2d27e3b62a767"
            }
          },
          "metadata": {}
        },
        {
          "output_type": "stream",
          "name": "stdout",
          "text": [
            "(1, 'S2', 'P3', 10)\n",
            "(2, 'S1', 'P2', 12)\n",
            "(3, 'S3', 'P1', 8)\n"
          ]
        }
      ]
    },
    {
      "cell_type": "markdown",
      "source": [
        "1. Добавление поставщика"
      ],
      "metadata": {
        "id": "j6Kg5sSbXFfx"
      }
    },
    {
      "cell_type": "code",
      "source": [
        "def addData(event):\n",
        "  cursor.execute(\"INSERT INTO S VALUES (?, ?, ?, ?)\",(t1.value,t2.value,t3.value,t4.value))\n",
        "\n",
        "\n",
        "t1 = widgets.Text(\n",
        "    value='',\n",
        "    placeholder='Type something',\n",
        "    description='Enter s:',\n",
        "    disabled=False\n",
        ")\n",
        "t2 = widgets.Text(\n",
        "    value='',\n",
        "    placeholder='Type something',\n",
        "    description='Enter sname:',\n",
        "    disabled=False\n",
        ")\n",
        "t3 = widgets.Dropdown(\n",
        "    options=['Активный', 'Не активный'],\n",
        "    value='Активный',\n",
        "    description='Choose status:',\n",
        ")\n",
        "t4 = widgets.Text(\n",
        "    value='',\n",
        "    placeholder='Type something',\n",
        "    description='Enter city:',\n",
        "    disabled=False\n",
        ")"
      ],
      "metadata": {
        "id": "RonlTTnPJV33"
      },
      "execution_count": 66,
      "outputs": []
    }
  ],
  "metadata": {
    "colab": {
      "collapsed_sections": [],
      "name": "Добро пожаловать в Colaboratory!",
      "provenance": [],
      "include_colab_link": true
    },
    "kernelspec": {
      "display_name": "Python 3",
      "name": "python3"
    },
    "widgets": {
      "application/vnd.jupyter.widget-state+json": {
        "ec449de1142b400393f5e2356dcf6c5b": {
          "model_module": "@jupyter-widgets/controls",
          "model_name": "SelectModel",
          "model_module_version": "1.5.0",
          "state": {
            "_dom_classes": [],
            "_model_module": "@jupyter-widgets/controls",
            "_model_module_version": "1.5.0",
            "_model_name": "SelectModel",
            "_options_labels": [
              "S",
              "P",
              "SP"
            ],
            "_view_count": null,
            "_view_module": "@jupyter-widgets/controls",
            "_view_module_version": "1.5.0",
            "_view_name": "SelectView",
            "description": "",
            "description_tooltip": null,
            "disabled": false,
            "index": 2,
            "layout": "IPY_MODEL_e6619979f2004f2887e61bf24a23ec34",
            "rows": 3,
            "style": "IPY_MODEL_647c265af2164404b7b07e83cd37ba3f"
          }
        },
        "e6619979f2004f2887e61bf24a23ec34": {
          "model_module": "@jupyter-widgets/base",
          "model_name": "LayoutModel",
          "model_module_version": "1.2.0",
          "state": {
            "_model_module": "@jupyter-widgets/base",
            "_model_module_version": "1.2.0",
            "_model_name": "LayoutModel",
            "_view_count": null,
            "_view_module": "@jupyter-widgets/base",
            "_view_module_version": "1.2.0",
            "_view_name": "LayoutView",
            "align_content": null,
            "align_items": null,
            "align_self": null,
            "border": null,
            "bottom": null,
            "display": null,
            "flex": null,
            "flex_flow": null,
            "grid_area": null,
            "grid_auto_columns": null,
            "grid_auto_flow": null,
            "grid_auto_rows": null,
            "grid_column": null,
            "grid_gap": null,
            "grid_row": null,
            "grid_template_areas": null,
            "grid_template_columns": null,
            "grid_template_rows": null,
            "height": null,
            "justify_content": null,
            "justify_items": null,
            "left": null,
            "margin": null,
            "max_height": null,
            "max_width": null,
            "min_height": null,
            "min_width": null,
            "object_fit": null,
            "object_position": null,
            "order": null,
            "overflow": null,
            "overflow_x": null,
            "overflow_y": null,
            "padding": null,
            "right": null,
            "top": null,
            "visibility": null,
            "width": null
          }
        },
        "647c265af2164404b7b07e83cd37ba3f": {
          "model_module": "@jupyter-widgets/controls",
          "model_name": "DescriptionStyleModel",
          "model_module_version": "1.5.0",
          "state": {
            "_model_module": "@jupyter-widgets/controls",
            "_model_module_version": "1.5.0",
            "_model_name": "DescriptionStyleModel",
            "_view_count": null,
            "_view_module": "@jupyter-widgets/base",
            "_view_module_version": "1.2.0",
            "_view_name": "StyleView",
            "description_width": ""
          }
        },
        "c70b7546bf9646ce8ee2d27e3b62a767": {
          "model_module": "@jupyter-widgets/controls",
          "model_name": "ButtonModel",
          "model_module_version": "1.5.0",
          "state": {
            "_dom_classes": [],
            "_model_module": "@jupyter-widgets/controls",
            "_model_module_version": "1.5.0",
            "_model_name": "ButtonModel",
            "_view_count": null,
            "_view_module": "@jupyter-widgets/controls",
            "_view_module_version": "1.5.0",
            "_view_name": "ButtonView",
            "button_style": "",
            "description": "Choose the table",
            "disabled": false,
            "icon": "",
            "layout": "IPY_MODEL_7b06576929c546d19be42d5d3899cc70",
            "style": "IPY_MODEL_354deb1f003f4978bd8726a320443fe4",
            "tooltip": ""
          }
        },
        "7b06576929c546d19be42d5d3899cc70": {
          "model_module": "@jupyter-widgets/base",
          "model_name": "LayoutModel",
          "model_module_version": "1.2.0",
          "state": {
            "_model_module": "@jupyter-widgets/base",
            "_model_module_version": "1.2.0",
            "_model_name": "LayoutModel",
            "_view_count": null,
            "_view_module": "@jupyter-widgets/base",
            "_view_module_version": "1.2.0",
            "_view_name": "LayoutView",
            "align_content": null,
            "align_items": null,
            "align_self": null,
            "border": null,
            "bottom": null,
            "display": null,
            "flex": null,
            "flex_flow": null,
            "grid_area": null,
            "grid_auto_columns": null,
            "grid_auto_flow": null,
            "grid_auto_rows": null,
            "grid_column": null,
            "grid_gap": null,
            "grid_row": null,
            "grid_template_areas": null,
            "grid_template_columns": null,
            "grid_template_rows": null,
            "height": null,
            "justify_content": null,
            "justify_items": null,
            "left": null,
            "margin": null,
            "max_height": null,
            "max_width": null,
            "min_height": null,
            "min_width": null,
            "object_fit": null,
            "object_position": null,
            "order": null,
            "overflow": null,
            "overflow_x": null,
            "overflow_y": null,
            "padding": null,
            "right": null,
            "top": null,
            "visibility": null,
            "width": null
          }
        },
        "354deb1f003f4978bd8726a320443fe4": {
          "model_module": "@jupyter-widgets/controls",
          "model_name": "ButtonStyleModel",
          "model_module_version": "1.5.0",
          "state": {
            "_model_module": "@jupyter-widgets/controls",
            "_model_module_version": "1.5.0",
            "_model_name": "ButtonStyleModel",
            "_view_count": null,
            "_view_module": "@jupyter-widgets/base",
            "_view_module_version": "1.2.0",
            "_view_name": "StyleView",
            "button_color": null,
            "font_weight": ""
          }
        }
      }
    }
  },
  "nbformat": 4,
  "nbformat_minor": 0
}
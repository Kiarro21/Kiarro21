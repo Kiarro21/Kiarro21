{
  "cells": [
    {
      "cell_type": "markdown",
      "metadata": {
        "id": "view-in-github",
        "colab_type": "text"
      },
      "source": [
        "<a href=\"https://colab.research.google.com/github/Kiarro21/Kiarro21/blob/main/sqlite3.ipynb\" target=\"_parent\"><img src=\"https://colab.research.google.com/assets/colab-badge.svg\" alt=\"Open In Colab\"/></a>"
      ]
    },
    {
      "cell_type": "code",
      "source": [
        "import sqlite3\n",
        "\n",
        "conn = sqlite3.connect(\"mydatabase.db\")\n",
        "cursor = conn.cursor()\n",
        "\n",
        "createTB1 = \"\"\"CREATE TABLE Students\n",
        "            (number int ,\n",
        "             fio text,\n",
        "             phone_number text,\n",
        "             PRIMARY KEY (number))\"\"\"\n",
        "\n",
        "createTB2 = \"\"\"CREATE TABLE Teachers\n",
        "            (number text,\n",
        "             fio text,\n",
        "              text,\n",
        "             publisher text,\n",
        "             media_type text)\"\"\"\n",
        "\n",
        "createTB1 = \"\"\"CREATE TABLE Subjects\n",
        "            (title text,\n",
        "             artist text,\n",
        "             release_date text,\n",
        "             publisher text,\n",
        "             media_type text)\"\"\"\n",
        "\n",
        "cursor.execute(createTB1)\n",
        "\n",
        "addData = \"\"\"INSERT INTO albums\n",
        "            VALUES (\"Hello\", \"Arhipov\", \"21.02.2020\", \"Xpole Records\", \"MP3\")\n",
        "          \"\"\"\n",
        "\n",
        "cursor.execute(addData)\n",
        "conn.commit()"
      ],
      "metadata": {
        "id": "Zn5kolOXJWp3"
      },
      "execution_count": 7,
      "outputs": []
    }
  ],
  "metadata": {
    "colab": {
      "collapsed_sections": [],
      "name": "Добро пожаловать в Colaboratory!",
      "provenance": [],
      "include_colab_link": true
    },
    "kernelspec": {
      "display_name": "Python 3",
      "name": "python3"
    }
  },
  "nbformat": 4,
  "nbformat_minor": 0
}
{
  "cells": [
    {
      "cell_type": "markdown",
      "metadata": {
        "id": "view-in-github",
        "colab_type": "text"
      },
      "source": [
        "<a href=\"https://colab.research.google.com/github/Kiarro21/Kiarro21/blob/main/sqlite3.ipynb\" target=\"_parent\"><img src=\"https://colab.research.google.com/assets/colab-badge.svg\" alt=\"Open In Colab\"/></a>"
      ]
    },
    {
      "cell_type": "code",
      "source": [
        "import sqlite3\n",
        "\n",
        "conn = sqlite3.connect(\"mydatabase.db\")\n",
        "cursor = conn.cursor()\n",
        "\n",
        "createTB1 = \"\"\"CREATE TABLE Students\n",
        "            (number int NOT NULL,\n",
        "             fio text NOT NULL,\n",
        "             phone_number text,\n",
        "             PRIMARY KEY (number))\"\"\"\n",
        "\n",
        "createTB2 = \"\"\"CREATE TABLE Teachers\n",
        "            (number int NOT NULL,\n",
        "             fio text NOT NULL,\n",
        "             phone_number text NOT NULL,\n",
        "             sub_num int,\n",
        "             PRIMARY KEY (number)),\n",
        "             FOREING KEY (sub_num) REFERENCES Subjects(sub_num)\"\"\"\n",
        "\n",
        "createTB3 = \"\"\"CREATE TABLE Subjects\n",
        "            (sub_num int ,\n",
        "             fio text,\n",
        "             phone_number text,\n",
        "             PRIMARY KEY (number))\"\"\"\n",
        "\n",
        "addData = \"\"\"INSERT INTO Students\n",
        "          VALUES ('1', 'Аракелян', '+79182269363')\"\"\"\n",
        "\n",
        "\n",
        "cursor.execute(addData)\n",
        "conn.commit()"
      ],
      "metadata": {
        "id": "Zn5kolOXJWp3",
        "outputId": "e4ed9185-06a0-45e9-b2a1-85dce1850f7d",
        "colab": {
          "base_uri": "https://localhost:8080/",
          "height": 218
        }
      },
      "execution_count": 15,
      "outputs": [
        {
          "output_type": "error",
          "ename": "DatabaseError",
          "evalue": "ignored",
          "traceback": [
            "\u001b[0;31m---------------------------------------------------------------------------\u001b[0m",
            "\u001b[0;31mDatabaseError\u001b[0m                             Traceback (most recent call last)",
            "\u001b[0;32m<ipython-input-15-34f14696aaf8>\u001b[0m in \u001b[0;36m<module>\u001b[0;34m()\u001b[0m\n\u001b[1;32m     28\u001b[0m \u001b[0;34m\u001b[0m\u001b[0m\n\u001b[1;32m     29\u001b[0m \u001b[0;34m\u001b[0m\u001b[0m\n\u001b[0;32m---> 30\u001b[0;31m \u001b[0mcursor\u001b[0m\u001b[0;34m.\u001b[0m\u001b[0mexecute\u001b[0m\u001b[0;34m(\u001b[0m\u001b[0maddData\u001b[0m\u001b[0;34m)\u001b[0m\u001b[0;34m\u001b[0m\u001b[0;34m\u001b[0m\u001b[0m\n\u001b[0m\u001b[1;32m     31\u001b[0m \u001b[0mconn\u001b[0m\u001b[0;34m.\u001b[0m\u001b[0mcommit\u001b[0m\u001b[0;34m(\u001b[0m\u001b[0;34m)\u001b[0m\u001b[0;34m\u001b[0m\u001b[0;34m\u001b[0m\u001b[0m\n",
            "\u001b[0;31mDatabaseError\u001b[0m: database disk image is malformed"
          ]
        }
      ]
    }
  ],
  "metadata": {
    "colab": {
      "collapsed_sections": [],
      "name": "Добро пожаловать в Colaboratory!",
      "provenance": [],
      "include_colab_link": true
    },
    "kernelspec": {
      "display_name": "Python 3",
      "name": "python3"
    }
  },
  "nbformat": 4,
  "nbformat_minor": 0
}